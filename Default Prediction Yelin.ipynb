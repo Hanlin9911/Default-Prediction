{
 "cells": [
  {
   "cell_type": "markdown",
   "metadata": {},
   "source": [
    "# Default Prediction Yelin"
   ]
  },
  {
   "cell_type": "code",
   "execution_count": 139,
   "metadata": {},
   "outputs": [],
   "source": [
    "# Basic Import\n",
    "import pandas as pd\n",
    "import numpy as np\n",
    "import seaborn as sns\n",
    "import matplotlib.pyplot as plt\n",
    "\n",
    "# Preprocessing & Pipelines\n",
    "from sklearn.model_selection import train_test_split, GridSearchCV\n",
    "from sklearn.preprocessing import StandardScaler, OneHotEncoder,PolynomialFeatures\n",
    "from sklearn.compose import ColumnTransformer\n",
    "from sklearn.pipeline import Pipeline\n",
    "\n",
    "\n",
    "# # If not already installed\n",
    "# pip install category_encoders\n",
    "# pip install optbinning\n",
    "import category_encoders as ce\n",
    "from optbinning import BinningProcess, OptimalBinning\n",
    "from category_encoders.woe import WOEEncoder\n",
    "\n",
    "# Models\n",
    "from sklearn.neighbors import KNeighborsClassifier\n",
    "from sklearn.linear_model import LogisticRegression\n",
    "from sklearn.ensemble import RandomForestClassifier\n",
    "\n",
    "# Evaluation metrics\n",
    "from sklearn.metrics import (\n",
    "    mean_squared_error, \n",
    "    mean_absolute_error,\n",
    "    classification_report,\n",
    "    confusion_matrix,\n",
    "    ConfusionMatrixDisplay,\n",
    "    recall_score,\n",
    "    precision_score,\n",
    "    accuracy_score,\n",
    "    make_scorer,\n",
    "    roc_auc_score\n",
    ")\n",
    "\n",
    "# Import param_tuning, testing and evaluating\n",
    "import sys\n",
    "sys.path.append('D:\\Courses for future\\Concordia Bootcamp\\Projects\\Project 5')\n",
    "from Testing import testing,param_tuning,evaluating,weighted_recall_precision\n",
    "\n",
    "# Import pretrained model/preprocessor\n",
    "import joblib\n",
    "\n",
    "# Set theme\n",
    "plt.rcParams['axes.grid'] = False\n",
    "sns.set_theme(style=\"dark\")"
   ]
  },
  {
   "cell_type": "markdown",
   "metadata": {},
   "source": [
    "## Data at a glance\n",
    "`risk` dataset was downloaded from [Loan Default Precition](https://www.kaggle.com/datasets/prakashraushan/loan-dataset). There are 12 columns, including `Current_loan_status` as the target column, which has the values of `DEFAULT` and `NO DEFAULT`.   \n",
    "The remaining 11 columns/features can be divided into 2 categories:\n",
    "1. Customer Label - `customer_id`, `customer_age`, `customer_income`, `home_ownership`, `employment_duration`, `historical_deafult`, `cred_hist_length`\n",
    "2. Loan Label - `loan_intent`, `loan_grade`, `loan_int_rate`, `term_years`"
   ]
  },
  {
   "cell_type": "code",
   "execution_count": 140,
   "metadata": {},
   "outputs": [
    {
     "data": {
      "text/html": [
       "<div>\n",
       "<style scoped>\n",
       "    .dataframe tbody tr th:only-of-type {\n",
       "        vertical-align: middle;\n",
       "    }\n",
       "\n",
       "    .dataframe tbody tr th {\n",
       "        vertical-align: top;\n",
       "    }\n",
       "\n",
       "    .dataframe thead th {\n",
       "        text-align: right;\n",
       "    }\n",
       "</style>\n",
       "<table border=\"1\" class=\"dataframe\">\n",
       "  <thead>\n",
       "    <tr style=\"text-align: right;\">\n",
       "      <th></th>\n",
       "      <th>customer_id</th>\n",
       "      <th>customer_age</th>\n",
       "      <th>customer_income</th>\n",
       "      <th>home_ownership</th>\n",
       "      <th>employment_duration</th>\n",
       "      <th>loan_intent</th>\n",
       "      <th>loan_grade</th>\n",
       "      <th>loan_amnt</th>\n",
       "      <th>loan_int_rate</th>\n",
       "      <th>term_years</th>\n",
       "      <th>historical_default</th>\n",
       "      <th>cred_hist_length</th>\n",
       "      <th>Current_loan_status</th>\n",
       "    </tr>\n",
       "  </thead>\n",
       "  <tbody>\n",
       "    <tr>\n",
       "      <th>17374</th>\n",
       "      <td>17371.0</td>\n",
       "      <td>22</td>\n",
       "      <td>61200</td>\n",
       "      <td>MORTGAGE</td>\n",
       "      <td>6.0</td>\n",
       "      <td>MEDICAL</td>\n",
       "      <td>D</td>\n",
       "      <td>£16,000.00</td>\n",
       "      <td>16.45</td>\n",
       "      <td>2</td>\n",
       "      <td>N</td>\n",
       "      <td>4</td>\n",
       "      <td>DEFAULT</td>\n",
       "    </tr>\n",
       "    <tr>\n",
       "      <th>3116</th>\n",
       "      <td>3115.0</td>\n",
       "      <td>22</td>\n",
       "      <td>18000</td>\n",
       "      <td>RENT</td>\n",
       "      <td>0.0</td>\n",
       "      <td>VENTURE</td>\n",
       "      <td>B</td>\n",
       "      <td>£3,500.00</td>\n",
       "      <td>13.48</td>\n",
       "      <td>2</td>\n",
       "      <td>Y</td>\n",
       "      <td>2</td>\n",
       "      <td>DEFAULT</td>\n",
       "    </tr>\n",
       "    <tr>\n",
       "      <th>31697</th>\n",
       "      <td>31693.0</td>\n",
       "      <td>37</td>\n",
       "      <td>123000</td>\n",
       "      <td>MORTGAGE</td>\n",
       "      <td>1.0</td>\n",
       "      <td>PERSONAL</td>\n",
       "      <td>C</td>\n",
       "      <td>£35,000.00</td>\n",
       "      <td>14.27</td>\n",
       "      <td>7</td>\n",
       "      <td>Y</td>\n",
       "      <td>16</td>\n",
       "      <td>NO DEFAULT</td>\n",
       "    </tr>\n",
       "    <tr>\n",
       "      <th>31289</th>\n",
       "      <td>31285.0</td>\n",
       "      <td>42</td>\n",
       "      <td>85000</td>\n",
       "      <td>MORTGAGE</td>\n",
       "      <td>10.0</td>\n",
       "      <td>HOMEIMPROVEMENT</td>\n",
       "      <td>D</td>\n",
       "      <td>£8,500.00</td>\n",
       "      <td>15.58</td>\n",
       "      <td>2</td>\n",
       "      <td>Y</td>\n",
       "      <td>12</td>\n",
       "      <td>NO DEFAULT</td>\n",
       "    </tr>\n",
       "    <tr>\n",
       "      <th>18305</th>\n",
       "      <td>18302.0</td>\n",
       "      <td>33</td>\n",
       "      <td>47580</td>\n",
       "      <td>RENT</td>\n",
       "      <td>12.0</td>\n",
       "      <td>PERSONAL</td>\n",
       "      <td>B</td>\n",
       "      <td>£21,000.00</td>\n",
       "      <td>NaN</td>\n",
       "      <td>3</td>\n",
       "      <td>N</td>\n",
       "      <td>8</td>\n",
       "      <td>DEFAULT</td>\n",
       "    </tr>\n",
       "  </tbody>\n",
       "</table>\n",
       "</div>"
      ],
      "text/plain": [
       "       customer_id  customer_age customer_income home_ownership  \\\n",
       "17374      17371.0            22           61200       MORTGAGE   \n",
       "3116        3115.0            22           18000           RENT   \n",
       "31697      31693.0            37          123000       MORTGAGE   \n",
       "31289      31285.0            42           85000       MORTGAGE   \n",
       "18305      18302.0            33           47580           RENT   \n",
       "\n",
       "       employment_duration      loan_intent loan_grade   loan_amnt  \\\n",
       "17374                  6.0          MEDICAL          D  £16,000.00   \n",
       "3116                   0.0          VENTURE          B   £3,500.00   \n",
       "31697                  1.0         PERSONAL          C  £35,000.00   \n",
       "31289                 10.0  HOMEIMPROVEMENT          D   £8,500.00   \n",
       "18305                 12.0         PERSONAL          B  £21,000.00   \n",
       "\n",
       "       loan_int_rate  term_years historical_default  cred_hist_length  \\\n",
       "17374          16.45           2                  N                 4   \n",
       "3116           13.48           2                  Y                 2   \n",
       "31697          14.27           7                  Y                16   \n",
       "31289          15.58           2                  Y                12   \n",
       "18305            NaN           3                  N                 8   \n",
       "\n",
       "      Current_loan_status  \n",
       "17374             DEFAULT  \n",
       "3116              DEFAULT  \n",
       "31697          NO DEFAULT  \n",
       "31289          NO DEFAULT  \n",
       "18305             DEFAULT  "
      ]
     },
     "execution_count": 140,
     "metadata": {},
     "output_type": "execute_result"
    }
   ],
   "source": [
    "risk = pd.read_csv('Loans.csv')\n",
    "risk.sample(5)"
   ]
  },
  {
   "cell_type": "code",
   "execution_count": 141,
   "metadata": {},
   "outputs": [
    {
     "name": "stdout",
     "output_type": "stream",
     "text": [
      "<class 'pandas.core.frame.DataFrame'>\n",
      "RangeIndex: 32586 entries, 0 to 32585\n",
      "Data columns (total 13 columns):\n",
      " #   Column               Non-Null Count  Dtype  \n",
      "---  ------               --------------  -----  \n",
      " 0   customer_id          32583 non-null  float64\n",
      " 1   customer_age         32586 non-null  int64  \n",
      " 2   customer_income      32586 non-null  object \n",
      " 3   home_ownership       32586 non-null  object \n",
      " 4   employment_duration  31691 non-null  float64\n",
      " 5   loan_intent          32586 non-null  object \n",
      " 6   loan_grade           32586 non-null  object \n",
      " 7   loan_amnt            32585 non-null  object \n",
      " 8   loan_int_rate        29470 non-null  float64\n",
      " 9   term_years           32586 non-null  int64  \n",
      " 10  historical_default   11849 non-null  object \n",
      " 11  cred_hist_length     32586 non-null  int64  \n",
      " 12  Current_loan_status  32582 non-null  object \n",
      "dtypes: float64(3), int64(3), object(7)\n",
      "memory usage: 3.2+ MB\n"
     ]
    }
   ],
   "source": [
    "# Check dtype\n",
    "risk.info()\n",
    "# Missing values\n",
    "# dtype needs to be corrected: customer_income, loan_amnt"
   ]
  },
  {
   "cell_type": "code",
   "execution_count": 142,
   "metadata": {},
   "outputs": [
    {
     "data": {
      "text/plain": [
       "False"
      ]
     },
     "execution_count": 142,
     "metadata": {},
     "output_type": "execute_result"
    }
   ],
   "source": [
    "# Check duplicates\n",
    "risk.customer_id.nunique() == risk.shape[0] # Contains duplicates"
   ]
  },
  {
   "cell_type": "code",
   "execution_count": 143,
   "metadata": {},
   "outputs": [
    {
     "data": {
      "text/plain": [
       "customer_id                3\n",
       "employment_duration      895\n",
       "loan_amnt                  1\n",
       "loan_int_rate           3116\n",
       "historical_default     20737\n",
       "Current_loan_status        4\n",
       "dtype: int64"
      ]
     },
     "execution_count": 143,
     "metadata": {},
     "output_type": "execute_result"
    }
   ],
   "source": [
    "# Check missing values\n",
    "risk.isna().sum()[risk.isna().any()]"
   ]
  },
  {
   "cell_type": "markdown",
   "metadata": {},
   "source": [
    "To do:\n",
    "1. Drop duplicates based on `customer_id`.\n",
    "2. Drop rows with missing values in either `customer_id` or `loan_amnt` columns\n",
    "3. Drop `customer_id` column\n",
    "4. Correct the data types of `customer_income` and `loan_amnt`\n",
    "5. Encode `DEFAULT` as 1 and `NO DEFAULT` as 0\n",
    "6. Use rows with missing `Current_loan_status` as `X_pr` for prediction, then drop these rows. "
   ]
  },
  {
   "cell_type": "code",
   "execution_count": 144,
   "metadata": {},
   "outputs": [
    {
     "data": {
      "text/html": [
       "<div>\n",
       "<style scoped>\n",
       "    .dataframe tbody tr th:only-of-type {\n",
       "        vertical-align: middle;\n",
       "    }\n",
       "\n",
       "    .dataframe tbody tr th {\n",
       "        vertical-align: top;\n",
       "    }\n",
       "\n",
       "    .dataframe thead th {\n",
       "        text-align: right;\n",
       "    }\n",
       "</style>\n",
       "<table border=\"1\" class=\"dataframe\">\n",
       "  <thead>\n",
       "    <tr style=\"text-align: right;\">\n",
       "      <th></th>\n",
       "      <th>count</th>\n",
       "      <th>mean</th>\n",
       "      <th>std</th>\n",
       "      <th>min</th>\n",
       "      <th>25%</th>\n",
       "      <th>50%</th>\n",
       "      <th>75%</th>\n",
       "      <th>max</th>\n",
       "    </tr>\n",
       "  </thead>\n",
       "  <tbody>\n",
       "    <tr>\n",
       "      <th>loan_amnt</th>\n",
       "      <td>32576.0</td>\n",
       "      <td>9724.745211</td>\n",
       "      <td>21071.881794</td>\n",
       "      <td>500.0</td>\n",
       "      <td>5000.0</td>\n",
       "      <td>8000.0</td>\n",
       "      <td>12200.0</td>\n",
       "      <td>3500000.0</td>\n",
       "    </tr>\n",
       "    <tr>\n",
       "      <th>customer_income</th>\n",
       "      <td>32576.0</td>\n",
       "      <td>66072.987414</td>\n",
       "      <td>61987.652093</td>\n",
       "      <td>4000.0</td>\n",
       "      <td>38500.0</td>\n",
       "      <td>55000.0</td>\n",
       "      <td>79200.0</td>\n",
       "      <td>6000000.0</td>\n",
       "    </tr>\n",
       "  </tbody>\n",
       "</table>\n",
       "</div>"
      ],
      "text/plain": [
       "                   count          mean           std     min      25%  \\\n",
       "loan_amnt        32576.0   9724.745211  21071.881794   500.0   5000.0   \n",
       "customer_income  32576.0  66072.987414  61987.652093  4000.0  38500.0   \n",
       "\n",
       "                     50%      75%        max  \n",
       "loan_amnt         8000.0  12200.0  3500000.0  \n",
       "customer_income  55000.0  79200.0  6000000.0  "
      ]
     },
     "execution_count": 144,
     "metadata": {},
     "output_type": "execute_result"
    }
   ],
   "source": [
    "# Drop duplicates in customer_id\n",
    "risk_1 = risk.drop_duplicates('customer_id').copy()\n",
    "\n",
    "# Drop na in customer_id, loan_amnt\n",
    "risk_1.dropna(subset=['customer_id'],inplace=True)\n",
    "risk_1.dropna(subset=['loan_amnt'],inplace=True)\n",
    "\n",
    "# Drop customer_id column\n",
    "risk_1.drop(columns='customer_id',inplace=True)\n",
    "risk_1.shape # Pass\n",
    "\n",
    "# Encode Default = 1, No Default = 0\n",
    "risk_1.loc[risk_1['Current_loan_status']=='DEFAULT','Current_loan_status_encoded']=1\n",
    "risk_1.loc[risk_1['Current_loan_status']=='NO DEFAULT','Current_loan_status_encoded']=0\n",
    "\n",
    "# loan_amnt and customer_income dtype correction\n",
    "risk_1['loan_amnt'] = pd.to_numeric(risk_1['loan_amnt'].str.replace(',', '').str[1:])\n",
    "risk_1['customer_income'] = pd.to_numeric(risk_1['customer_income'].str.replace(',',''))\n",
    "risk_1[['loan_amnt','customer_income']].describe().T # Pass"
   ]
  },
  {
   "cell_type": "code",
   "execution_count": 145,
   "metadata": {},
   "outputs": [],
   "source": [
    "# Instances with missing value in Current_loan_status will be used in the end to predict the target.\n",
    "X_pr = risk_1[risk_1['Current_loan_status'].isna()].drop(columns=['Current_loan_status','Current_loan_status_encoded']).copy()\n",
    "risk_1.drop(X_pr.index.tolist(),inplace=True) # Pass shape check\n",
    "X_pr = X_pr.iloc[[0,1,3]].copy() # Drop where loan_int_rate is missing"
   ]
  },
  {
   "cell_type": "markdown",
   "metadata": {},
   "source": [
    "## Validation and Missing Value Handling"
   ]
  },
  {
   "cell_type": "code",
   "execution_count": 146,
   "metadata": {},
   "outputs": [
    {
     "data": {
      "text/plain": [
       "Current_loan_status\n",
       "NO DEFAULT    0.790188\n",
       "DEFAULT       0.209812\n",
       "Name: proportion, dtype: float64"
      ]
     },
     "execution_count": 146,
     "metadata": {},
     "output_type": "execute_result"
    }
   ],
   "source": [
    "risk_1.Current_loan_status.value_counts(normalize=True) # 0.80 as the baseline AR"
   ]
  },
  {
   "cell_type": "markdown",
   "metadata": {},
   "source": [
    "### Data Quality Check\n",
    "##### *`customer_age` cross-check with `employment_duration` and `cred_hist_length`*  \n",
    "To drop as these entries appear invalid:\n",
    "1. The age is too small and the customer has worked for an unusually long time (i.e.loc = 29396)\n",
    "2. The age is unusually high (i.e. loc = 81)\n",
    "\n",
    "\n",
    "**Note**: For loc = 32427, 32421, 32511 or 32585, these entries appear more valid compared to others, especially when `loan_intent` is *Medical* for three of them. However, since there are only 4 instances, these rows will still be dropped. \n",
    "\n",
    "It is noted that `loan_amnt` has the unit of British pounds (£). According to UK law, the minimum working age is 13 with restrictions, and the retirement age is 66 before 2026. Therefore, customers who started working before 13 will be considered as invalid and will be dropped, while those aged 66+ will be pulled out for further review. \n",
    "\n",
    "Since in UK, the minimum age to apply for a credit card is 18. Here 17 is chose here to avoid rounding errors. Since there are other possible ways to build credit history before 18, these entries are not considered as invalid and thus are not dropped."
   ]
  },
  {
   "cell_type": "code",
   "execution_count": 147,
   "metadata": {},
   "outputs": [
    {
     "data": {
      "text/html": [
       "<div>\n",
       "<style scoped>\n",
       "    .dataframe tbody tr th:only-of-type {\n",
       "        vertical-align: middle;\n",
       "    }\n",
       "\n",
       "    .dataframe tbody tr th {\n",
       "        vertical-align: top;\n",
       "    }\n",
       "\n",
       "    .dataframe thead th {\n",
       "        text-align: right;\n",
       "    }\n",
       "</style>\n",
       "<table border=\"1\" class=\"dataframe\">\n",
       "  <thead>\n",
       "    <tr style=\"text-align: right;\">\n",
       "      <th></th>\n",
       "      <th>count</th>\n",
       "      <th>mean</th>\n",
       "      <th>std</th>\n",
       "      <th>min</th>\n",
       "      <th>25%</th>\n",
       "      <th>50%</th>\n",
       "      <th>75%</th>\n",
       "      <th>max</th>\n",
       "    </tr>\n",
       "  </thead>\n",
       "  <tbody>\n",
       "    <tr>\n",
       "      <th>customer_age</th>\n",
       "      <td>32572.0</td>\n",
       "      <td>27.732224</td>\n",
       "      <td>6.359996</td>\n",
       "      <td>3.0</td>\n",
       "      <td>23.0</td>\n",
       "      <td>26.0</td>\n",
       "      <td>30.0</td>\n",
       "      <td>144.0</td>\n",
       "    </tr>\n",
       "    <tr>\n",
       "      <th>employment_duration</th>\n",
       "      <td>31677.0</td>\n",
       "      <td>4.789563</td>\n",
       "      <td>4.143046</td>\n",
       "      <td>0.0</td>\n",
       "      <td>2.0</td>\n",
       "      <td>4.0</td>\n",
       "      <td>7.0</td>\n",
       "      <td>123.0</td>\n",
       "    </tr>\n",
       "  </tbody>\n",
       "</table>\n",
       "</div>"
      ],
      "text/plain": [
       "                       count       mean       std  min   25%   50%   75%  \\\n",
       "customer_age         32572.0  27.732224  6.359996  3.0  23.0  26.0  30.0   \n",
       "employment_duration  31677.0   4.789563  4.143046  0.0   2.0   4.0   7.0   \n",
       "\n",
       "                       max  \n",
       "customer_age         144.0  \n",
       "employment_duration  123.0  "
      ]
     },
     "execution_count": 147,
     "metadata": {},
     "output_type": "execute_result"
    }
   ],
   "source": [
    "# customer_age, employment_duration cross-validation\n",
    "risk_1[['customer_age','employment_duration']].describe().T\n",
    "\n",
    "# There are some issues related to age min==3, max==144, \n",
    "# and employment_duration, max==123"
   ]
  },
  {
   "cell_type": "code",
   "execution_count": 148,
   "metadata": {},
   "outputs": [
    {
     "data": {
      "image/png": "[encoded data removed]",
      "text/plain": [
       "<Figure size 640x480 with 1 Axes>"
      ]
     },
     "metadata": {},
     "output_type": "display_data"
    }
   ],
   "source": [
    "# Visualization to help choose the cut-off\n",
    "fig1,ax1=plt.subplots()\n",
    "sns.scatterplot(x=risk_1['customer_age'],y=risk_1['employment_duration'],ax=ax1)\n",
    "ax1.set_title('customer_age vs employment_duration');"
   ]
  },
  {
   "cell_type": "code",
   "execution_count": 149,
   "metadata": {},
   "outputs": [
    {
     "data": {
      "text/plain": [
       "17"
      ]
     },
     "execution_count": 149,
     "metadata": {},
     "output_type": "execute_result"
    }
   ],
   "source": [
    "# customer_age<18 or customer_age>80\n",
    "(risk_1[(risk_1['customer_age']<18) | (risk_1['customer_age']>=80)])\n",
    "drop_index = (risk_1[(risk_1['customer_age']<18) | (risk_1['customer_age']>=80)].index).tolist() \n",
    "\n",
    "# Cross vailidate customer_age with employment_duration\n",
    "risk_1[(risk_1.customer_age - risk_1.employment_duration)<13] # To drop \n",
    "drop_index += (risk_1[(risk_1.customer_age - risk_1.employment_duration)<13]).index.tolist()\n",
    "len(drop_index)"
   ]
  },
  {
   "cell_type": "code",
   "execution_count": 150,
   "metadata": {},
   "outputs": [
    {
     "data": {
      "text/plain": [
       "True"
      ]
     },
     "execution_count": 150,
     "metadata": {},
     "output_type": "execute_result"
    }
   ],
   "source": [
    "# Dropping\n",
    "# a. customer_age > 80\n",
    "# b. customer_age < 18\n",
    "# c. customer_age - employment_duration <13\n",
    "len(set(drop_index)) #14\n",
    "risk_1.drop(set(drop_index),inplace=True)\n",
    "(risk_1.shape[0] + 14) == 32572 # Pass"
   ]
  },
  {
   "cell_type": "code",
   "execution_count": 151,
   "metadata": {},
   "outputs": [
    {
     "data": {
      "image/png": "[encoded data removed]",
      "text/plain": [
       "<Figure size 2500x600 with 2 Axes>"
      ]
     },
     "metadata": {},
     "output_type": "display_data"
    }
   ],
   "source": [
    "# Visualization, Loan purpose of senior citizens\n",
    "senior = risk_1[risk_1['customer_age']>=66].copy()\n",
    "\n",
    "fig2,(ax2,ax3)=plt.subplots(ncols=2,figsize=(25,6))\n",
    "sns.countplot(data=senior, x='loan_intent',ax=ax2)\n",
    "ax2.set_xlabel('')\n",
    "\n",
    "sns.countplot(data=risk_1, x='loan_intent',ax=ax3)\n",
    "ax3.set_xlabel('')\n",
    "fig2.suptitle('Loan Reason Distribution in Senior Citizens vs All',fontsize=18);"
   ]
  },
  {
   "cell_type": "code",
   "execution_count": 152,
   "metadata": {},
   "outputs": [
    {
     "data": {
      "image/png": "[encoded data removed]",
      "text/plain": [
       "<Figure size 640x480 with 1 Axes>"
      ]
     },
     "metadata": {},
     "output_type": "display_data"
    }
   ],
   "source": [
    "# Visualization after cleaning\n",
    "fig4,ax4=plt.subplots()\n",
    "sns.scatterplot(x=risk_1['customer_age'],y=risk_1['employment_duration'],ax=ax4)\n",
    "ax4.set_title('customer_age vs employment_duration, after cleaning');"
   ]
  },
  {
   "cell_type": "code",
   "execution_count": 153,
   "metadata": {},
   "outputs": [
    {
     "data": {
      "text/html": [
       "<div>\n",
       "<style scoped>\n",
       "    .dataframe tbody tr th:only-of-type {\n",
       "        vertical-align: middle;\n",
       "    }\n",
       "\n",
       "    .dataframe tbody tr th {\n",
       "        vertical-align: top;\n",
       "    }\n",
       "\n",
       "    .dataframe thead th {\n",
       "        text-align: right;\n",
       "    }\n",
       "</style>\n",
       "<table border=\"1\" class=\"dataframe\">\n",
       "  <thead>\n",
       "    <tr style=\"text-align: right;\">\n",
       "      <th></th>\n",
       "      <th>customer_age</th>\n",
       "      <th>customer_income</th>\n",
       "      <th>home_ownership</th>\n",
       "      <th>employment_duration</th>\n",
       "      <th>loan_intent</th>\n",
       "      <th>loan_grade</th>\n",
       "      <th>loan_amnt</th>\n",
       "      <th>loan_int_rate</th>\n",
       "      <th>term_years</th>\n",
       "      <th>historical_default</th>\n",
       "      <th>cred_hist_length</th>\n",
       "      <th>Current_loan_status</th>\n",
       "      <th>Current_loan_status_encoded</th>\n",
       "    </tr>\n",
       "  </thead>\n",
       "  <tbody>\n",
       "    <tr>\n",
       "      <th>1315</th>\n",
       "      <td>20</td>\n",
       "      <td>64000</td>\n",
       "      <td>RENT</td>\n",
       "      <td>3.0</td>\n",
       "      <td>VENTURE</td>\n",
       "      <td>C</td>\n",
       "      <td>16000.0</td>\n",
       "      <td>15.31</td>\n",
       "      <td>8</td>\n",
       "      <td>Y</td>\n",
       "      <td>4</td>\n",
       "      <td>DEFAULT</td>\n",
       "      <td>1.0</td>\n",
       "    </tr>\n",
       "    <tr>\n",
       "      <th>3853</th>\n",
       "      <td>20</td>\n",
       "      <td>32652</td>\n",
       "      <td>MORTGAGE</td>\n",
       "      <td>0.0</td>\n",
       "      <td>PERSONAL</td>\n",
       "      <td>C</td>\n",
       "      <td>6000.0</td>\n",
       "      <td>14.61</td>\n",
       "      <td>2</td>\n",
       "      <td>N</td>\n",
       "      <td>4</td>\n",
       "      <td>DEFAULT</td>\n",
       "      <td>1.0</td>\n",
       "    </tr>\n",
       "    <tr>\n",
       "      <th>13920</th>\n",
       "      <td>20</td>\n",
       "      <td>98000</td>\n",
       "      <td>MORTGAGE</td>\n",
       "      <td>4.0</td>\n",
       "      <td>EDUCATION</td>\n",
       "      <td>C</td>\n",
       "      <td>24250.0</td>\n",
       "      <td>NaN</td>\n",
       "      <td>2</td>\n",
       "      <td>NaN</td>\n",
       "      <td>4</td>\n",
       "      <td>NO DEFAULT</td>\n",
       "      <td>0.0</td>\n",
       "    </tr>\n",
       "    <tr>\n",
       "      <th>15834</th>\n",
       "      <td>20</td>\n",
       "      <td>188004</td>\n",
       "      <td>MORTGAGE</td>\n",
       "      <td>4.0</td>\n",
       "      <td>EDUCATION</td>\n",
       "      <td>A</td>\n",
       "      <td>2000.0</td>\n",
       "      <td>8.59</td>\n",
       "      <td>2</td>\n",
       "      <td>NaN</td>\n",
       "      <td>4</td>\n",
       "      <td>NO DEFAULT</td>\n",
       "      <td>0.0</td>\n",
       "    </tr>\n",
       "    <tr>\n",
       "      <th>17200</th>\n",
       "      <td>20</td>\n",
       "      <td>65000</td>\n",
       "      <td>MORTGAGE</td>\n",
       "      <td>4.0</td>\n",
       "      <td>VENTURE</td>\n",
       "      <td>A</td>\n",
       "      <td>4800.0</td>\n",
       "      <td>9.99</td>\n",
       "      <td>2</td>\n",
       "      <td>NaN</td>\n",
       "      <td>4</td>\n",
       "      <td>NO DEFAULT</td>\n",
       "      <td>0.0</td>\n",
       "    </tr>\n",
       "  </tbody>\n",
       "</table>\n",
       "</div>"
      ],
      "text/plain": [
       "       customer_age  customer_income home_ownership  employment_duration  \\\n",
       "1315             20            64000           RENT                  3.0   \n",
       "3853             20            32652       MORTGAGE                  0.0   \n",
       "13920            20            98000       MORTGAGE                  4.0   \n",
       "15834            20           188004       MORTGAGE                  4.0   \n",
       "17200            20            65000       MORTGAGE                  4.0   \n",
       "\n",
       "      loan_intent loan_grade  loan_amnt  loan_int_rate  term_years  \\\n",
       "1315      VENTURE          C    16000.0          15.31           8   \n",
       "3853     PERSONAL          C     6000.0          14.61           2   \n",
       "13920   EDUCATION          C    24250.0            NaN           2   \n",
       "15834   EDUCATION          A     2000.0           8.59           2   \n",
       "17200     VENTURE          A     4800.0           9.99           2   \n",
       "\n",
       "      historical_default  cred_hist_length Current_loan_status  \\\n",
       "1315                   Y                 4             DEFAULT   \n",
       "3853                   N                 4             DEFAULT   \n",
       "13920                NaN                 4          NO DEFAULT   \n",
       "15834                NaN                 4          NO DEFAULT   \n",
       "17200                NaN                 4          NO DEFAULT   \n",
       "\n",
       "       Current_loan_status_encoded  \n",
       "1315                           1.0  \n",
       "3853                           1.0  \n",
       "13920                          0.0  \n",
       "15834                          0.0  \n",
       "17200                          0.0  "
      ]
     },
     "execution_count": 153,
     "metadata": {},
     "output_type": "execute_result"
    }
   ],
   "source": [
    "# Cross vailidate customer_age with cred_hist_length\n",
    "risk_1[(risk_1.customer_age - risk_1.cred_hist_length)<17] # 5 instances, considered as valid"
   ]
  },
  {
   "cell_type": "markdown",
   "metadata": {},
   "source": [
    "### Handling Missing Values\n",
    "There are still missing values in `employment_duration` (895, ~3%), `loan_int_rate` (3111, 10%) and `historical_default` (20728, 65%) at this point.\n",
    "\n",
    "---\n",
    "**historical_default - fill with \"N\"**  \n",
    "There are various reasons why over 20,000 entries have missing values in `historical_default`.\n",
    "\n",
    "One possible reason is that the customer might not have had any prior loans, leading to the absence of this data. However, a deeper investigation reveals that certain customers with a `home_ownership` status of \"Morgage\" also have missing values in `historial_default`. This reason might not be the valid reason here.  \n",
    " \n",
    "Additionally, among the non-missing entries, over half of the customers have a historical default. This proportion does not align with the proportion of `Current_loan_status` (where only 20% of the customers have a default status). By replacing the missing values with \"N\", the proportion of \"No Default\" would increase to around 0.81, which alighns with the proportion of `Current_loan_status`. Therefore, a bold imputation will be performed: missing values in `historical_default` will be replaced with **\"N\"**.\n",
    "\n",
    "\n",
    "---\n",
    "\n",
    "\n",
    "**loan_int_rate - impute with mean**  \n",
    "There are different methods to impute missing values in `loan_int_rate`, but simple imputation with sample mean will be used as:\n",
    "1. There is little to no linear correlation between `loan_int_rate` and related variables, and thus modeling is not a good and efficient method here\n",
    "2. The difference between mean and median in this feature is small, and the standard deviation relatively okay.. Well..\n",
    "3. WOE could have been applied here to assign all missing value with a specific value. This method, will however, be explored when filling in `employment_duration`\n",
    "\n",
    "---\n",
    "**employment_duration - drop missing values or handle with WOE encoder**  \n",
    "There are also various methods to impute missing values in `employment_duration`. Here, **dropping all missing entries** and/or **WOE encoding** will be used to compare the final model to compare the effect different choices of handling missing values on the built model. Simple imputation is not used because the standard deviation is high compared with its mean. Modeling is not preferred also because there is little to no correaltion between this feature and other related features. \n",
    "\n",
    "**See more on [Weight of Evidence Encoding](https://ishanjainoffical.medium.com/understanding-weight-of-evidence-woe-with-python-code-cd0df0e4001e) and [Optimal Binning](http://gnpalencia.org/optbinning/tutorials/tutorial_binary.html).**"
   ]
  },
  {
   "cell_type": "code",
   "execution_count": 154,
   "metadata": {},
   "outputs": [
    {
     "data": {
      "image/png": "[encoded data removed]",
      "text/plain": [
       "<Figure size 1200x600 with 2 Axes>"
      ]
     },
     "metadata": {},
     "output_type": "display_data"
    }
   ],
   "source": [
    "# historical default - replace with N\n",
    "risk_1.historical_default.value_counts(normalize=True).reset_index() # 0.48 N\n",
    "sum_before = (risk_1.groupby('historical_default',as_index=False)['Current_loan_status'].value_counts(normalize=True))\n",
    "risk_1.fillna({'historical_default':'N'},inplace=True) # Replace with N\n",
    "risk_1.historical_default.value_counts(normalize=True).reset_index() # N = 0.81, current_N = 0.79\n",
    "sum_after = (risk_1.groupby('historical_default',as_index=False)['Current_loan_status'].value_counts(normalize=True))\n",
    "\n",
    "# Visualization, before imputation vs after imputation\n",
    "fig5,(ax5,ax6) = plt.subplots(ncols=2, figsize=(12,6))\n",
    "sns.barplot(data=sum_before.sort_values(by=['historical_default','Current_loan_status'],ascending=[True,False]), \n",
    "            x='historical_default', y='proportion', hue='Current_loan_status',ax=ax5)\n",
    "\n",
    "sns.barplot(data=sum_after, \n",
    "            x='historical_default', y='proportion', hue='Current_loan_status',ax=ax6)\n",
    "plt.suptitle('Default proportion by historical default before(left) and after(right) imputation');"
   ]
  },
  {
   "cell_type": "code",
   "execution_count": 155,
   "metadata": {},
   "outputs": [],
   "source": [
    "# loan_int_rate - impute with mean\n",
    "risk_1[['loan_int_rate','customer_income','loan_amnt','term_years']].corr() # Little to no correlation\n",
    "risk_1[['loan_int_rate']].describe().T\n",
    "\n",
    "risk_nna = risk_1.copy()\n",
    "risk_nna['loan_int_rate']=risk_nna['loan_int_rate'].fillna(risk_1['loan_int_rate'].mean())"
   ]
  },
  {
   "cell_type": "code",
   "execution_count": 156,
   "metadata": {},
   "outputs": [],
   "source": [
    "# Drop Missing values in employment_duration\n",
    "risk_1[['employment_duration']].describe().T\n",
    "risk_1[['employment_duration','cred_hist_length','customer_age','customer_income']].corr() # Little correlation, which is odd but acceptable\n",
    "\n",
    "risk_nna = risk_nna.dropna(subset=['employment_duration'])\n",
    "risk_nna.isna().sum() # Pass no missing values\n",
    "\n",
    "risk_nna.reset_index(inplace=True)"
   ]
  },
  {
   "cell_type": "markdown",
   "metadata": {},
   "source": [
    "## Univariate Analysis/EDA\n",
    "For numeric columns, the **Gini coefficient** will be used instead of **Pearson correlation** to compare the relationship between the feature and the target. The two correlation will be compared later to show that the features are not linearly related to the target. \n",
    "\n",
    "**More on [Gini Coefficient](https://www.google.com/search?sca_esv=696f62cce5599e91&sca_upv=1&q=gini+coefficient&tbm=vid&source=lnms&fbs=AEQNm0DPvcmG_nCbmwtBO9j6YBzM68ZanC7g01Skprhw5JoufUv28nkH7BlZuPSVPZEeFf4zEsryEwMB77hXASo0GX6kc7f0ImceuC_sjza6Vb-covmbyhpamE8nFdDBXPVPzJTQU7MBXAFnfR130LMIBhqrIsoOl8ieFfXS3GWSgLtJxTcf267Wv5rKKgyx7fFUGn8sBvvl1n7GOk6qRIkbzjH9GOGG3A&sa=X&ved=2ahUKEwjtmsbu2-2HAxWBFlkFHR9-ECUQ0pQJegQIEhAB&biw=2560&bih=1321#fpstate=ive&vld=cid:a026287b,vid:BwSB__Ugo1s,st:0)**\n",
    "\n",
    "For categorical columns, visualizations will be created to show the proportion of DEFAULT and NO DEFAULT in different categories to reveal the patterns. Since the visualization is not pretty, it will be commented out...."
   ]
  },
  {
   "cell_type": "code",
   "execution_count": 157,
   "metadata": {},
   "outputs": [],
   "source": [
    "target = ['Current_loan_status_encoded']\n",
    "cat_col = ['home_ownership','loan_intent', 'loan_grade','historical_default']\n",
    "num_col = ['customer_age','customer_income','employment_duration','loan_amnt','loan_int_rate','term_years','cred_hist_length']"
   ]
  },
  {
   "cell_type": "code",
   "execution_count": 158,
   "metadata": {},
   "outputs": [
    {
     "data": {
      "text/html": [
       "<div>\n",
       "<style scoped>\n",
       "    .dataframe tbody tr th:only-of-type {\n",
       "        vertical-align: middle;\n",
       "    }\n",
       "\n",
       "    .dataframe tbody tr th {\n",
       "        vertical-align: top;\n",
       "    }\n",
       "\n",
       "    .dataframe thead th {\n",
       "        text-align: right;\n",
       "    }\n",
       "</style>\n",
       "<table border=\"1\" class=\"dataframe\">\n",
       "  <thead>\n",
       "    <tr style=\"text-align: right;\">\n",
       "      <th></th>\n",
       "      <th>name</th>\n",
       "      <th>gini</th>\n",
       "    </tr>\n",
       "  </thead>\n",
       "  <tbody>\n",
       "    <tr>\n",
       "      <th>1</th>\n",
       "      <td>customer_income</td>\n",
       "      <td>0.365103</td>\n",
       "    </tr>\n",
       "    <tr>\n",
       "      <th>2</th>\n",
       "      <td>employment_duration</td>\n",
       "      <td>0.140473</td>\n",
       "    </tr>\n",
       "    <tr>\n",
       "      <th>0</th>\n",
       "      <td>customer_age</td>\n",
       "      <td>0.047529</td>\n",
       "    </tr>\n",
       "    <tr>\n",
       "      <th>6</th>\n",
       "      <td>cred_hist_length</td>\n",
       "      <td>0.034789</td>\n",
       "    </tr>\n",
       "    <tr>\n",
       "      <th>5</th>\n",
       "      <td>term_years</td>\n",
       "      <td>-0.040078</td>\n",
       "    </tr>\n",
       "    <tr>\n",
       "      <th>3</th>\n",
       "      <td>loan_amnt</td>\n",
       "      <td>-0.118115</td>\n",
       "    </tr>\n",
       "    <tr>\n",
       "      <th>4</th>\n",
       "      <td>loan_int_rate</td>\n",
       "      <td>-0.432170</td>\n",
       "    </tr>\n",
       "  </tbody>\n",
       "</table>\n",
       "</div>"
      ],
      "text/plain": [
       "                  name      gini\n",
       "1      customer_income  0.365103\n",
       "2  employment_duration  0.140473\n",
       "0         customer_age  0.047529\n",
       "6     cred_hist_length  0.034789\n",
       "5           term_years -0.040078\n",
       "3            loan_amnt -0.118115\n",
       "4        loan_int_rate -0.432170"
      ]
     },
     "execution_count": 158,
     "metadata": {},
     "output_type": "execute_result"
    }
   ],
   "source": [
    "# Establish Gini Coefficient\n",
    "target_df = risk_nna['Current_loan_status']\n",
    "gini = []\n",
    "name = []\n",
    "for columns in num_col:\n",
    "    feature = risk_nna[f'{columns}']\n",
    "    auc = roc_auc_score(target_df, feature)\n",
    "    gini_coefficient = 2 * auc - 1# Conversion from auc to gini\n",
    "    name.append(f'{columns}')\n",
    "    gini.append(gini_coefficient)\n",
    "corr_gini_df = pd.DataFrame({'name':name, 'gini':gini} )\n",
    "corr_gini_df.sort_values(by = 'gini', ascending=False)"
   ]
  },
  {
   "cell_type": "markdown",
   "metadata": {},
   "source": [
    "Note that `loan_int_rate` seems to have the highest correlation with the target. However, this is also a variable with moderate imputation (10% of the data is missing). Therefore, it is important to check if the imputation has disturbed its original pattern."
   ]
  },
  {
   "cell_type": "code",
   "execution_count": 159,
   "metadata": {},
   "outputs": [
    {
     "data": {
      "image/png": "[encoded data removed]",
      "text/plain": [
       "<Figure size 1600x600 with 2 Axes>"
      ]
     },
     "metadata": {},
     "output_type": "display_data"
    }
   ],
   "source": [
    "figd, (axd,axe) = plt.subplots(ncols=2,figsize=(16,6))\n",
    "sns.histplot(data=risk, x='loan_int_rate', hue='Current_loan_status',stat='percent',ax=axd)\n",
    "sns.histplot(data=risk_nna, x='loan_int_rate', hue='Current_loan_status',stat='percent',ax=axe)\n",
    "plt.title('loan_int_rate distribution before (left) and after (right) imputation with mean');\n",
    "\n",
    "# It has disturbed the distribution a liitle bit.. as there are noticeably more defaults when interest rate is around 11...\n",
    "# Maybe in this case WOE is better? Sadly, due to the time restrain, this will not be explored."
   ]
  },
  {
   "cell_type": "code",
   "execution_count": 160,
   "metadata": {},
   "outputs": [],
   "source": [
    "def cat_visual(df, col, ax):\n",
    "    '''\n",
    "    This function aims to visualize the proportion of Default vs No Default in different categories of a chosen column\n",
    "\n",
    "    :param [df]: dataframe of interest\n",
    "    :type [df]: pd.DataFrame\n",
    "\n",
    "    :param [col]: columnn name of interest\n",
    "    :type [col]: str\n",
    "\n",
    "    :param [ax]: the axis to be plotted on\n",
    "    :type [ax]: matplotlib.axe.Axes\n",
    "    ...\n",
    "    :return: the summary of DEFAULT proportion grouped by selected column\n",
    "    :rtype: pd.DataFrame\n",
    "    \n",
    "    '''\n",
    "    summary = (df.groupby(col,as_index=False)['Current_loan_status'].value_counts(normalize=True))\n",
    "\n",
    "    sns.barplot(data=summary, x=col, y='proportion', hue='Current_loan_status',ax=ax)\n",
    "    ax.set_title(f'Current Loan Status Percentage by {col}')\n",
    "    ax.set_ylabel('Proportion')\n",
    "\n",
    "    return summary"
   ]
  },
  {
   "cell_type": "code",
   "execution_count": 161,
   "metadata": {},
   "outputs": [],
   "source": [
    "# # Visualization\n",
    "# # Excuse me for the bad viz here, partially because of the long name of debt intent\n",
    "# # To fix this, loan intent can be coded with letters for example, and creation of another dataset to be able to refer back the loan intent is needed.\n",
    "\n",
    "# fig, axs = plt.subplots(nrows=2, ncols=2, figsize=(22,22))\n",
    "# ax1a, ax2a, ax3a, ax4a = axs.flatten()\n",
    "# sum_1 = cat_visual(risk_nna,'home_ownership',ax=ax1a)\n",
    "# sum_2 = cat_visual(risk_nna,'loan_intent',ax=ax2a)\n",
    "# sum_3 = cat_visual(risk_nna,'loan_grade',ax=ax3a)\n",
    "# sum_4 = cat_visual(risk_nna,'historical_default',ax=ax4a)"
   ]
  },
  {
   "cell_type": "markdown",
   "metadata": {},
   "source": [
    "## Train Test Split and WOE Encoding\n",
    "WOE encoding will be applied to all the columns in the dataset that contain missing values in `employment_duration`. This is probably not the best way to compare the effect of WOE encoding on handling missing values. A better approach might be to encode only `employment_duration`. Sadly, let's keep it as it is for this project."
   ]
  },
  {
   "cell_type": "code",
   "execution_count": 162,
   "metadata": {},
   "outputs": [],
   "source": [
    "# Train test split before WOE encoding\n",
    "\n",
    "# With No missing value\n",
    "# Recall:\n",
    "# historical_default was filled with N\n",
    "# loan_int_rate was imputed by mean\n",
    "# employment_duration was dropped\n",
    "X_nna = risk_nna[cat_col+num_col]\n",
    "y_nna = risk_nna[target[0]]\n",
    "X_train_nna, X_test_nna, y_train_nna, y_test_nna = train_test_split(X_nna, y_nna, test_size=0.1, \n",
    "                                                                    stratify=risk_nna['loan_intent'], \n",
    "                                                                    random_state=5000, shuffle=True)\n",
    "\n",
    "\n",
    "# With missing values\n",
    "# Recall:\n",
    "# historical_default was filled with N\n",
    "# loan_int_rate was imputed by mean\n",
    "# employment_duration was not dropped, will be handling with WOE\n",
    "X_na = risk_1[cat_col+num_col]\n",
    "y_na = risk_1[target[0]]\n",
    "X_train_na, X_test_na, y_train_na, y_test_na = train_test_split(X_na, y_na, test_size=0.1, \n",
    "                                                                    stratify=risk_1['loan_intent'], \n",
    "                                                                    random_state=5000, shuffle=True)"
   ]
  },
  {
   "cell_type": "code",
   "execution_count": 163,
   "metadata": {},
   "outputs": [
    {
     "data": {
      "text/html": [
       "<div>\n",
       "<style scoped>\n",
       "    .dataframe tbody tr th:only-of-type {\n",
       "        vertical-align: middle;\n",
       "    }\n",
       "\n",
       "    .dataframe tbody tr th {\n",
       "        vertical-align: top;\n",
       "    }\n",
       "\n",
       "    .dataframe thead th {\n",
       "        text-align: right;\n",
       "    }\n",
       "</style>\n",
       "<table border=\"1\" class=\"dataframe\">\n",
       "  <thead>\n",
       "    <tr style=\"text-align: right;\">\n",
       "      <th></th>\n",
       "      <th>Bin</th>\n",
       "      <th>Count</th>\n",
       "      <th>Count (%)</th>\n",
       "      <th>Non-event</th>\n",
       "      <th>Event</th>\n",
       "      <th>Event rate</th>\n",
       "      <th>WoE</th>\n",
       "      <th>IV</th>\n",
       "      <th>JS</th>\n",
       "    </tr>\n",
       "  </thead>\n",
       "  <tbody>\n",
       "    <tr>\n",
       "      <th>0</th>\n",
       "      <td>(-inf, 1.50)</td>\n",
       "      <td>6318</td>\n",
       "      <td>0.215617</td>\n",
       "      <td>4624</td>\n",
       "      <td>1694</td>\n",
       "      <td>0.268123</td>\n",
       "      <td>-0.326614</td>\n",
       "      <td>0.025170</td>\n",
       "      <td>0.003132</td>\n",
       "    </tr>\n",
       "    <tr>\n",
       "      <th>1</th>\n",
       "      <td>[1.50, 2.50)</td>\n",
       "      <td>3455</td>\n",
       "      <td>0.117910</td>\n",
       "      <td>2587</td>\n",
       "      <td>868</td>\n",
       "      <td>0.251230</td>\n",
       "      <td>-0.238719</td>\n",
       "      <td>0.007184</td>\n",
       "      <td>0.000896</td>\n",
       "    </tr>\n",
       "    <tr>\n",
       "      <th>2</th>\n",
       "      <td>[2.50, 4.50)</td>\n",
       "      <td>5663</td>\n",
       "      <td>0.193263</td>\n",
       "      <td>4534</td>\n",
       "      <td>1129</td>\n",
       "      <td>0.199364</td>\n",
       "      <td>0.059491</td>\n",
       "      <td>0.000672</td>\n",
       "      <td>0.000084</td>\n",
       "    </tr>\n",
       "    <tr>\n",
       "      <th>3</th>\n",
       "      <td>[4.50, 5.50)</td>\n",
       "      <td>2654</td>\n",
       "      <td>0.090574</td>\n",
       "      <td>2173</td>\n",
       "      <td>481</td>\n",
       "      <td>0.181236</td>\n",
       "      <td>0.177215</td>\n",
       "      <td>0.002698</td>\n",
       "      <td>0.000337</td>\n",
       "    </tr>\n",
       "    <tr>\n",
       "      <th>4</th>\n",
       "      <td>[5.50, 6.50)</td>\n",
       "      <td>2385</td>\n",
       "      <td>0.081394</td>\n",
       "      <td>1967</td>\n",
       "      <td>418</td>\n",
       "      <td>0.175262</td>\n",
       "      <td>0.218002</td>\n",
       "      <td>0.003624</td>\n",
       "      <td>0.000452</td>\n",
       "    </tr>\n",
       "    <tr>\n",
       "      <th>5</th>\n",
       "      <td>[6.50, 7.50)</td>\n",
       "      <td>1960</td>\n",
       "      <td>0.066890</td>\n",
       "      <td>1619</td>\n",
       "      <td>341</td>\n",
       "      <td>0.173980</td>\n",
       "      <td>0.2269</td>\n",
       "      <td>0.003217</td>\n",
       "      <td>0.000401</td>\n",
       "    </tr>\n",
       "    <tr>\n",
       "      <th>6</th>\n",
       "      <td>[7.50, 11.50)</td>\n",
       "      <td>4088</td>\n",
       "      <td>0.139513</td>\n",
       "      <td>3412</td>\n",
       "      <td>676</td>\n",
       "      <td>0.165362</td>\n",
       "      <td>0.288079</td>\n",
       "      <td>0.010615</td>\n",
       "      <td>0.001322</td>\n",
       "    </tr>\n",
       "    <tr>\n",
       "      <th>7</th>\n",
       "      <td>[11.50, inf)</td>\n",
       "      <td>1968</td>\n",
       "      <td>0.067163</td>\n",
       "      <td>1680</td>\n",
       "      <td>288</td>\n",
       "      <td>0.146341</td>\n",
       "      <td>0.432807</td>\n",
       "      <td>0.011022</td>\n",
       "      <td>0.001367</td>\n",
       "    </tr>\n",
       "    <tr>\n",
       "      <th>8</th>\n",
       "      <td>Special</td>\n",
       "      <td>0</td>\n",
       "      <td>0.000000</td>\n",
       "      <td>0</td>\n",
       "      <td>0</td>\n",
       "      <td>0.000000</td>\n",
       "      <td>0.0</td>\n",
       "      <td>0.000000</td>\n",
       "      <td>0.000000</td>\n",
       "    </tr>\n",
       "    <tr>\n",
       "      <th>9</th>\n",
       "      <td>Missing</td>\n",
       "      <td>811</td>\n",
       "      <td>0.027677</td>\n",
       "      <td>581</td>\n",
       "      <td>230</td>\n",
       "      <td>0.283600</td>\n",
       "      <td>-0.40411</td>\n",
       "      <td>0.005045</td>\n",
       "      <td>0.000626</td>\n",
       "    </tr>\n",
       "    <tr>\n",
       "      <th>Totals</th>\n",
       "      <td></td>\n",
       "      <td>29302</td>\n",
       "      <td>1.000000</td>\n",
       "      <td>23177</td>\n",
       "      <td>6125</td>\n",
       "      <td>0.209030</td>\n",
       "      <td></td>\n",
       "      <td>0.069247</td>\n",
       "      <td>0.008618</td>\n",
       "    </tr>\n",
       "  </tbody>\n",
       "</table>\n",
       "</div>"
      ],
      "text/plain": [
       "                  Bin  Count  Count (%)  Non-event  Event  Event rate  \\\n",
       "0        (-inf, 1.50)   6318   0.215617       4624   1694    0.268123   \n",
       "1        [1.50, 2.50)   3455   0.117910       2587    868    0.251230   \n",
       "2        [2.50, 4.50)   5663   0.193263       4534   1129    0.199364   \n",
       "3        [4.50, 5.50)   2654   0.090574       2173    481    0.181236   \n",
       "4        [5.50, 6.50)   2385   0.081394       1967    418    0.175262   \n",
       "5        [6.50, 7.50)   1960   0.066890       1619    341    0.173980   \n",
       "6       [7.50, 11.50)   4088   0.139513       3412    676    0.165362   \n",
       "7        [11.50, inf)   1968   0.067163       1680    288    0.146341   \n",
       "8             Special      0   0.000000          0      0    0.000000   \n",
       "9             Missing    811   0.027677        581    230    0.283600   \n",
       "Totals                 29302   1.000000      23177   6125    0.209030   \n",
       "\n",
       "             WoE        IV        JS  \n",
       "0      -0.326614  0.025170  0.003132  \n",
       "1      -0.238719  0.007184  0.000896  \n",
       "2       0.059491  0.000672  0.000084  \n",
       "3       0.177215  0.002698  0.000337  \n",
       "4       0.218002  0.003624  0.000452  \n",
       "5         0.2269  0.003217  0.000401  \n",
       "6       0.288079  0.010615  0.001322  \n",
       "7       0.432807  0.011022  0.001367  \n",
       "8            0.0  0.000000  0.000000  \n",
       "9       -0.40411  0.005045  0.000626  \n",
       "Totals            0.069247  0.008618  "
      ]
     },
     "execution_count": 163,
     "metadata": {},
     "output_type": "execute_result"
    }
   ],
   "source": [
    "# WOE encoding\n",
    "woe_table_na = {}\n",
    "for col in num_col:\n",
    "    optb = OptimalBinning(name=col,dtype='numerical')\n",
    "    optb.fit(X_train_na[col], y_train_na)\n",
    "    X_train_na[f'{col}_woe'] =  optb.transform(X_train_na[col], metric=\"woe\")\n",
    "    X_test_na[f'{col}_woe'] = optb.transform(X_test_na[col])\n",
    "    woe_table_na[col] = optb.binning_table\n",
    "\n",
    "\n",
    "for col in cat_col:\n",
    "    optb = OptimalBinning(name=col,dtype='categorical')\n",
    "    optb.fit(X_train_na[col], y_train_na)\n",
    "    X_train_na[f'{col}_woe'] =  optb.transform(X_train_na[col], metric=\"woe\")\n",
    "    X_test_na[f'{col}_woe'] = optb.transform(X_test_na[col])\n",
    "    woe_table_na[col] = optb.binning_table\n",
    "\n",
    "# Pull WOE table Example\n",
    "woe_table_na['employment_duration'].build()"
   ]
  },
  {
   "cell_type": "markdown",
   "metadata": {},
   "source": [
    "To be honest, the grouping established here might not be the best. For example, groups of [5.50, 6.50) and [6.50, 7.50) have value similar values after encoding."
   ]
  },
  {
   "cell_type": "code",
   "execution_count": 164,
   "metadata": {},
   "outputs": [
    {
     "data": {
      "text/html": [
       "<div>\n",
       "<style scoped>\n",
       "    .dataframe tbody tr th:only-of-type {\n",
       "        vertical-align: middle;\n",
       "    }\n",
       "\n",
       "    .dataframe tbody tr th {\n",
       "        vertical-align: top;\n",
       "    }\n",
       "\n",
       "    .dataframe thead th {\n",
       "        text-align: right;\n",
       "    }\n",
       "</style>\n",
       "<table border=\"1\" class=\"dataframe\">\n",
       "  <thead>\n",
       "    <tr style=\"text-align: right;\">\n",
       "      <th></th>\n",
       "      <th>customer_age_woe</th>\n",
       "      <th>customer_income_woe</th>\n",
       "      <th>employment_duration_woe</th>\n",
       "      <th>loan_amnt_woe</th>\n",
       "      <th>loan_int_rate_woe</th>\n",
       "      <th>term_years_woe</th>\n",
       "      <th>cred_hist_length_woe</th>\n",
       "      <th>home_ownership_woe</th>\n",
       "      <th>loan_intent_woe</th>\n",
       "      <th>loan_grade_woe</th>\n",
       "      <th>historical_default_woe</th>\n",
       "    </tr>\n",
       "  </thead>\n",
       "  <tbody>\n",
       "    <tr>\n",
       "      <th>9467</th>\n",
       "      <td>0.013556</td>\n",
       "      <td>0.413595</td>\n",
       "      <td>0.226900</td>\n",
       "      <td>-0.019094</td>\n",
       "      <td>0.833653</td>\n",
       "      <td>0.193476</td>\n",
       "      <td>-0.028593</td>\n",
       "      <td>0.701188</td>\n",
       "      <td>0.497521</td>\n",
       "      <td>0.882045</td>\n",
       "      <td>0.239359</td>\n",
       "    </tr>\n",
       "    <tr>\n",
       "      <th>20156</th>\n",
       "      <td>0.023818</td>\n",
       "      <td>-0.802463</td>\n",
       "      <td>0.177215</td>\n",
       "      <td>0.079598</td>\n",
       "      <td>1.362785</td>\n",
       "      <td>0.193476</td>\n",
       "      <td>0.046302</td>\n",
       "      <td>-0.523539</td>\n",
       "      <td>-0.224340</td>\n",
       "      <td>0.882045</td>\n",
       "      <td>0.239359</td>\n",
       "    </tr>\n",
       "    <tr>\n",
       "      <th>1075</th>\n",
       "      <td>0.013556</td>\n",
       "      <td>0.413595</td>\n",
       "      <td>-0.326614</td>\n",
       "      <td>-0.260599</td>\n",
       "      <td>-1.764208</td>\n",
       "      <td>-0.517952</td>\n",
       "      <td>-0.028593</td>\n",
       "      <td>-0.523539</td>\n",
       "      <td>-0.224340</td>\n",
       "      <td>-1.734666</td>\n",
       "      <td>-0.788629</td>\n",
       "    </tr>\n",
       "    <tr>\n",
       "      <th>31762</th>\n",
       "      <td>0.147604</td>\n",
       "      <td>1.117634</td>\n",
       "      <td>-0.326614</td>\n",
       "      <td>0.114179</td>\n",
       "      <td>-0.375637</td>\n",
       "      <td>0.161363</td>\n",
       "      <td>0.121615</td>\n",
       "      <td>0.701188</td>\n",
       "      <td>0.497521</td>\n",
       "      <td>-0.755771</td>\n",
       "      <td>0.239359</td>\n",
       "    </tr>\n",
       "    <tr>\n",
       "      <th>13958</th>\n",
       "      <td>0.023818</td>\n",
       "      <td>0.413595</td>\n",
       "      <td>-0.238719</td>\n",
       "      <td>-0.019094</td>\n",
       "      <td>0.160378</td>\n",
       "      <td>0.161363</td>\n",
       "      <td>-0.028593</td>\n",
       "      <td>-0.523539</td>\n",
       "      <td>-0.224340</td>\n",
       "      <td>0.882045</td>\n",
       "      <td>0.239359</td>\n",
       "    </tr>\n",
       "  </tbody>\n",
       "</table>\n",
       "</div>"
      ],
      "text/plain": [
       "       customer_age_woe  customer_income_woe  employment_duration_woe  \\\n",
       "9467           0.013556             0.413595                 0.226900   \n",
       "20156          0.023818            -0.802463                 0.177215   \n",
       "1075           0.013556             0.413595                -0.326614   \n",
       "31762          0.147604             1.117634                -0.326614   \n",
       "13958          0.023818             0.413595                -0.238719   \n",
       "\n",
       "       loan_amnt_woe  loan_int_rate_woe  term_years_woe  cred_hist_length_woe  \\\n",
       "9467       -0.019094           0.833653        0.193476             -0.028593   \n",
       "20156       0.079598           1.362785        0.193476              0.046302   \n",
       "1075       -0.260599          -1.764208       -0.517952             -0.028593   \n",
       "31762       0.114179          -0.375637        0.161363              0.121615   \n",
       "13958      -0.019094           0.160378        0.161363             -0.028593   \n",
       "\n",
       "       home_ownership_woe  loan_intent_woe  loan_grade_woe  \\\n",
       "9467             0.701188         0.497521        0.882045   \n",
       "20156           -0.523539        -0.224340        0.882045   \n",
       "1075            -0.523539        -0.224340       -1.734666   \n",
       "31762            0.701188         0.497521       -0.755771   \n",
       "13958           -0.523539        -0.224340        0.882045   \n",
       "\n",
       "       historical_default_woe  \n",
       "9467                 0.239359  \n",
       "20156                0.239359  \n",
       "1075                -0.788629  \n",
       "31762                0.239359  \n",
       "13958                0.239359  "
      ]
     },
     "execution_count": 164,
     "metadata": {},
     "output_type": "execute_result"
    }
   ],
   "source": [
    "# Establish WOE dataframe\n",
    "X_train_woe = X_train_na.drop(columns=cat_col+num_col).copy()\n",
    "X_test_woe = X_test_na.drop(columns=cat_col+num_col).copy()\n",
    "X_train_woe.sample(5)"
   ]
  },
  {
   "cell_type": "markdown",
   "metadata": {},
   "source": [
    "## Baseline Model \n",
    "Use `loan_grade`, `customer_income`, and `loan_int_rate`. RMF and KNN are used to estbalish a baseline model as a reference."
   ]
  },
  {
   "cell_type": "code",
   "execution_count": 165,
   "metadata": {},
   "outputs": [],
   "source": [
    "# Define numeric & categorical col\n",
    "# not woe encoded\n",
    "numeric_col_nna_bsl = ['customer_income','loan_int_rate']\n",
    "categorical_col_nna_bsl = ['loan_grade']\n",
    "\n",
    "X_train_nna_bsl = X_train_nna[categorical_col_nna_bsl+numeric_col_nna_bsl]\n",
    "X_test_nna_bsl = X_test_nna[categorical_col_nna_bsl+numeric_col_nna_bsl]\n",
    "# woe encoded\n",
    "numeric_col_woe_bsl = ['loan_grade_woe','customer_income_woe','loan_int_rate_woe']\n",
    "categorical_col_woe_bsl = []\n",
    "\n",
    "X_train_woe_bsl = X_train_woe[categorical_col_woe_bsl+numeric_col_woe_bsl]\n",
    "X_test_woe_bsl = X_test_woe[categorical_col_woe_bsl+numeric_col_woe_bsl]"
   ]
  },
  {
   "cell_type": "markdown",
   "metadata": {},
   "source": [
    "### Random Forest\n",
    "Running param_search will take 4.5mins. To save time, the preprocessor was dumped and reloaded. "
   ]
  },
  {
   "cell_type": "code",
   "execution_count": 166,
   "metadata": {},
   "outputs": [],
   "source": [
    "# # Define grid search parameters\n",
    "# # With no missing\n",
    "param_grid_rmf = {\n",
    "    'classifier__n_estimators':[50,100,150,200],\n",
    "    'classifier__max_features':[None,'sqrt'],\n",
    "}\n",
    "\n",
    "# # Tuning\n",
    "# preprocessor_rmf_nna_bsl = param_tuning(X_train_nna_bsl,y_train_nna, RandomForestClassifier(),param_grid_rmf,cat_col=categorical_col_nna_bsl,num_col=numeric_col_nna_bsl)\n",
    "\n",
    "# # With WOE\n",
    "# # Tuning\n",
    "# preprocessor_rmf_woe_bsl = param_tuning(X_train_woe_bsl,y_train_na, RandomForestClassifier(),param_grid_rmf,cat_col=categorical_col_woe_bsl,num_col=numeric_col_woe_bsl)\n",
    "\n",
    "# joblib.dump(preprocessor_rmf_nna_bsl,'preprocessor_rmf_nna_bsl.pkl')\n",
    "# joblib.dump(preprocessor_rmf_woe_bsl,'preprocessor_rmf_woe_bsl.pkl')"
   ]
  },
  {
   "cell_type": "code",
   "execution_count": 167,
   "metadata": {},
   "outputs": [],
   "source": [
    "preprocessor_rmf_nna_bsl = joblib.load('preprocessor_rmf_nna_bsl.pkl')\n",
    "preprocessor_rmf_woe_bsl = joblib.load('preprocessor_rmf_woe_bsl.pkl')"
   ]
  },
  {
   "cell_type": "code",
   "execution_count": 168,
   "metadata": {},
   "outputs": [],
   "source": [
    "# Training & testing\n",
    "# With no missing\n",
    "model_rmf_nna_bsl = RandomForestClassifier(\n",
    "                        max_features=None, \n",
    "                        n_estimators = 100,\n",
    "                                        )\n",
    "y_pred_rmf_nna_bsl = testing(X_train_nna_bsl,y_train_nna, X_test_nna_bsl,y_test_nna, model=model_rmf_nna_bsl, preprocessor=preprocessor_rmf_nna_bsl)\n",
    "\n",
    "# With WOE\n",
    "model_rmf_woe_bsl = RandomForestClassifier(\n",
    "                        max_features=None, \n",
    "                        n_estimators = 150,\n",
    "                                        )\n",
    "y_pred_rmf_woe_bsl = testing(X_train_woe_bsl,y_train_na, X_test_woe_bsl,y_test_na, model=model_rmf_woe_bsl, preprocessor=preprocessor_rmf_woe_bsl)"
   ]
  },
  {
   "cell_type": "code",
   "execution_count": 169,
   "metadata": {},
   "outputs": [
    {
     "name": "stdout",
     "output_type": "stream",
     "text": [
      "Random Forest Classifier bsl Evaluation\n"
     ]
    },
    {
     "data": {
      "text/plain": [
       "<Figure size 800x600 with 0 Axes>"
      ]
     },
     "metadata": {},
     "output_type": "display_data"
    },
    {
     "data": {
      "image/png": "[encoded data removed]",
      "text/plain": [
       "<Figure size 640x480 with 2 Axes>"
      ]
     },
     "metadata": {},
     "output_type": "display_data"
    },
    {
     "name": "stdout",
     "output_type": "stream",
     "text": [
      "              precision    recall  f1-score   support\n",
      "\n",
      "         0.0       0.87      0.93      0.90      2515\n",
      "         1.0       0.63      0.48      0.55       652\n",
      "\n",
      "    accuracy                           0.83      3167\n",
      "   macro avg       0.75      0.70      0.72      3167\n",
      "weighted avg       0.82      0.83      0.83      3167\n",
      "\n",
      "******************************************************************************************************************************************************\n",
      "Random Forest Classifier bsl Evaluation, woe\n"
     ]
    },
    {
     "data": {
      "text/plain": [
       "<Figure size 800x600 with 0 Axes>"
      ]
     },
     "metadata": {},
     "output_type": "display_data"
    },
    {
     "data": {
      "image/png": "[encoded data removed]",
      "text/plain": [
       "<Figure size 640x480 with 2 Axes>"
      ]
     },
     "metadata": {},
     "output_type": "display_data"
    },
    {
     "name": "stdout",
     "output_type": "stream",
     "text": [
      "              precision    recall  f1-score   support\n",
      "\n",
      "         0.0       0.84      0.94      0.89      2549\n",
      "         1.0       0.61      0.35      0.44       707\n",
      "\n",
      "    accuracy                           0.81      3256\n",
      "   macro avg       0.72      0.64      0.66      3256\n",
      "weighted avg       0.79      0.81      0.79      3256\n",
      "\n"
     ]
    }
   ],
   "source": [
    "# Evaluating\n",
    "print('Random Forest Classifier bsl Evaluation')\n",
    "evaluating(y_pred_rmf_nna_bsl,y_test_nna) \n",
    "\n",
    "\n",
    "print('*'*150)\n",
    "print('Random Forest Classifier bsl Evaluation, woe')\n",
    "evaluating(y_pred_rmf_woe_bsl,y_test_na) "
   ]
  },
  {
   "cell_type": "markdown",
   "metadata": {},
   "source": [
    "### KNN\n",
    "Takes around 1 min"
   ]
  },
  {
   "cell_type": "code",
   "execution_count": 170,
   "metadata": {},
   "outputs": [
    {
     "name": "stdout",
     "output_type": "stream",
     "text": [
      "Best parameters found:  {'classifier__n_neighbors': 50, 'classifier__weights': 'distance'}\n",
      "Best parameters found:  {'classifier__n_neighbors': 50, 'classifier__weights': 'uniform'}\n"
     ]
    }
   ],
   "source": [
    "# Define grid search parameters 6mins\n",
    "param_grid_knn = {\n",
    "    'classifier__n_neighbors':[5,15,20,30,50],\n",
    "    'classifier__weights':['uniform','distance'],\n",
    "}\n",
    "# Tuning\n",
    "preprocessor_knn_nna_bsl = param_tuning(X_train_nna_bsl,y_train_nna, KNeighborsClassifier(),param_grid_knn,cat_col=categorical_col_nna_bsl,num_col=numeric_col_nna_bsl)\n",
    "\n",
    "# With WOE\n",
    "# Tuning\n",
    "preprocessor_knn_woe_bsl = param_tuning(X_train_woe_bsl,y_train_na, KNeighborsClassifier(),param_grid_knn,cat_col=categorical_col_woe_bsl,num_col=numeric_col_woe_bsl)"
   ]
  },
  {
   "cell_type": "code",
   "execution_count": 171,
   "metadata": {},
   "outputs": [],
   "source": [
    "# Training & testing\n",
    "# With no missing\n",
    "model_knn_nna_bsl = KNeighborsClassifier(\n",
    "                        n_neighbors=50, \n",
    "                        weights = 'distance',\n",
    "                                        )\n",
    "y_pred_knn_nna_bsl = testing(X_train_nna_bsl,y_train_nna, X_test_nna_bsl,y_test_nna, model=model_knn_nna_bsl, preprocessor=preprocessor_knn_nna_bsl)\n",
    "\n",
    "# With WOE\n",
    "model_knn_woe_bsl = KNeighborsClassifier(\n",
    "                        n_neighbors=50, \n",
    "                        weights = 'uniform',\n",
    "                                        )\n",
    "y_pred_knn_woe_bsl = testing(X_train_woe_bsl,y_train_na, X_test_woe_bsl,y_test_na, model=model_knn_woe_bsl, preprocessor=preprocessor_knn_woe_bsl)"
   ]
  },
  {
   "cell_type": "code",
   "execution_count": 172,
   "metadata": {},
   "outputs": [
    {
     "name": "stdout",
     "output_type": "stream",
     "text": [
      "KNN Model bsl Evaluation\n"
     ]
    },
    {
     "data": {
      "text/plain": [
       "<Figure size 800x600 with 0 Axes>"
      ]
     },
     "metadata": {},
     "output_type": "display_data"
    },
    {
     "data": {
      "image/png": "[encoded data removed]",
      "text/plain": [
       "<Figure size 640x480 with 2 Axes>"
      ]
     },
     "metadata": {},
     "output_type": "display_data"
    },
    {
     "name": "stdout",
     "output_type": "stream",
     "text": [
      "              precision    recall  f1-score   support\n",
      "\n",
      "         0.0       0.86      0.94      0.90      2515\n",
      "         1.0       0.66      0.43      0.52       652\n",
      "\n",
      "    accuracy                           0.84      3167\n",
      "   macro avg       0.76      0.69      0.71      3167\n",
      "weighted avg       0.82      0.84      0.82      3167\n",
      "\n",
      "******************************************************************************************************************************************************\n",
      "KNN Model bsl Evaluation, woe\n"
     ]
    },
    {
     "data": {
      "text/plain": [
       "<Figure size 800x600 with 0 Axes>"
      ]
     },
     "metadata": {},
     "output_type": "display_data"
    },
    {
     "data": {
      "image/png": "[encoded data removed]",
      "text/plain": [
       "<Figure size 640x480 with 2 Axes>"
      ]
     },
     "metadata": {},
     "output_type": "display_data"
    },
    {
     "name": "stdout",
     "output_type": "stream",
     "text": [
      "              precision    recall  f1-score   support\n",
      "\n",
      "         0.0       0.84      0.94      0.88      2549\n",
      "         1.0       0.60      0.34      0.43       707\n",
      "\n",
      "    accuracy                           0.81      3256\n",
      "   macro avg       0.72      0.64      0.66      3256\n",
      "weighted avg       0.78      0.81      0.79      3256\n",
      "\n"
     ]
    }
   ],
   "source": [
    "# Evaluating - worse\n",
    "print('KNN Model bsl Evaluation')\n",
    "evaluating(y_pred_knn_nna_bsl,y_test_nna) \n",
    "\n",
    "\n",
    "print('*'*150)\n",
    "print('KNN Model bsl Evaluation, woe')\n",
    "evaluating(y_pred_knn_woe_bsl,y_test_na) "
   ]
  },
  {
   "cell_type": "markdown",
   "metadata": {},
   "source": [
    "**Insight**:\n",
    "1. Incorporating the missing values using WOE seems to have increased the difficulty or noise in predicting the target. \n",
    "2. By using these three features, the model's performance is acceptable, but it produces a significant number of false negatives, indicating a preference for predicting negative values. This is partly due to the imbalance in the target proportion. Because of that, the RMF that incoperate all features will be established below to show the potential maximum performance. "
   ]
  },
  {
   "cell_type": "markdown",
   "metadata": {},
   "source": [
    "## RMF with all features\n",
    "Tuning takes around 6mins, the preprocessor will be dumped and reused to save time. \n",
    "\n",
    "After generation of this RMF model, feature importance was pulled out to facilitate feature selection. "
   ]
  },
  {
   "cell_type": "code",
   "execution_count": 173,
   "metadata": {},
   "outputs": [],
   "source": [
    "numeric_col_nna_all = num_col.copy()\n",
    "categorical_col_nna_all = cat_col.copy()\n",
    "\n",
    "X_train_nna_all = X_train_nna[categorical_col_nna_all+numeric_col_nna_all]\n",
    "X_test_nna_all = X_test_nna[categorical_col_nna_all+numeric_col_nna_all]"
   ]
  },
  {
   "cell_type": "code",
   "execution_count": 174,
   "metadata": {},
   "outputs": [],
   "source": [
    "# # Tuning\n",
    "# preprocessor_rmf_nna_all = param_tuning(X_train_nna_all,y_train_nna, \n",
    "#                                         RandomForestClassifier(),param_grid_rmf,\n",
    "#                                         cat_col=categorical_col_nna_all,num_col=numeric_col_nna_all)\n",
    "# joblib.dump(preprocessor_rmf_nna_all,'preprocessor_rmf_nna_all.pkl')"
   ]
  },
  {
   "cell_type": "code",
   "execution_count": 175,
   "metadata": {},
   "outputs": [],
   "source": [
    "# Training & testing\n",
    "preprocessor_rmf_nna_all = joblib.load('preprocessor_rmf_nna_all.pkl')\n",
    "model_rmf_nna_all = RandomForestClassifier(\n",
    "                        max_features=None, \n",
    "                        n_estimators = 100,\n",
    "                                        )\n",
    "y_pred_rmf_nna_all = testing(X_train_nna_all,y_train_nna, X_test_nna_all,y_test_nna, model=model_rmf_nna_all, preprocessor=preprocessor_rmf_nna_all)"
   ]
  },
  {
   "cell_type": "code",
   "execution_count": 176,
   "metadata": {},
   "outputs": [
    {
     "name": "stdout",
     "output_type": "stream",
     "text": [
      "Random Forest Model with ALL Features Evaluation, all\n"
     ]
    },
    {
     "data": {
      "text/plain": [
       "<Figure size 800x600 with 0 Axes>"
      ]
     },
     "metadata": {},
     "output_type": "display_data"
    },
    {
     "data": {
      "image/png": "[encoded data removed]",
      "text/plain": [
       "<Figure size 640x480 with 2 Axes>"
      ]
     },
     "metadata": {},
     "output_type": "display_data"
    },
    {
     "name": "stdout",
     "output_type": "stream",
     "text": [
      "              precision    recall  f1-score   support\n",
      "\n",
      "         0.0       0.93      0.98      0.96      2515\n",
      "         1.0       0.91      0.72      0.80       652\n",
      "\n",
      "    accuracy                           0.93      3167\n",
      "   macro avg       0.92      0.85      0.88      3167\n",
      "weighted avg       0.93      0.93      0.92      3167\n",
      "\n"
     ]
    }
   ],
   "source": [
    "print('Random Forest Model with ALL Features Evaluation, all')\n",
    "evaluating(y_pred_rmf_nna_all, y_test_nna) "
   ]
  },
  {
   "cell_type": "markdown",
   "metadata": {},
   "source": [
    "By accident, in one test run, missing values in `historical_default` were not replaced by \"N\", and `historical_default_NaN` ended up with the highest feature importance, boosting the accuracy ratio to 0.97 and recall to 0.90. This suggests that the bold decision was indeed bold but not good.. The choice of handling the missing value will change the model performance somtimes, especially when the percentage of the missing values is big (in this case, it is 65%).   \n",
    "This has been noted, but the following analysis will be based on the original method as it is already 5pm on Sunday. "
   ]
  },
  {
   "cell_type": "code",
   "execution_count": 177,
   "metadata": {},
   "outputs": [
    {
     "data": {
      "text/html": [
       "<div>\n",
       "<style scoped>\n",
       "    .dataframe tbody tr th:only-of-type {\n",
       "        vertical-align: middle;\n",
       "    }\n",
       "\n",
       "    .dataframe tbody tr th {\n",
       "        vertical-align: top;\n",
       "    }\n",
       "\n",
       "    .dataframe thead th {\n",
       "        text-align: right;\n",
       "    }\n",
       "</style>\n",
       "<table border=\"1\" class=\"dataframe\">\n",
       "  <thead>\n",
       "    <tr style=\"text-align: right;\">\n",
       "      <th></th>\n",
       "      <th>names</th>\n",
       "      <th>importance</th>\n",
       "    </tr>\n",
       "  </thead>\n",
       "  <tbody>\n",
       "    <tr>\n",
       "      <th>14</th>\n",
       "      <td>customer_income</td>\n",
       "      <td>0.233182</td>\n",
       "    </tr>\n",
       "    <tr>\n",
       "      <th>17</th>\n",
       "      <td>loan_int_rate</td>\n",
       "      <td>0.194895</td>\n",
       "    </tr>\n",
       "    <tr>\n",
       "      <th>16</th>\n",
       "      <td>loan_amnt</td>\n",
       "      <td>0.150208</td>\n",
       "    </tr>\n",
       "    <tr>\n",
       "      <th>2</th>\n",
       "      <td>home_ownership_RENT</td>\n",
       "      <td>0.079165</td>\n",
       "    </tr>\n",
       "    <tr>\n",
       "      <th>15</th>\n",
       "      <td>employment_duration</td>\n",
       "      <td>0.062579</td>\n",
       "    </tr>\n",
       "    <tr>\n",
       "      <th>13</th>\n",
       "      <td>customer_age</td>\n",
       "      <td>0.051542</td>\n",
       "    </tr>\n",
       "    <tr>\n",
       "      <th>19</th>\n",
       "      <td>cred_hist_length</td>\n",
       "      <td>0.038027</td>\n",
       "    </tr>\n",
       "    <tr>\n",
       "      <th>18</th>\n",
       "      <td>term_years</td>\n",
       "      <td>0.027501</td>\n",
       "    </tr>\n",
       "    <tr>\n",
       "      <th>4</th>\n",
       "      <td>loan_intent_HOMEIMPROVEMENT</td>\n",
       "      <td>0.025461</td>\n",
       "    </tr>\n",
       "    <tr>\n",
       "      <th>5</th>\n",
       "      <td>loan_intent_MEDICAL</td>\n",
       "      <td>0.025298</td>\n",
       "    </tr>\n",
       "    <tr>\n",
       "      <th>8</th>\n",
       "      <td>loan_grade_B</td>\n",
       "      <td>0.020800</td>\n",
       "    </tr>\n",
       "    <tr>\n",
       "      <th>6</th>\n",
       "      <td>loan_intent_PERSONAL</td>\n",
       "      <td>0.016366</td>\n",
       "    </tr>\n",
       "    <tr>\n",
       "      <th>10</th>\n",
       "      <td>loan_grade_D</td>\n",
       "      <td>0.014859</td>\n",
       "    </tr>\n",
       "    <tr>\n",
       "      <th>3</th>\n",
       "      <td>loan_intent_EDUCATION</td>\n",
       "      <td>0.014089</td>\n",
       "    </tr>\n",
       "    <tr>\n",
       "      <th>7</th>\n",
       "      <td>loan_intent_VENTURE</td>\n",
       "      <td>0.012013</td>\n",
       "    </tr>\n",
       "    <tr>\n",
       "      <th>9</th>\n",
       "      <td>loan_grade_C</td>\n",
       "      <td>0.010641</td>\n",
       "    </tr>\n",
       "    <tr>\n",
       "      <th>1</th>\n",
       "      <td>home_ownership_OWN</td>\n",
       "      <td>0.009123</td>\n",
       "    </tr>\n",
       "    <tr>\n",
       "      <th>12</th>\n",
       "      <td>historical_default_Y</td>\n",
       "      <td>0.007950</td>\n",
       "    </tr>\n",
       "    <tr>\n",
       "      <th>11</th>\n",
       "      <td>loan_grade_E</td>\n",
       "      <td>0.004324</td>\n",
       "    </tr>\n",
       "    <tr>\n",
       "      <th>0</th>\n",
       "      <td>home_ownership_OTHER</td>\n",
       "      <td>0.001977</td>\n",
       "    </tr>\n",
       "  </tbody>\n",
       "</table>\n",
       "</div>"
      ],
      "text/plain": [
       "                          names  importance\n",
       "14              customer_income    0.233182\n",
       "17                loan_int_rate    0.194895\n",
       "16                    loan_amnt    0.150208\n",
       "2           home_ownership_RENT    0.079165\n",
       "15          employment_duration    0.062579\n",
       "13                 customer_age    0.051542\n",
       "19             cred_hist_length    0.038027\n",
       "18                   term_years    0.027501\n",
       "4   loan_intent_HOMEIMPROVEMENT    0.025461\n",
       "5           loan_intent_MEDICAL    0.025298\n",
       "8                  loan_grade_B    0.020800\n",
       "6          loan_intent_PERSONAL    0.016366\n",
       "10                 loan_grade_D    0.014859\n",
       "3         loan_intent_EDUCATION    0.014089\n",
       "7           loan_intent_VENTURE    0.012013\n",
       "9                  loan_grade_C    0.010641\n",
       "1            home_ownership_OWN    0.009123\n",
       "12         historical_default_Y    0.007950\n",
       "11                 loan_grade_E    0.004324\n",
       "0          home_ownership_OTHER    0.001977"
      ]
     },
     "execution_count": 177,
     "metadata": {},
     "output_type": "execute_result"
    }
   ],
   "source": [
    "# Pulling feature importance\n",
    "preprocessor = preprocessor_rmf_nna_all\n",
    "cat_names = list(preprocessor.transformers_[0][1].named_steps['encoder'].get_feature_names_out(cat_col))\n",
    "num_names = list(preprocessor.transformers_[1][1].named_steps['scaler'].get_feature_names_out(num_col))\n",
    "feature_names = cat_names + num_names\n",
    "\n",
    "importance_df = pd.DataFrame({'names':feature_names, 'importance':list(model_rmf_nna_all.feature_importances_)})\n",
    "importance_df.sort_values(by='importance',ascending=False)"
   ]
  },
  {
   "cell_type": "markdown",
   "metadata": {},
   "source": [
    "It is noted that `customer_income`, `loan_int_rate`, `loan_amnt` and `employment_duration` have greatest feature importance. At the same time the gini coefficient is high. Therefore, these four features will be included in the future models. `loan_grade` as less predictive power than expected, and thus it will be removed from the model. `homw_ownership` and `loan_intent` will be included in the future models."
   ]
  },
  {
   "cell_type": "markdown",
   "metadata": {},
   "source": [
    "## Model 2 - with 6 features"
   ]
  },
  {
   "cell_type": "code",
   "execution_count": 178,
   "metadata": {},
   "outputs": [],
   "source": [
    "# Define numeric & categorical col\n",
    "numeric_col_nna_2 = ['customer_income','loan_int_rate','employment_duration','loan_amnt']\n",
    "categorical_col_nna_2 = ['loan_intent','home_ownership']\n",
    "\n",
    "X_train_nna_2 = X_train_nna[categorical_col_nna_2+numeric_col_nna_2]\n",
    "X_test_nna_2 = X_test_nna[categorical_col_nna_2+numeric_col_nna_2]"
   ]
  },
  {
   "cell_type": "markdown",
   "metadata": {},
   "source": [
    "### Random Forest Regression\n",
    "Tuning takes around 5mins, the preprocessor will be dumped and reloaded. "
   ]
  },
  {
   "cell_type": "code",
   "execution_count": 179,
   "metadata": {},
   "outputs": [],
   "source": [
    "# # Tuning\n",
    "# preprocessor_rmf_nna_2 = param_tuning(X_train_nna_2,y_train_nna, \n",
    "#                                         RandomForestClassifier(),param_grid_rmf,\n",
    "#                                         cat_col=categorical_col_nna_2,num_col=numeric_col_nna_2)\n",
    "# joblib.dump(preprocessor_rmf_nna_2,'preprocessor_rmf_nna_2.pkl')"
   ]
  },
  {
   "cell_type": "code",
   "execution_count": 180,
   "metadata": {},
   "outputs": [],
   "source": [
    "# Training & testing\n",
    "preprocessor_rmf_nna_2 = joblib.load('preprocessor_rmf_nna_2.pkl')\n",
    "model_rmf_nna_2 = RandomForestClassifier(\n",
    "                        max_features=None, \n",
    "                        n_estimators = 150,\n",
    "                                        )\n",
    "y_pred_rmf_nna_2 = testing(X_train_nna_2,y_train_nna, X_test_nna_2,y_test_nna, model=model_rmf_nna_2, preprocessor=preprocessor_rmf_nna_2)"
   ]
  },
  {
   "cell_type": "code",
   "execution_count": 181,
   "metadata": {},
   "outputs": [
    {
     "name": "stdout",
     "output_type": "stream",
     "text": [
      "Random Forest Model 2 Evaluation\n"
     ]
    },
    {
     "data": {
      "text/plain": [
       "<Figure size 800x600 with 0 Axes>"
      ]
     },
     "metadata": {},
     "output_type": "display_data"
    },
    {
     "data": {
      "image/png": "[encoded data removed]",
      "text/plain": [
       "<Figure size 640x480 with 2 Axes>"
      ]
     },
     "metadata": {},
     "output_type": "display_data"
    },
    {
     "name": "stdout",
     "output_type": "stream",
     "text": [
      "              precision    recall  f1-score   support\n",
      "\n",
      "         0.0       0.92      0.97      0.95      2515\n",
      "         1.0       0.87      0.67      0.76       652\n",
      "\n",
      "    accuracy                           0.91      3167\n",
      "   macro avg       0.90      0.82      0.85      3167\n",
      "weighted avg       0.91      0.91      0.91      3167\n",
      "\n"
     ]
    }
   ],
   "source": [
    "print('Random Forest Model 2 Evaluation')\n",
    "evaluating(y_pred_rmf_nna_2,y_test_nna) "
   ]
  },
  {
   "cell_type": "markdown",
   "metadata": {},
   "source": [
    "### KNN"
   ]
  },
  {
   "cell_type": "code",
   "execution_count": 182,
   "metadata": {},
   "outputs": [
    {
     "name": "stdout",
     "output_type": "stream",
     "text": [
      "Best parameters found:  {'classifier__n_neighbors': 15, 'classifier__weights': 'distance'}\n"
     ]
    }
   ],
   "source": [
    "# Tuning\n",
    "preprocessor_knn_nna_2 = param_tuning(X_train_nna_2,y_train_nna, KNeighborsClassifier(),param_grid_knn,cat_col=categorical_col_nna_2,num_col=numeric_col_nna_2)"
   ]
  },
  {
   "cell_type": "code",
   "execution_count": 183,
   "metadata": {},
   "outputs": [],
   "source": [
    "# Training & testing\n",
    "# With no missing\n",
    "model_knn_nna_2 = KNeighborsClassifier(\n",
    "                        n_neighbors=15, \n",
    "                        weights = 'distance',\n",
    "                                        )\n",
    "y_pred_knn_nna_2 = testing(X_train_nna_2,y_train_nna, X_test_nna_2,y_test_nna, model=model_knn_nna_2, preprocessor=preprocessor_knn_nna_2)"
   ]
  },
  {
   "cell_type": "code",
   "execution_count": 184,
   "metadata": {},
   "outputs": [
    {
     "name": "stdout",
     "output_type": "stream",
     "text": [
      "KNN Model 2 Evaluation\n"
     ]
    },
    {
     "data": {
      "text/plain": [
       "<Figure size 800x600 with 0 Axes>"
      ]
     },
     "metadata": {},
     "output_type": "display_data"
    },
    {
     "data": {
      "image/png": "[encoded data removed]",
      "text/plain": [
       "<Figure size 640x480 with 2 Axes>"
      ]
     },
     "metadata": {},
     "output_type": "display_data"
    },
    {
     "name": "stdout",
     "output_type": "stream",
     "text": [
      "              precision    recall  f1-score   support\n",
      "\n",
      "         0.0       0.88      0.97      0.92      2515\n",
      "         1.0       0.82      0.47      0.60       652\n",
      "\n",
      "    accuracy                           0.87      3167\n",
      "   macro avg       0.85      0.72      0.76      3167\n",
      "weighted avg       0.86      0.87      0.86      3167\n",
      "\n"
     ]
    }
   ],
   "source": [
    "print('KNN Model 2 Evaluation')\n",
    "evaluating(y_pred_knn_nna_2,y_test_nna)  "
   ]
  },
  {
   "cell_type": "markdown",
   "metadata": {},
   "source": [
    "## Final Model\n",
    "Random Forest Classifier with `customer_income`,`loan_int_rate`,`employment_duration`,`loan_amnt`, `loan_intent` and `home_ownership` is chosen as the final model as it gives the best performance with fewer features. Maybe Random Forest Classifier with all features should be chosen as there are not many features anyways, but it is what it is."
   ]
  },
  {
   "cell_type": "code",
   "execution_count": 185,
   "metadata": {},
   "outputs": [],
   "source": [
    "# # Export preprocessor \n",
    "# joblib.dump(preprocessor_rmf_nna_2,'preprocessor_final.pkl')"
   ]
  },
  {
   "cell_type": "code",
   "execution_count": 186,
   "metadata": {},
   "outputs": [
    {
     "data": {
      "text/html": [
       "<div>\n",
       "<style scoped>\n",
       "    .dataframe tbody tr th:only-of-type {\n",
       "        vertical-align: middle;\n",
       "    }\n",
       "\n",
       "    .dataframe tbody tr th {\n",
       "        vertical-align: top;\n",
       "    }\n",
       "\n",
       "    .dataframe thead th {\n",
       "        text-align: right;\n",
       "    }\n",
       "</style>\n",
       "<table border=\"1\" class=\"dataframe\">\n",
       "  <thead>\n",
       "    <tr style=\"text-align: right;\">\n",
       "      <th></th>\n",
       "      <th>customer_age</th>\n",
       "      <th>customer_income</th>\n",
       "      <th>home_ownership</th>\n",
       "      <th>employment_duration</th>\n",
       "      <th>loan_intent</th>\n",
       "      <th>loan_grade</th>\n",
       "      <th>loan_amnt</th>\n",
       "      <th>loan_int_rate</th>\n",
       "      <th>term_years</th>\n",
       "      <th>historical_default</th>\n",
       "      <th>cred_hist_length</th>\n",
       "    </tr>\n",
       "  </thead>\n",
       "  <tbody>\n",
       "    <tr>\n",
       "      <th>21791</th>\n",
       "      <td>27</td>\n",
       "      <td>60000</td>\n",
       "      <td>RENT</td>\n",
       "      <td>6.0</td>\n",
       "      <td>PERSONAL</td>\n",
       "      <td>A</td>\n",
       "      <td>6000.0</td>\n",
       "      <td>8.94</td>\n",
       "      <td>7</td>\n",
       "      <td>N</td>\n",
       "      <td>9</td>\n",
       "    </tr>\n",
       "    <tr>\n",
       "      <th>22076</th>\n",
       "      <td>29</td>\n",
       "      <td>52000</td>\n",
       "      <td>MORTGAGE</td>\n",
       "      <td>6.0</td>\n",
       "      <td>VENTURE</td>\n",
       "      <td>D</td>\n",
       "      <td>12000.0</td>\n",
       "      <td>15.65</td>\n",
       "      <td>9</td>\n",
       "      <td>N</td>\n",
       "      <td>8</td>\n",
       "    </tr>\n",
       "    <tr>\n",
       "      <th>23069</th>\n",
       "      <td>29</td>\n",
       "      <td>60000</td>\n",
       "      <td>OWN</td>\n",
       "      <td>9.0</td>\n",
       "      <td>PERSONAL</td>\n",
       "      <td>C</td>\n",
       "      <td>9000.0</td>\n",
       "      <td>12.23</td>\n",
       "      <td>9</td>\n",
       "      <td>N</td>\n",
       "      <td>10</td>\n",
       "    </tr>\n",
       "    <tr>\n",
       "      <th>65478</th>\n",
       "      <td>29</td>\n",
       "      <td>6000</td>\n",
       "      <td>RENT</td>\n",
       "      <td>2.0</td>\n",
       "      <td>PERSONAL</td>\n",
       "      <td>D</td>\n",
       "      <td>90000.0</td>\n",
       "      <td>11.20</td>\n",
       "      <td>9</td>\n",
       "      <td>N</td>\n",
       "      <td>5</td>\n",
       "    </tr>\n",
       "  </tbody>\n",
       "</table>\n",
       "</div>"
      ],
      "text/plain": [
       "       customer_age  customer_income home_ownership  employment_duration  \\\n",
       "21791            27            60000           RENT                  6.0   \n",
       "22076            29            52000       MORTGAGE                  6.0   \n",
       "23069            29            60000            OWN                  9.0   \n",
       "65478            29             6000           RENT                  2.0   \n",
       "\n",
       "      loan_intent loan_grade  loan_amnt  loan_int_rate  term_years  \\\n",
       "21791    PERSONAL          A     6000.0           8.94           7   \n",
       "22076     VENTURE          D    12000.0          15.65           9   \n",
       "23069    PERSONAL          C     9000.0          12.23           9   \n",
       "65478    PERSONAL          D    90000.0          11.20           9   \n",
       "\n",
       "      historical_default  cred_hist_length  \n",
       "21791                  N                 9  \n",
       "22076                  N                 8  \n",
       "23069                  N                10  \n",
       "65478                  N                 5  "
      ]
     },
     "execution_count": 186,
     "metadata": {},
     "output_type": "execute_result"
    }
   ],
   "source": [
    "numeric_col_f = ['customer_income','loan_int_rate','employment_duration','loan_amnt']\n",
    "categorical_col_f = ['loan_intent','home_ownership']\n",
    "# X_f = risk_nna[numeric_col_f+categorical_col_f]\n",
    "# y_f=risk_nna['Current_loan_status_encoded']\n",
    "\n",
    "X_pr.loc[65478] = [29,6000, 'RENT', 2.0, 'PERSONAL','D',90000,11.2,9,'N',5] # To show 1 positive prediction\n",
    "X_pr_final = X_pr[numeric_col_f+categorical_col_f].copy()\n",
    "X_pr"
   ]
  },
  {
   "cell_type": "code",
   "execution_count": 187,
   "metadata": {},
   "outputs": [],
   "source": [
    "# Preprocessing\n",
    "preprocessor_f = joblib.load('preprocessor_final.pkl')\n",
    "# X_f_transformed = preprocessor_f.fit_transform(X_f)\n",
    "X_pr_transformed = preprocessor_f.transform(X_pr_final)"
   ]
  },
  {
   "cell_type": "code",
   "execution_count": 188,
   "metadata": {},
   "outputs": [],
   "source": [
    "# # Final Model Establishment + Training\n",
    "# model_f = RandomForestClassifier(\n",
    "#                         max_features=None, \n",
    "#                         n_estimators = 150,\n",
    "#                                         )\n",
    "\n",
    "# model_f.fit(X_f_transformed, y_f)\n",
    "\n",
    "# joblib.dump(model_f,'model_final.pkl')"
   ]
  },
  {
   "cell_type": "code",
   "execution_count": 189,
   "metadata": {},
   "outputs": [
    {
     "data": {
      "text/plain": [
       "array([0., 0., 0., 1.])"
      ]
     },
     "execution_count": 189,
     "metadata": {},
     "output_type": "execute_result"
    }
   ],
   "source": [
    "model_f = joblib.load('model_final.pkl')\n",
    "model_f.predict(X_pr_transformed)"
   ]
  },
  {
   "cell_type": "markdown",
   "metadata": {},
   "source": [
    "## Discussion"
   ]
  },
  {
   "cell_type": "markdown",
   "metadata": {},
   "source": [
    "---\n",
    "### Logistic Regression with same features\n",
    "As mentioned before in Univariate Analysis part, it was discovered that the features does not have a linear correlation with the target. Therefore, Logistic Regression is not a good model to be applied here. In this session, it will show how the non-linear relationship was discovered, and how Logistic Regression fail."
   ]
  },
  {
   "cell_type": "code",
   "execution_count": 190,
   "metadata": {},
   "outputs": [
    {
     "data": {
      "text/html": [
       "<div>\n",
       "<style scoped>\n",
       "    .dataframe tbody tr th:only-of-type {\n",
       "        vertical-align: middle;\n",
       "    }\n",
       "\n",
       "    .dataframe tbody tr th {\n",
       "        vertical-align: top;\n",
       "    }\n",
       "\n",
       "    .dataframe thead th {\n",
       "        text-align: right;\n",
       "    }\n",
       "</style>\n",
       "<table border=\"1\" class=\"dataframe\">\n",
       "  <thead>\n",
       "    <tr style=\"text-align: right;\">\n",
       "      <th></th>\n",
       "      <th>feature</th>\n",
       "      <th>pearson_correlation</th>\n",
       "      <th>gini_coefficient</th>\n",
       "    </tr>\n",
       "  </thead>\n",
       "  <tbody>\n",
       "    <tr>\n",
       "      <th>0</th>\n",
       "      <td>customer_income</td>\n",
       "      <td>-0.161217</td>\n",
       "      <td>0.365103</td>\n",
       "    </tr>\n",
       "    <tr>\n",
       "      <th>1</th>\n",
       "      <td>employment_duration</td>\n",
       "      <td>-0.089498</td>\n",
       "      <td>0.140473</td>\n",
       "    </tr>\n",
       "    <tr>\n",
       "      <th>2</th>\n",
       "      <td>customer_age</td>\n",
       "      <td>-0.027147</td>\n",
       "      <td>0.047529</td>\n",
       "    </tr>\n",
       "    <tr>\n",
       "      <th>3</th>\n",
       "      <td>cred_hist_length</td>\n",
       "      <td>-0.019402</td>\n",
       "      <td>0.034789</td>\n",
       "    </tr>\n",
       "    <tr>\n",
       "      <th>4</th>\n",
       "      <td>loan_amnt</td>\n",
       "      <td>0.029074</td>\n",
       "      <td>-0.118115</td>\n",
       "    </tr>\n",
       "    <tr>\n",
       "      <th>5</th>\n",
       "      <td>term_years</td>\n",
       "      <td>0.036367</td>\n",
       "      <td>-0.040078</td>\n",
       "    </tr>\n",
       "    <tr>\n",
       "      <th>6</th>\n",
       "      <td>loan_int_rate</td>\n",
       "      <td>0.324339</td>\n",
       "      <td>-0.432170</td>\n",
       "    </tr>\n",
       "  </tbody>\n",
       "</table>\n",
       "</div>"
      ],
      "text/plain": [
       "               feature  pearson_correlation  gini_coefficient\n",
       "0      customer_income            -0.161217          0.365103\n",
       "1  employment_duration            -0.089498          0.140473\n",
       "2         customer_age            -0.027147          0.047529\n",
       "3     cred_hist_length            -0.019402          0.034789\n",
       "4            loan_amnt             0.029074         -0.118115\n",
       "5           term_years             0.036367         -0.040078\n",
       "6        loan_int_rate             0.324339         -0.432170"
      ]
     },
     "execution_count": 190,
     "metadata": {},
     "output_type": "execute_result"
    }
   ],
   "source": [
    "# Pearson correlation vs gini coefficient\n",
    "pearson_corr = (risk_nna[num_col+['Current_loan_status_encoded']]\n",
    "                .corr()[['Current_loan_status_encoded']].\n",
    "                sort_values(by='Current_loan_status_encoded')).reset_index()\n",
    "\n",
    "corr_comp = pd.merge(left=pearson_corr, right=corr_gini_df,left_on='index', right_on='name').drop(columns='name')\n",
    "corr_comp.columns = ['feature', 'pearson_correlation','gini_coefficient']\n",
    "corr_comp"
   ]
  },
  {
   "cell_type": "markdown",
   "metadata": {},
   "source": [
    "The absolute value of **gini coefficient** and **pearson correlation** is very different. The **peason correlation** seems to be a lot weaker than the correlation suggested by **gini coefficient**. This could indicate that the features does not have a high linear correlation with the target. A Logistic Regression model will be fit below with the same features in the final model. "
   ]
  },
  {
   "cell_type": "code",
   "execution_count": 191,
   "metadata": {},
   "outputs": [
    {
     "name": "stdout",
     "output_type": "stream",
     "text": [
      "Best parameters found:  {'classifier__C': 1, 'classifier__class_weight': None}\n"
     ]
    }
   ],
   "source": [
    "# Define grid search parameters\n",
    "param_grid_lgr= {\n",
    "    'classifier__class_weight':['balanced',None],\n",
    "    'classifier__C':[0.1, 0.01, 1,0.001,10],\n",
    "}\n",
    "\n",
    "# Tuning\n",
    "preprocessor_lgr_nna_2 = param_tuning(X_train_nna_2,y_train_nna, LogisticRegression(),param_grid_lgr,cat_col=categorical_col_nna_2,num_col=numeric_col_nna_2)"
   ]
  },
  {
   "cell_type": "code",
   "execution_count": 192,
   "metadata": {},
   "outputs": [],
   "source": [
    "# With no missing\n",
    "model_lgr_nna_2 = LogisticRegression(\n",
    "                        C=1, \n",
    "                        class_weight = None,\n",
    "                                        )\n",
    "y_pred_lgr_nna_2 = testing(X_train_nna_2,y_train_nna, X_test_nna_2,y_test_nna, model=model_lgr_nna_2, preprocessor=preprocessor_lgr_nna_2)"
   ]
  },
  {
   "cell_type": "code",
   "execution_count": 193,
   "metadata": {},
   "outputs": [
    {
     "name": "stdout",
     "output_type": "stream",
     "text": [
      "Logistic Regression Model Evaluation\n"
     ]
    },
    {
     "data": {
      "text/plain": [
       "<Figure size 800x600 with 0 Axes>"
      ]
     },
     "metadata": {},
     "output_type": "display_data"
    },
    {
     "data": {
      "image/png": "[encoded data removed]",
      "text/plain": [
       "<Figure size 640x480 with 2 Axes>"
      ]
     },
     "metadata": {},
     "output_type": "display_data"
    },
    {
     "name": "stdout",
     "output_type": "stream",
     "text": [
      "              precision    recall  f1-score   support\n",
      "\n",
      "         0.0       0.85      0.95      0.90      2515\n",
      "         1.0       0.66      0.36      0.46       652\n",
      "\n",
      "    accuracy                           0.83      3167\n",
      "   macro avg       0.76      0.65      0.68      3167\n",
      "weighted avg       0.81      0.83      0.81      3167\n",
      "\n"
     ]
    }
   ],
   "source": [
    "print('Logistic Regression Model Evaluation')\n",
    "evaluating(y_pred_lgr_nna_2,y_test_nna) "
   ]
  },
  {
   "cell_type": "markdown",
   "metadata": {},
   "source": [
    "The accuracy rate is only 0.83, with a very low recall rate, suggesting that this model is not strong enough.   \n",
    "Polynomial features with a degree of 2 were created below to explore the possibility of a 'polynomial correlation,' but unfortunately, the Pearson correlation still appears too weak."
   ]
  },
  {
   "cell_type": "code",
   "execution_count": 194,
   "metadata": {},
   "outputs": [
    {
     "data": {
      "text/html": [
       "<div>\n",
       "<style scoped>\n",
       "    .dataframe tbody tr th:only-of-type {\n",
       "        vertical-align: middle;\n",
       "    }\n",
       "\n",
       "    .dataframe tbody tr th {\n",
       "        vertical-align: top;\n",
       "    }\n",
       "\n",
       "    .dataframe thead th {\n",
       "        text-align: right;\n",
       "    }\n",
       "</style>\n",
       "<table border=\"1\" class=\"dataframe\">\n",
       "  <thead>\n",
       "    <tr style=\"text-align: right;\">\n",
       "      <th></th>\n",
       "      <th>index</th>\n",
       "      <th>Current_loan_status_encoded</th>\n",
       "    </tr>\n",
       "  </thead>\n",
       "  <tbody>\n",
       "    <tr>\n",
       "      <th>0</th>\n",
       "      <td>customer_income</td>\n",
       "      <td>-0.161217</td>\n",
       "    </tr>\n",
       "    <tr>\n",
       "      <th>1</th>\n",
       "      <td>customer_age customer_income</td>\n",
       "      <td>-0.124475</td>\n",
       "    </tr>\n",
       "    <tr>\n",
       "      <th>2</th>\n",
       "      <td>customer_income employment_duration</td>\n",
       "      <td>-0.116687</td>\n",
       "    </tr>\n",
       "    <tr>\n",
       "      <th>3</th>\n",
       "      <td>customer_income term_years</td>\n",
       "      <td>-0.103249</td>\n",
       "    </tr>\n",
       "    <tr>\n",
       "      <th>4</th>\n",
       "      <td>employment_duration</td>\n",
       "      <td>-0.089498</td>\n",
       "    </tr>\n",
       "  </tbody>\n",
       "</table>\n",
       "</div>"
      ],
      "text/plain": [
       "                                 index  Current_loan_status_encoded\n",
       "0                      customer_income                    -0.161217\n",
       "1         customer_age customer_income                    -0.124475\n",
       "2  customer_income employment_duration                    -0.116687\n",
       "3           customer_income term_years                    -0.103249\n",
       "4                  employment_duration                    -0.089498"
      ]
     },
     "execution_count": 194,
     "metadata": {},
     "output_type": "execute_result"
    }
   ],
   "source": [
    "poly = PolynomialFeatures(degree=2, include_bias=False)\n",
    "X_poly = poly.fit_transform(X_nna[num_col])\n",
    "risk_poly = pd.DataFrame(X_poly, columns = poly.get_feature_names_out())\n",
    "(risk_poly.join(risk_nna[['Current_loan_status_encoded']]).corr()[['Current_loan_status_encoded']]\n",
    "        .sort_values(by='Current_loan_status_encoded').reset_index()).head(5)"
   ]
  },
  {
   "cell_type": "markdown",
   "metadata": {},
   "source": [
    "---\n",
    "### The choice of encoder and handling of missing values and model performance"
   ]
  },
  {
   "cell_type": "markdown",
   "metadata": {},
   "source": [
    "I have always believed that filling in missing values with the closest approximation to reality is the best approach, as it respects the integrity of the data. However, after encountering the WOE encoder, I realized that it's not always necessary to handle missing values in this way. Even with a random forest model, missing values can be treated as their **own category**, and leaving them as missing may actually be the closest representation of reality. \n",
    "\n",
    "This is particularly relevant in cases like `historical_default`, where 65% of the values are missing. With such a large proportion, the decision to fill or leave them can significantly impact the model. This experience will always remind me to explore different approaches when dealing with a substantial amount of missing data. On the other hand, however, dropping missing values (10%) in `employment_duration` is better than WOE them. There are more to be explored. "
   ]
  },
  {
   "cell_type": "markdown",
   "metadata": {},
   "source": [
    "---\n",
    "### Meaning of false positive and false negative"
   ]
  },
  {
   "cell_type": "markdown",
   "metadata": {},
   "source": [
    "**False positive prediction**: decline the loan applications of the customers not default -> if this is the main business of the bank, the revenue will be lowered\n",
    "\n",
    "**False negative prediction**: accept the loan applications of the customers that would default -> bank will also lose money, but other parameters needs to be considered, for example, loss given rate(LGD), exposure at default etc. It would also miscalculate the security deposit the bank needs to prepare. However, this effect should be marginal as here we are dealing with the loans to individual instead of to company. \n",
    "\n",
    "My financial knowledge is very limited, so this is the best that I can provide. "
   ]
  },
  {
   "cell_type": "markdown",
   "metadata": {},
   "source": [
    "---\n",
    "### Imbalanced target"
   ]
  },
  {
   "cell_type": "markdown",
   "metadata": {},
   "source": [
    "It is evident that in the `risk` dataset, `DEFALT` and `NO DEFALT` proportion is very imbalanced (2:8). This can lead to difficulty in terms of model improvement.\n",
    "\n",
    "Following ways are proposed to mitigate this issue:\n",
    "1. Increase number of `NO DEFAULT` by doubling those instances\n",
    "2. Decrease number of `DEFAULT` based on some features - i.e. `loan_intent`, `cluster` after clustering...\n",
    "\n",
    "These are not tested due to the time restrain, but can be explored in the future."
   ]
  }
 ],
 "metadata": {
  "kernelspec": {
   "display_name": "base",
   "language": "python",
   "name": "python3"
  },
  "language_info": {
   "codemirror_mode": {
    "name": "ipython",
    "version": 3
   },
   "file_extension": ".py",
   "mimetype": "text/x-python",
   "name": "python",
   "nbconvert_exporter": "python",
   "pygments_lexer": "ipython3",
   "version": "3.9.13"
  }
 },
 "nbformat": 4,
 "nbformat_minor": 2
}
