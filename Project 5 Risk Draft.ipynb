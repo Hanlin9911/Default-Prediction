{
 "cells": [
  {
   "cell_type": "markdown",
   "metadata": {},
   "source": [
    "# Project 5"
   ]
  },
  {
   "cell_type": "code",
   "execution_count": 233,
   "metadata": {},
   "outputs": [],
   "source": [
    "import pandas as pd\n",
    "import numpy as np\n",
    "import seaborn as sns\n",
    "import matplotlib.pyplot as plt\n",
    "\n",
    "# Preprocessing & Pipelines\n",
    "from sklearn.model_selection import train_test_split, GridSearchCV\n",
    "from sklearn.preprocessing import StandardScaler, OneHotEncoder,PolynomialFeatures\n",
    "from sklearn.compose import ColumnTransformer\n",
    "from sklearn.pipeline import Pipeline\n",
    "\n",
    "# Models\n",
    "from sklearn.svm import SVC\n",
    "from sklearn.neighbors import KNeighborsClassifier\n",
    "from sklearn.linear_model import LogisticRegression\n",
    "from sklearn.ensemble import RandomForestClassifier\n",
    "\n",
    "# Evaluation imports\n",
    "from sklearn.metrics import (\n",
    "    mean_squared_error, \n",
    "    mean_absolute_error,\n",
    "    classification_report,\n",
    "    confusion_matrix,\n",
    "    ConfusionMatrixDisplay,\n",
    "    recall_score,\n",
    "    precision_score,\n",
    "    accuracy_score,\n",
    "    make_scorer,\n",
    "    roc_auc_score\n",
    ")\n",
    "# Import param_tuning, testing and evaluating\n",
    "import sys\n",
    "sys.path.append('D:\\Courses for future\\Concordia Bootcamp\\Projects\\Project 5')\n",
    "\n",
    "from Testing import testing,param_tuning,evaluating,weighted_recall_precision\n",
    "\n",
    "import category_encoders as ce\n",
    "from optbinning import BinningProcess, OptimalBinning\n",
    "from category_encoders.woe import WOEEncoder\n",
    "\n",
    "import joblib"
   ]
  },
  {
   "cell_type": "code",
   "execution_count": 2,
   "metadata": {},
   "outputs": [],
   "source": [
    "plt.rcParams['axes.grid'] = False\n",
    "sns.set_theme(style=\"dark\")"
   ]
  },
  {
   "cell_type": "markdown",
   "metadata": {},
   "source": [
    "## Data at glance"
   ]
  },
  {
   "cell_type": "code",
   "execution_count": 5,
   "metadata": {},
   "outputs": [
    {
     "data": {
      "text/html": [
       "<div>\n",
       "<style scoped>\n",
       "    .dataframe tbody tr th:only-of-type {\n",
       "        vertical-align: middle;\n",
       "    }\n",
       "\n",
       "    .dataframe tbody tr th {\n",
       "        vertical-align: top;\n",
       "    }\n",
       "\n",
       "    .dataframe thead th {\n",
       "        text-align: right;\n",
       "    }\n",
       "</style>\n",
       "<table border=\"1\" class=\"dataframe\">\n",
       "  <thead>\n",
       "    <tr style=\"text-align: right;\">\n",
       "      <th></th>\n",
       "      <th>customer_id</th>\n",
       "      <th>customer_age</th>\n",
       "      <th>customer_income</th>\n",
       "      <th>home_ownership</th>\n",
       "      <th>employment_duration</th>\n",
       "      <th>loan_intent</th>\n",
       "      <th>loan_grade</th>\n",
       "      <th>loan_amnt</th>\n",
       "      <th>loan_int_rate</th>\n",
       "      <th>term_years</th>\n",
       "      <th>historical_default</th>\n",
       "      <th>cred_hist_length</th>\n",
       "      <th>Current_loan_status</th>\n",
       "    </tr>\n",
       "  </thead>\n",
       "  <tbody>\n",
       "    <tr>\n",
       "      <th>241</th>\n",
       "      <td>242.0</td>\n",
       "      <td>26</td>\n",
       "      <td>74004</td>\n",
       "      <td>RENT</td>\n",
       "      <td>10.0</td>\n",
       "      <td>DEBTCONSOLIDATION</td>\n",
       "      <td>C</td>\n",
       "      <td>£25,000.00</td>\n",
       "      <td>NaN</td>\n",
       "      <td>10</td>\n",
       "      <td>Y</td>\n",
       "      <td>4</td>\n",
       "      <td>DEFAULT</td>\n",
       "    </tr>\n",
       "    <tr>\n",
       "      <th>23788</th>\n",
       "      <td>23785.0</td>\n",
       "      <td>29</td>\n",
       "      <td>33600</td>\n",
       "      <td>RENT</td>\n",
       "      <td>0.0</td>\n",
       "      <td>PERSONAL</td>\n",
       "      <td>D</td>\n",
       "      <td>£9,600.00</td>\n",
       "      <td>15.99</td>\n",
       "      <td>9</td>\n",
       "      <td>Y</td>\n",
       "      <td>7</td>\n",
       "      <td>DEFAULT</td>\n",
       "    </tr>\n",
       "    <tr>\n",
       "      <th>21247</th>\n",
       "      <td>21244.0</td>\n",
       "      <td>28</td>\n",
       "      <td>30000</td>\n",
       "      <td>RENT</td>\n",
       "      <td>2.0</td>\n",
       "      <td>PERSONAL</td>\n",
       "      <td>A</td>\n",
       "      <td>£5,200.00</td>\n",
       "      <td>5.42</td>\n",
       "      <td>8</td>\n",
       "      <td>NaN</td>\n",
       "      <td>7</td>\n",
       "      <td>NO DEFAULT</td>\n",
       "    </tr>\n",
       "    <tr>\n",
       "      <th>13369</th>\n",
       "      <td>13368.0</td>\n",
       "      <td>23</td>\n",
       "      <td>90000</td>\n",
       "      <td>MORTGAGE</td>\n",
       "      <td>1.0</td>\n",
       "      <td>EDUCATION</td>\n",
       "      <td>D</td>\n",
       "      <td>£15,000.00</td>\n",
       "      <td>16.32</td>\n",
       "      <td>3</td>\n",
       "      <td>NaN</td>\n",
       "      <td>2</td>\n",
       "      <td>NO DEFAULT</td>\n",
       "    </tr>\n",
       "    <tr>\n",
       "      <th>30602</th>\n",
       "      <td>30598.0</td>\n",
       "      <td>39</td>\n",
       "      <td>60000</td>\n",
       "      <td>MORTGAGE</td>\n",
       "      <td>22.0</td>\n",
       "      <td>PERSONAL</td>\n",
       "      <td>B</td>\n",
       "      <td>£4,000.00</td>\n",
       "      <td>10.59</td>\n",
       "      <td>9</td>\n",
       "      <td>N</td>\n",
       "      <td>12</td>\n",
       "      <td>NO DEFAULT</td>\n",
       "    </tr>\n",
       "  </tbody>\n",
       "</table>\n",
       "</div>"
      ],
      "text/plain": [
       "       customer_id  customer_age customer_income home_ownership  \\\n",
       "241          242.0            26           74004           RENT   \n",
       "23788      23785.0            29           33600           RENT   \n",
       "21247      21244.0            28           30000           RENT   \n",
       "13369      13368.0            23           90000       MORTGAGE   \n",
       "30602      30598.0            39           60000       MORTGAGE   \n",
       "\n",
       "       employment_duration        loan_intent loan_grade   loan_amnt  \\\n",
       "241                   10.0  DEBTCONSOLIDATION          C  £25,000.00   \n",
       "23788                  0.0           PERSONAL          D   £9,600.00   \n",
       "21247                  2.0           PERSONAL          A   £5,200.00   \n",
       "13369                  1.0          EDUCATION          D  £15,000.00   \n",
       "30602                 22.0           PERSONAL          B   £4,000.00   \n",
       "\n",
       "       loan_int_rate  term_years historical_default  cred_hist_length  \\\n",
       "241              NaN          10                  Y                 4   \n",
       "23788          15.99           9                  Y                 7   \n",
       "21247           5.42           8                NaN                 7   \n",
       "13369          16.32           3                NaN                 2   \n",
       "30602          10.59           9                  N                12   \n",
       "\n",
       "      Current_loan_status  \n",
       "241               DEFAULT  \n",
       "23788             DEFAULT  \n",
       "21247          NO DEFAULT  \n",
       "13369          NO DEFAULT  \n",
       "30602          NO DEFAULT  "
      ]
     },
     "execution_count": 5,
     "metadata": {},
     "output_type": "execute_result"
    }
   ],
   "source": [
    "risk = pd.read_csv('Loans.csv')\n",
    "risk.sample(5)"
   ]
  },
  {
   "cell_type": "code",
   "execution_count": 6,
   "metadata": {},
   "outputs": [
    {
     "name": "stdout",
     "output_type": "stream",
     "text": [
      "<class 'pandas.core.frame.DataFrame'>\n",
      "RangeIndex: 32586 entries, 0 to 32585\n",
      "Data columns (total 13 columns):\n",
      " #   Column               Non-Null Count  Dtype  \n",
      "---  ------               --------------  -----  \n",
      " 0   customer_id          32583 non-null  float64\n",
      " 1   customer_age         32586 non-null  int64  \n",
      " 2   customer_income      32586 non-null  object \n",
      " 3   home_ownership       32586 non-null  object \n",
      " 4   employment_duration  31691 non-null  float64\n",
      " 5   loan_intent          32586 non-null  object \n",
      " 6   loan_grade           32586 non-null  object \n",
      " 7   loan_amnt            32585 non-null  object \n",
      " 8   loan_int_rate        29470 non-null  float64\n",
      " 9   term_years           32586 non-null  int64  \n",
      " 10  historical_default   11849 non-null  object \n",
      " 11  cred_hist_length     32586 non-null  int64  \n",
      " 12  Current_loan_status  32582 non-null  object \n",
      "dtypes: float64(3), int64(3), object(7)\n",
      "memory usage: 3.2+ MB\n"
     ]
    }
   ],
   "source": [
    "risk.info()"
   ]
  },
  {
   "cell_type": "code",
   "execution_count": 7,
   "metadata": {},
   "outputs": [
    {
     "data": {
      "text/plain": [
       "32577"
      ]
     },
     "execution_count": 7,
     "metadata": {},
     "output_type": "execute_result"
    }
   ],
   "source": [
    "# Check duplicates\n",
    "risk.customer_id.nunique() # Contain duplicates"
   ]
  },
  {
   "cell_type": "code",
   "execution_count": 8,
   "metadata": {},
   "outputs": [
    {
     "data": {
      "text/plain": [
       "customer_id                3\n",
       "employment_duration      895\n",
       "loan_amnt                  1\n",
       "loan_int_rate           3116\n",
       "historical_default     20737\n",
       "Current_loan_status        4\n",
       "dtype: int64"
      ]
     },
     "execution_count": 8,
     "metadata": {},
     "output_type": "execute_result"
    }
   ],
   "source": [
    "# Check missing values\n",
    "risk.isna().sum()[risk.isna().any()]"
   ]
  },
  {
   "cell_type": "markdown",
   "metadata": {},
   "source": [
    "Missing values in customer_id, loan_amnt, and Current_loan_status need to be dropped. The dataset needs to be deduplicated by customer_id.  \n",
    "Since there are 4 instances where Current_loan_status is missing, they will be used as the final features to predict on. "
   ]
  },
  {
   "cell_type": "code",
   "execution_count": 280,
   "metadata": {},
   "outputs": [],
   "source": [
    "# Drop duplicates in customer_id\n",
    "risk_1 = risk.drop_duplicates('customer_id').copy()\n",
    "\n",
    "# Drop na in customer_id, loan_amnt\n",
    "risk_1.dropna(subset=['customer_id'],inplace=True)\n",
    "risk_1.dropna(subset=['loan_amnt'],inplace=True)\n",
    "\n",
    "# Drop customer_id column\n",
    "risk_1.drop(columns='customer_id',inplace=True)\n",
    "risk_1.shape # Pass\n",
    "\n",
    "# Encode Default = 1, No Default = 0\n",
    "risk_1.loc[risk_1['Current_loan_status']=='DEFAULT','Current_loan_status_encoded']=1\n",
    "risk_1.loc[risk_1['Current_loan_status']=='NO DEFAULT','Current_loan_status_encoded']=0"
   ]
  },
  {
   "cell_type": "markdown",
   "metadata": {},
   "source": [
    "#### loan_amnt and customer_income type correction "
   ]
  },
  {
   "cell_type": "code",
   "execution_count": 281,
   "metadata": {},
   "outputs": [
    {
     "data": {
      "text/html": [
       "<div>\n",
       "<style scoped>\n",
       "    .dataframe tbody tr th:only-of-type {\n",
       "        vertical-align: middle;\n",
       "    }\n",
       "\n",
       "    .dataframe tbody tr th {\n",
       "        vertical-align: top;\n",
       "    }\n",
       "\n",
       "    .dataframe thead th {\n",
       "        text-align: right;\n",
       "    }\n",
       "</style>\n",
       "<table border=\"1\" class=\"dataframe\">\n",
       "  <thead>\n",
       "    <tr style=\"text-align: right;\">\n",
       "      <th></th>\n",
       "      <th>count</th>\n",
       "      <th>mean</th>\n",
       "      <th>std</th>\n",
       "      <th>min</th>\n",
       "      <th>25%</th>\n",
       "      <th>50%</th>\n",
       "      <th>75%</th>\n",
       "      <th>max</th>\n",
       "    </tr>\n",
       "  </thead>\n",
       "  <tbody>\n",
       "    <tr>\n",
       "      <th>loan_amnt</th>\n",
       "      <td>32576.0</td>\n",
       "      <td>9724.745211</td>\n",
       "      <td>21071.881794</td>\n",
       "      <td>500.0</td>\n",
       "      <td>5000.0</td>\n",
       "      <td>8000.0</td>\n",
       "      <td>12200.0</td>\n",
       "      <td>3500000.0</td>\n",
       "    </tr>\n",
       "    <tr>\n",
       "      <th>customer_income</th>\n",
       "      <td>32576.0</td>\n",
       "      <td>66072.987414</td>\n",
       "      <td>61987.652093</td>\n",
       "      <td>4000.0</td>\n",
       "      <td>38500.0</td>\n",
       "      <td>55000.0</td>\n",
       "      <td>79200.0</td>\n",
       "      <td>6000000.0</td>\n",
       "    </tr>\n",
       "  </tbody>\n",
       "</table>\n",
       "</div>"
      ],
      "text/plain": [
       "                   count          mean           std     min      25%  \\\n",
       "loan_amnt        32576.0   9724.745211  21071.881794   500.0   5000.0   \n",
       "customer_income  32576.0  66072.987414  61987.652093  4000.0  38500.0   \n",
       "\n",
       "                     50%      75%        max  \n",
       "loan_amnt         8000.0  12200.0  3500000.0  \n",
       "customer_income  55000.0  79200.0  6000000.0  "
      ]
     },
     "execution_count": 281,
     "metadata": {},
     "output_type": "execute_result"
    }
   ],
   "source": [
    "# Convert string to numeric\n",
    "risk_1['loan_amnt'] = pd.to_numeric(risk_1['loan_amnt'].str.replace(',', '').str[1:])\n",
    "risk_1['customer_income'] = pd.to_numeric(risk_1['customer_income'].str.replace(',',''))\n",
    "risk_1[['loan_amnt','customer_income']].describe().T"
   ]
  },
  {
   "cell_type": "code",
   "execution_count": 282,
   "metadata": {},
   "outputs": [],
   "source": [
    "# Instances with missing value in Current_loan_status will be used by the end to predict on the target.\n",
    "X_pr = risk_1[risk_1['Current_loan_status'].isna()].drop(columns=['Current_loan_status','Current_loan_status_encoded']).copy()\n",
    "risk_1.drop(X_pr.index.tolist(),inplace=True) # Pass shape check\n",
    "X_pr = X_pr.iloc[[0,1,3]].copy()\n"
   ]
  },
  {
   "cell_type": "markdown",
   "metadata": {},
   "source": [
    "## EDA"
   ]
  },
  {
   "cell_type": "code",
   "execution_count": 25,
   "metadata": {},
   "outputs": [
    {
     "data": {
      "text/plain": [
       "Current_loan_status\n",
       "NO DEFAULT    0.790159\n",
       "DEFAULT       0.209841\n",
       "Name: proportion, dtype: float64"
      ]
     },
     "execution_count": 25,
     "metadata": {},
     "output_type": "execute_result"
    }
   ],
   "source": [
    "risk_1.Current_loan_status.value_counts(normalize=True) # AR = 0.80"
   ]
  },
  {
   "cell_type": "markdown",
   "metadata": {},
   "source": [
    "### Data Quality Check"
   ]
  },
  {
   "cell_type": "markdown",
   "metadata": {},
   "source": [
    "#### customer_age cross check with employment_duration and cred_hist_length"
   ]
  },
  {
   "cell_type": "code",
   "execution_count": 26,
   "metadata": {},
   "outputs": [
    {
     "data": {
      "text/html": [
       "<div>\n",
       "<style scoped>\n",
       "    .dataframe tbody tr th:only-of-type {\n",
       "        vertical-align: middle;\n",
       "    }\n",
       "\n",
       "    .dataframe tbody tr th {\n",
       "        vertical-align: top;\n",
       "    }\n",
       "\n",
       "    .dataframe thead th {\n",
       "        text-align: right;\n",
       "    }\n",
       "</style>\n",
       "<table border=\"1\" class=\"dataframe\">\n",
       "  <thead>\n",
       "    <tr style=\"text-align: right;\">\n",
       "      <th></th>\n",
       "      <th>count</th>\n",
       "      <th>mean</th>\n",
       "      <th>std</th>\n",
       "      <th>min</th>\n",
       "      <th>25%</th>\n",
       "      <th>50%</th>\n",
       "      <th>75%</th>\n",
       "      <th>max</th>\n",
       "    </tr>\n",
       "  </thead>\n",
       "  <tbody>\n",
       "    <tr>\n",
       "      <th>customer_age</th>\n",
       "      <td>32558.0</td>\n",
       "      <td>27.710517</td>\n",
       "      <td>6.176049</td>\n",
       "      <td>20.0</td>\n",
       "      <td>23.0</td>\n",
       "      <td>26.0</td>\n",
       "      <td>30.0</td>\n",
       "      <td>78.0</td>\n",
       "    </tr>\n",
       "    <tr>\n",
       "      <th>employment_duration</th>\n",
       "      <td>31663.0</td>\n",
       "      <td>4.782048</td>\n",
       "      <td>4.035543</td>\n",
       "      <td>0.0</td>\n",
       "      <td>2.0</td>\n",
       "      <td>4.0</td>\n",
       "      <td>7.0</td>\n",
       "      <td>41.0</td>\n",
       "    </tr>\n",
       "  </tbody>\n",
       "</table>\n",
       "</div>"
      ],
      "text/plain": [
       "                       count       mean       std   min   25%   50%   75%  \\\n",
       "customer_age         32558.0  27.710517  6.176049  20.0  23.0  26.0  30.0   \n",
       "employment_duration  31663.0   4.782048  4.035543   0.0   2.0   4.0   7.0   \n",
       "\n",
       "                      max  \n",
       "customer_age         78.0  \n",
       "employment_duration  41.0  "
      ]
     },
     "execution_count": 26,
     "metadata": {},
     "output_type": "execute_result"
    }
   ],
   "source": [
    "# customer_age, employment_duration cross-validation\n",
    "risk_1[['customer_age','employment_duration']].describe().T\n",
    "\n",
    "# There are some issues related to age min==3, max==144, \n",
    "# and employment_duration, max==123"
   ]
  },
  {
   "cell_type": "code",
   "execution_count": 27,
   "metadata": {},
   "outputs": [
    {
     "data": {
      "image/png": "[encoded data removed]",
      "text/plain": [
       "<Figure size 640x480 with 1 Axes>"
      ]
     },
     "metadata": {},
     "output_type": "display_data"
    }
   ],
   "source": [
    "# Visualization to help choose the cut-off\n",
    "fig1,ax1=plt.subplots()\n",
    "sns.scatterplot(x=risk_1['customer_age'],y=risk_1['employment_duration'],ax=ax1)\n",
    "ax1.set_title('customer_age vs employment_duration');"
   ]
  },
  {
   "cell_type": "markdown",
   "metadata": {},
   "source": [
    "To drop as these data looks like invalid:\n",
    "1. Either the age is way too small and they have worked way too long, \n",
    "2. Or the age is way too big, and they worked way too short \n",
    "\n",
    "\n",
    "Note that for index = 32427, 32421, 32511 and 32585, those entries look more valid comparing with the others, especially loan_intent is medical for three of them, buut it is only 4 inputs which means there cases are rare/outliers. \n",
    "\n",
    "Since in loan_amnt, the currency is British pound (£), according to the British law, the minimum working age is 13 with restrictions, and the retirement age is 66 before 2026. Therefore, those who started working before 13 will be considered as invalid entry and will be dropped since the number of instances is small."
   ]
  },
  {
   "cell_type": "code",
   "execution_count": 28,
   "metadata": {},
   "outputs": [
    {
     "data": {
      "text/plain": [
       "0"
      ]
     },
     "execution_count": 28,
     "metadata": {},
     "output_type": "execute_result"
    }
   ],
   "source": [
    "# customer_age<18 or customer_age>80\n",
    "(risk_1[(risk_1['customer_age']<18) | (risk_1['customer_age']>=80)])\n",
    "drop_index = (risk_1[(risk_1['customer_age']<18) | (risk_1['customer_age']>=80)].index).tolist() \n",
    "\n",
    "# Cross vailidate customer_age with employment_duration\n",
    "risk_1[(risk_1.customer_age - risk_1.employment_duration)<13] # To drop \n",
    "drop_index += (risk_1[(risk_1.customer_age - risk_1.employment_duration)<13]).index.tolist()\n",
    "len(drop_index)"
   ]
  },
  {
   "cell_type": "code",
   "execution_count": 29,
   "metadata": {},
   "outputs": [
    {
     "data": {
      "text/plain": [
       "True"
      ]
     },
     "execution_count": 29,
     "metadata": {},
     "output_type": "execute_result"
    }
   ],
   "source": [
    "# Dropping\n",
    "# a. customer_age > 80\n",
    "# b. customer_age < 18\n",
    "# c. customer_age - employment_duration <13\n",
    "len(set(drop_index)) #14\n",
    "risk_1.drop(set(drop_index),inplace=True)\n",
    "(risk_1.shape[0] + 14) == 32572 # Pass"
   ]
  },
  {
   "cell_type": "code",
   "execution_count": 30,
   "metadata": {},
   "outputs": [
    {
     "data": {
      "image/png": "[encoded data removed]",
      "text/plain": [
       "<Figure size 2500x600 with 2 Axes>"
      ]
     },
     "metadata": {},
     "output_type": "display_data"
    }
   ],
   "source": [
    "# Visualization, Loan purpose of senior citizens\n",
    "senior = risk_1[risk_1['customer_age']>=66].copy()\n",
    "\n",
    "fig2,(ax2,ax3)=plt.subplots(ncols=2,figsize=(25,6))\n",
    "sns.countplot(data=senior, x='loan_intent',ax=ax2)\n",
    "ax2.set_xlabel('')\n",
    "\n",
    "sns.countplot(data=risk_1, x='loan_intent',ax=ax3)\n",
    "ax3.set_xlabel('')\n",
    "fig2.suptitle('Loan Reason Distribution in Senior Citizens vs All',fontsize=18);"
   ]
  },
  {
   "cell_type": "markdown",
   "metadata": {},
   "source": [
    "It shows that for senior citizens, the most popular loan_intent medical, which is close to real life. "
   ]
  },
  {
   "cell_type": "code",
   "execution_count": 31,
   "metadata": {},
   "outputs": [
    {
     "data": {
      "image/png": "[encoded data removed]",
      "text/plain": [
       "<Figure size 640x480 with 1 Axes>"
      ]
     },
     "metadata": {},
     "output_type": "display_data"
    }
   ],
   "source": [
    "# Visualization after cleaning\n",
    "fig4,ax4=plt.subplots()\n",
    "sns.scatterplot(x=risk_1['customer_age'],y=risk_1['employment_duration'],ax=ax4)\n",
    "ax4.set_title('customer_age vs employment_duration, after cleaning');"
   ]
  },
  {
   "cell_type": "code",
   "execution_count": 32,
   "metadata": {},
   "outputs": [
    {
     "data": {
      "text/html": [
       "<div>\n",
       "<style scoped>\n",
       "    .dataframe tbody tr th:only-of-type {\n",
       "        vertical-align: middle;\n",
       "    }\n",
       "\n",
       "    .dataframe tbody tr th {\n",
       "        vertical-align: top;\n",
       "    }\n",
       "\n",
       "    .dataframe thead th {\n",
       "        text-align: right;\n",
       "    }\n",
       "</style>\n",
       "<table border=\"1\" class=\"dataframe\">\n",
       "  <thead>\n",
       "    <tr style=\"text-align: right;\">\n",
       "      <th></th>\n",
       "      <th>customer_age</th>\n",
       "      <th>customer_income</th>\n",
       "      <th>home_ownership</th>\n",
       "      <th>employment_duration</th>\n",
       "      <th>loan_intent</th>\n",
       "      <th>loan_grade</th>\n",
       "      <th>loan_amnt</th>\n",
       "      <th>loan_int_rate</th>\n",
       "      <th>term_years</th>\n",
       "      <th>historical_default</th>\n",
       "      <th>cred_hist_length</th>\n",
       "      <th>Current_loan_status</th>\n",
       "      <th>Current_loan_status_encoded</th>\n",
       "    </tr>\n",
       "  </thead>\n",
       "  <tbody>\n",
       "    <tr>\n",
       "      <th>1315</th>\n",
       "      <td>20</td>\n",
       "      <td>64000</td>\n",
       "      <td>RENT</td>\n",
       "      <td>3.0</td>\n",
       "      <td>VENTURE</td>\n",
       "      <td>C</td>\n",
       "      <td>£16,000.00</td>\n",
       "      <td>15.31</td>\n",
       "      <td>8</td>\n",
       "      <td>Y</td>\n",
       "      <td>4</td>\n",
       "      <td>DEFAULT</td>\n",
       "      <td>1.0</td>\n",
       "    </tr>\n",
       "    <tr>\n",
       "      <th>3853</th>\n",
       "      <td>20</td>\n",
       "      <td>32652</td>\n",
       "      <td>MORTGAGE</td>\n",
       "      <td>0.0</td>\n",
       "      <td>PERSONAL</td>\n",
       "      <td>C</td>\n",
       "      <td>£6,000.00</td>\n",
       "      <td>14.61</td>\n",
       "      <td>2</td>\n",
       "      <td>N</td>\n",
       "      <td>4</td>\n",
       "      <td>DEFAULT</td>\n",
       "      <td>1.0</td>\n",
       "    </tr>\n",
       "    <tr>\n",
       "      <th>13920</th>\n",
       "      <td>20</td>\n",
       "      <td>98000</td>\n",
       "      <td>MORTGAGE</td>\n",
       "      <td>4.0</td>\n",
       "      <td>EDUCATION</td>\n",
       "      <td>C</td>\n",
       "      <td>£24,250.00</td>\n",
       "      <td>NaN</td>\n",
       "      <td>2</td>\n",
       "      <td>NaN</td>\n",
       "      <td>4</td>\n",
       "      <td>NO DEFAULT</td>\n",
       "      <td>0.0</td>\n",
       "    </tr>\n",
       "    <tr>\n",
       "      <th>15834</th>\n",
       "      <td>20</td>\n",
       "      <td>188004</td>\n",
       "      <td>MORTGAGE</td>\n",
       "      <td>4.0</td>\n",
       "      <td>EDUCATION</td>\n",
       "      <td>A</td>\n",
       "      <td>£2,000.00</td>\n",
       "      <td>8.59</td>\n",
       "      <td>2</td>\n",
       "      <td>NaN</td>\n",
       "      <td>4</td>\n",
       "      <td>NO DEFAULT</td>\n",
       "      <td>0.0</td>\n",
       "    </tr>\n",
       "    <tr>\n",
       "      <th>17200</th>\n",
       "      <td>20</td>\n",
       "      <td>65000</td>\n",
       "      <td>MORTGAGE</td>\n",
       "      <td>4.0</td>\n",
       "      <td>VENTURE</td>\n",
       "      <td>A</td>\n",
       "      <td>£4,800.00</td>\n",
       "      <td>9.99</td>\n",
       "      <td>2</td>\n",
       "      <td>NaN</td>\n",
       "      <td>4</td>\n",
       "      <td>NO DEFAULT</td>\n",
       "      <td>0.0</td>\n",
       "    </tr>\n",
       "  </tbody>\n",
       "</table>\n",
       "</div>"
      ],
      "text/plain": [
       "       customer_age customer_income home_ownership  employment_duration  \\\n",
       "1315             20           64000           RENT                  3.0   \n",
       "3853             20           32652       MORTGAGE                  0.0   \n",
       "13920            20           98000       MORTGAGE                  4.0   \n",
       "15834            20          188004       MORTGAGE                  4.0   \n",
       "17200            20           65000       MORTGAGE                  4.0   \n",
       "\n",
       "      loan_intent loan_grade   loan_amnt  loan_int_rate  term_years  \\\n",
       "1315      VENTURE          C  £16,000.00          15.31           8   \n",
       "3853     PERSONAL          C   £6,000.00          14.61           2   \n",
       "13920   EDUCATION          C  £24,250.00            NaN           2   \n",
       "15834   EDUCATION          A   £2,000.00           8.59           2   \n",
       "17200     VENTURE          A   £4,800.00           9.99           2   \n",
       "\n",
       "      historical_default  cred_hist_length Current_loan_status  \\\n",
       "1315                   Y                 4             DEFAULT   \n",
       "3853                   N                 4             DEFAULT   \n",
       "13920                NaN                 4          NO DEFAULT   \n",
       "15834                NaN                 4          NO DEFAULT   \n",
       "17200                NaN                 4          NO DEFAULT   \n",
       "\n",
       "       Current_loan_status_encoded  \n",
       "1315                           1.0  \n",
       "3853                           1.0  \n",
       "13920                          0.0  \n",
       "15834                          0.0  \n",
       "17200                          0.0  "
      ]
     },
     "execution_count": 32,
     "metadata": {},
     "output_type": "execute_result"
    }
   ],
   "source": [
    "# Cross vailidate customer_age with cred_hist_length\n",
    "risk_1[(risk_1.customer_age - risk_1.cred_hist_length)<17] # 5 instances"
   ]
  },
  {
   "cell_type": "markdown",
   "metadata": {},
   "source": [
    "Since in UK, the minimum age to apply for a credit card is 18. Here 17 is choosed to avoid rounding errors. However, there are possible other ways to build credit history when an applicant is below 18. Therefore, these data are not considered as invalid. "
   ]
  },
  {
   "cell_type": "markdown",
   "metadata": {},
   "source": [
    "### Missing Data"
   ]
  },
  {
   "cell_type": "code",
   "execution_count": 34,
   "metadata": {},
   "outputs": [
    {
     "data": {
      "text/plain": [
       "employment_duration      895\n",
       "loan_int_rate           3111\n",
       "historical_default     20728\n",
       "dtype: int64"
      ]
     },
     "execution_count": 34,
     "metadata": {},
     "output_type": "execute_result"
    }
   ],
   "source": [
    "risk_1.isna().sum()[risk_1.isna().any()]"
   ]
  },
  {
   "cell_type": "markdown",
   "metadata": {},
   "source": [
    "#### historical_default\n",
    "There are various reasons that can explain why over 20k entries have historical_default missing. One of them can be, the customer does not have any other loans prior to this loan and therefore the data is missing. However, after investigating deeper into the data, it is easy to notices that for certain customers with home_ownership of Mortgage, they also have a missing value in historical_default. It is also noticeable that among those non-missing entries, over half of the customers has a historical_default. This proportion does not align with the proportion of Current_loan_status. By replacing missing values with N, the proportion of Non-Default would increase to around 0.81 which aligns with the proportion of Current_loan_status. Therefore, here a bold imputations is performed: missing values in historical_default will be replaced by N. "
   ]
  },
  {
   "cell_type": "code",
   "execution_count": 36,
   "metadata": {},
   "outputs": [],
   "source": [
    "# historical default\n",
    "risk_1.historical_default.value_counts(normalize=True).reset_index() # 0.48 N\n",
    "sum_before = (risk_1.groupby('historical_default',as_index=False)['Current_loan_status'].value_counts(normalize=True))\n",
    "risk_1.fillna({'historical_default':'N'},inplace=True) # Replace with N\n",
    "risk_1.historical_default.value_counts(normalize=True).reset_index() # N = 0.81, current_N = 0.79\n",
    "sum_after = (risk_1.groupby('historical_default',as_index=False)['Current_loan_status'].value_counts(normalize=True))\n"
   ]
  },
  {
   "cell_type": "code",
   "execution_count": 37,
   "metadata": {},
   "outputs": [
    {
     "data": {
      "image/png": "[encoded data removed]",
      "text/plain": [
       "<Figure size 1200x600 with 2 Axes>"
      ]
     },
     "metadata": {},
     "output_type": "display_data"
    }
   ],
   "source": [
    "# Visualization, before imputation vs after imputation\n",
    "fig5,(ax5,ax6) = plt.subplots(ncols=2, figsize=(12,6))\n",
    "sns.barplot(data=sum_before.sort_values(by=['historical_default','Current_loan_status'],ascending=[True,False]), \n",
    "            x='historical_default', y='proportion', hue='Current_loan_status',ax=ax5)\n",
    "\n",
    "sns.barplot(data=sum_after, \n",
    "            x='historical_default', y='proportion', hue='Current_loan_status',ax=ax6)\n",
    "plt.suptitle('Default proportion by historical default before(left) and after(right) imputation');"
   ]
  },
  {
   "cell_type": "markdown",
   "metadata": {},
   "source": [
    "### loan_int_rate\n",
    "Although the missing value in loan_int_rate can be imputed with median or mean, the WOE method would be used to encode all the features. Therefore, the missing values in loan_int_rate will not be filled. \n",
    "WOE encoder was applied to encode loan_int_rate, therefore, the missing value will not be filled.\n",
    "\n",
    "However, the risk_nna dataframe is established to show the correlation between the features and variables. "
   ]
  },
  {
   "cell_type": "code",
   "execution_count": 38,
   "metadata": {},
   "outputs": [
    {
     "data": {
      "text/plain": [
       "3111"
      ]
     },
     "execution_count": 38,
     "metadata": {},
     "output_type": "execute_result"
    }
   ],
   "source": [
    "risk_1.loan_int_rate.isna().sum() # Around 10% Missing"
   ]
  },
  {
   "cell_type": "code",
   "execution_count": 39,
   "metadata": {},
   "outputs": [
    {
     "data": {
      "text/html": [
       "<div>\n",
       "<style scoped>\n",
       "    .dataframe tbody tr th:only-of-type {\n",
       "        vertical-align: middle;\n",
       "    }\n",
       "\n",
       "    .dataframe tbody tr th {\n",
       "        vertical-align: top;\n",
       "    }\n",
       "\n",
       "    .dataframe thead th {\n",
       "        text-align: right;\n",
       "    }\n",
       "</style>\n",
       "<table border=\"1\" class=\"dataframe\">\n",
       "  <thead>\n",
       "    <tr style=\"text-align: right;\">\n",
       "      <th></th>\n",
       "      <th>count</th>\n",
       "      <th>mean</th>\n",
       "      <th>std</th>\n",
       "      <th>min</th>\n",
       "      <th>25%</th>\n",
       "      <th>50%</th>\n",
       "      <th>75%</th>\n",
       "      <th>max</th>\n",
       "    </tr>\n",
       "  </thead>\n",
       "  <tbody>\n",
       "    <tr>\n",
       "      <th>loan_int_rate</th>\n",
       "      <td>29447.0</td>\n",
       "      <td>11.011873</td>\n",
       "      <td>3.240724</td>\n",
       "      <td>5.42</td>\n",
       "      <td>7.9</td>\n",
       "      <td>10.99</td>\n",
       "      <td>13.47</td>\n",
       "      <td>23.22</td>\n",
       "    </tr>\n",
       "  </tbody>\n",
       "</table>\n",
       "</div>"
      ],
      "text/plain": [
       "                 count       mean       std   min  25%    50%    75%    max\n",
       "loan_int_rate  29447.0  11.011873  3.240724  5.42  7.9  10.99  13.47  23.22"
      ]
     },
     "execution_count": 39,
     "metadata": {},
     "output_type": "execute_result"
    }
   ],
   "source": [
    "risk_1[['loan_int_rate','customer_income','loan_amnt','term_years']].corr() # No correlation\n",
    "risk_1[['loan_int_rate']].describe().T\n",
    "# Missing value in loan_int_rate will be replaced by mean -> mean / median are almost the same"
   ]
  },
  {
   "cell_type": "code",
   "execution_count": 45,
   "metadata": {},
   "outputs": [],
   "source": [
    "risk_nna = risk_1.copy()\n",
    "risk_nna['loan_int_rate']=risk_nna['loan_int_rate'].fillna(risk_1['loan_int_rate'].mean())"
   ]
  },
  {
   "cell_type": "markdown",
   "metadata": {},
   "source": [
    "### employement_duration\n",
    "With 3% missing value in employment rate, below are the four possible solutions:\n",
    "1. Drop all missing instances\n",
    "2. Simply impute it by mean/median\n",
    "3. Cluster then impute by cluster mean/create a model to impute the missing value\n",
    "4. Use Weight of Evidence encoder to put numeric data into categories, and have a missing category.\n",
    "\n",
    "Here the first method will be used first as it is the most straightforward, but the last method will also be applied to compare by the end."
   ]
  },
  {
   "cell_type": "code",
   "execution_count": 40,
   "metadata": {},
   "outputs": [
    {
     "data": {
      "text/html": [
       "<div>\n",
       "<style scoped>\n",
       "    .dataframe tbody tr th:only-of-type {\n",
       "        vertical-align: middle;\n",
       "    }\n",
       "\n",
       "    .dataframe tbody tr th {\n",
       "        vertical-align: top;\n",
       "    }\n",
       "\n",
       "    .dataframe thead th {\n",
       "        text-align: right;\n",
       "    }\n",
       "</style>\n",
       "<table border=\"1\" class=\"dataframe\">\n",
       "  <thead>\n",
       "    <tr style=\"text-align: right;\">\n",
       "      <th></th>\n",
       "      <th>count</th>\n",
       "      <th>mean</th>\n",
       "      <th>std</th>\n",
       "      <th>min</th>\n",
       "      <th>25%</th>\n",
       "      <th>50%</th>\n",
       "      <th>75%</th>\n",
       "      <th>max</th>\n",
       "    </tr>\n",
       "  </thead>\n",
       "  <tbody>\n",
       "    <tr>\n",
       "      <th>employment_duration</th>\n",
       "      <td>31663.0</td>\n",
       "      <td>4.782048</td>\n",
       "      <td>4.035543</td>\n",
       "      <td>0.0</td>\n",
       "      <td>2.0</td>\n",
       "      <td>4.0</td>\n",
       "      <td>7.0</td>\n",
       "      <td>41.0</td>\n",
       "    </tr>\n",
       "  </tbody>\n",
       "</table>\n",
       "</div>"
      ],
      "text/plain": [
       "                       count      mean       std  min  25%  50%  75%   max\n",
       "employment_duration  31663.0  4.782048  4.035543  0.0  2.0  4.0  7.0  41.0"
      ]
     },
     "execution_count": 40,
     "metadata": {},
     "output_type": "execute_result"
    }
   ],
   "source": [
    "risk_1.employment_duration.isna().sum() # Around 3%\n",
    "risk_1[['employment_duration']].describe().T"
   ]
  },
  {
   "cell_type": "code",
   "execution_count": 41,
   "metadata": {},
   "outputs": [
    {
     "data": {
      "text/html": [
       "<div>\n",
       "<style scoped>\n",
       "    .dataframe tbody tr th:only-of-type {\n",
       "        vertical-align: middle;\n",
       "    }\n",
       "\n",
       "    .dataframe tbody tr th {\n",
       "        vertical-align: top;\n",
       "    }\n",
       "\n",
       "    .dataframe thead th {\n",
       "        text-align: right;\n",
       "    }\n",
       "</style>\n",
       "<table border=\"1\" class=\"dataframe\">\n",
       "  <thead>\n",
       "    <tr style=\"text-align: right;\">\n",
       "      <th></th>\n",
       "      <th>employment_duration</th>\n",
       "      <th>cred_hist_length</th>\n",
       "      <th>customer_age</th>\n",
       "      <th>customer_income</th>\n",
       "    </tr>\n",
       "  </thead>\n",
       "  <tbody>\n",
       "    <tr>\n",
       "      <th>employment_duration</th>\n",
       "      <td>1.000000</td>\n",
       "      <td>0.149910</td>\n",
       "      <td>0.173884</td>\n",
       "      <td>0.154782</td>\n",
       "    </tr>\n",
       "    <tr>\n",
       "      <th>cred_hist_length</th>\n",
       "      <td>0.149910</td>\n",
       "      <td>1.000000</td>\n",
       "      <td>0.878305</td>\n",
       "      <td>0.123571</td>\n",
       "    </tr>\n",
       "    <tr>\n",
       "      <th>customer_age</th>\n",
       "      <td>0.173884</td>\n",
       "      <td>0.878305</td>\n",
       "      <td>1.000000</td>\n",
       "      <td>0.141505</td>\n",
       "    </tr>\n",
       "    <tr>\n",
       "      <th>customer_income</th>\n",
       "      <td>0.154782</td>\n",
       "      <td>0.123571</td>\n",
       "      <td>0.141505</td>\n",
       "      <td>1.000000</td>\n",
       "    </tr>\n",
       "  </tbody>\n",
       "</table>\n",
       "</div>"
      ],
      "text/plain": [
       "                     employment_duration  cred_hist_length  customer_age  \\\n",
       "employment_duration             1.000000          0.149910      0.173884   \n",
       "cred_hist_length                0.149910          1.000000      0.878305   \n",
       "customer_age                    0.173884          0.878305      1.000000   \n",
       "customer_income                 0.154782          0.123571      0.141505   \n",
       "\n",
       "                     customer_income  \n",
       "employment_duration         0.154782  \n",
       "cred_hist_length            0.123571  \n",
       "customer_age                0.141505  \n",
       "customer_income             1.000000  "
      ]
     },
     "execution_count": 41,
     "metadata": {},
     "output_type": "execute_result"
    }
   ],
   "source": [
    "risk_1[['employment_duration','cred_hist_length','customer_age','customer_income']].corr()\n",
    "# A model can be made based on customer_age, and customer_income to fill in na"
   ]
  },
  {
   "cell_type": "code",
   "execution_count": 48,
   "metadata": {},
   "outputs": [],
   "source": [
    "# Drop na\n",
    "risk_nna = risk_nna.dropna(subset=['employment_duration'])\n",
    "risk_nna.isna().sum() # Pass no missing values\n",
    "\n",
    "risk_nna.reset_index(inplace=True)"
   ]
  },
  {
   "cell_type": "markdown",
   "metadata": {},
   "source": [
    "## Univariate Analysis"
   ]
  },
  {
   "cell_type": "code",
   "execution_count": 51,
   "metadata": {},
   "outputs": [],
   "source": [
    "target = ['Current_loan_status_encoded']\n",
    "cat_col = ['home_ownership','loan_intent', 'loan_grade','historical_default']\n",
    "num_col = ['customer_age','customer_income','employment_duration','loan_amnt','loan_int_rate','term_years','cred_hist_length']"
   ]
  },
  {
   "cell_type": "markdown",
   "metadata": {},
   "source": [
    "For numeric columns, gini coefficient instead of pearson correlation will be calculated to compare the correlation between the feature and the target. "
   ]
  },
  {
   "cell_type": "code",
   "execution_count": 50,
   "metadata": {},
   "outputs": [
    {
     "data": {
      "text/html": [
       "<div>\n",
       "<style scoped>\n",
       "    .dataframe tbody tr th:only-of-type {\n",
       "        vertical-align: middle;\n",
       "    }\n",
       "\n",
       "    .dataframe tbody tr th {\n",
       "        vertical-align: top;\n",
       "    }\n",
       "\n",
       "    .dataframe thead th {\n",
       "        text-align: right;\n",
       "    }\n",
       "</style>\n",
       "<table border=\"1\" class=\"dataframe\">\n",
       "  <thead>\n",
       "    <tr style=\"text-align: right;\">\n",
       "      <th></th>\n",
       "      <th>name</th>\n",
       "      <th>gini</th>\n",
       "    </tr>\n",
       "  </thead>\n",
       "  <tbody>\n",
       "    <tr>\n",
       "      <th>1</th>\n",
       "      <td>customer_income</td>\n",
       "      <td>0.365103</td>\n",
       "    </tr>\n",
       "    <tr>\n",
       "      <th>2</th>\n",
       "      <td>employment_duration</td>\n",
       "      <td>0.140473</td>\n",
       "    </tr>\n",
       "    <tr>\n",
       "      <th>0</th>\n",
       "      <td>customer_age</td>\n",
       "      <td>0.047529</td>\n",
       "    </tr>\n",
       "    <tr>\n",
       "      <th>6</th>\n",
       "      <td>cred_hist_length</td>\n",
       "      <td>0.034789</td>\n",
       "    </tr>\n",
       "    <tr>\n",
       "      <th>5</th>\n",
       "      <td>term_years</td>\n",
       "      <td>-0.040078</td>\n",
       "    </tr>\n",
       "    <tr>\n",
       "      <th>3</th>\n",
       "      <td>loan_amnt</td>\n",
       "      <td>-0.118115</td>\n",
       "    </tr>\n",
       "    <tr>\n",
       "      <th>4</th>\n",
       "      <td>loan_int_rate</td>\n",
       "      <td>-0.432170</td>\n",
       "    </tr>\n",
       "  </tbody>\n",
       "</table>\n",
       "</div>"
      ],
      "text/plain": [
       "                  name      gini\n",
       "1      customer_income  0.365103\n",
       "2  employment_duration  0.140473\n",
       "0         customer_age  0.047529\n",
       "6     cred_hist_length  0.034789\n",
       "5           term_years -0.040078\n",
       "3            loan_amnt -0.118115\n",
       "4        loan_int_rate -0.432170"
      ]
     },
     "execution_count": 50,
     "metadata": {},
     "output_type": "execute_result"
    }
   ],
   "source": [
    "target_df = risk_nna['Current_loan_status']\n",
    "gini = []\n",
    "name = []\n",
    "for columns in num_col:\n",
    "    feature = risk_nna[f'{columns}']\n",
    "    auc = roc_auc_score(target_df, feature)\n",
    "    gini_coefficient = 2 * auc - 1# Conversion from auc to gini\n",
    "    name.append(f'{columns}')\n",
    "    gini.append(gini_coefficient)\n",
    "corr_gini_df = pd.DataFrame({'name':name, 'gini':gini} )\n",
    "\n",
    "corr_gini_df.sort_values(by = 'gini', ascending=False)"
   ]
  },
  {
   "cell_type": "markdown",
   "metadata": {},
   "source": [
    "Note that loan_int_rate seem to have the highest correlation with the target, however, this is also a variable that is moderately imputed (10% data are missing). Therefore, it is important to check if its original pattern is disturbed by this imputation. "
   ]
  },
  {
   "cell_type": "code",
   "execution_count": 34,
   "metadata": {},
   "outputs": [
    {
     "data": {
      "text/plain": [
       "<AxesSubplot:xlabel='loan_int_rate', ylabel='Percent'>"
      ]
     },
     "execution_count": 34,
     "metadata": {},
     "output_type": "execute_result"
    },
    {
     "data": {
      "image/png": "[encoded data removed]",
      "text/plain": [
       "<Figure size 1600x600 with 2 Axes>"
      ]
     },
     "metadata": {},
     "output_type": "display_data"
    }
   ],
   "source": [
    "figd, (axd,axe) = plt.subplots(ncols=2,figsize=(16,6))\n",
    "sns.histplot(data=risk, x='loan_int_rate', hue='Current_loan_status',stat='percent',ax=axd)\n",
    "sns.histplot(data=risk_nna, x='loan_int_rate', hue='Current_loan_status',stat='percent',ax=axe)"
   ]
  },
  {
   "cell_type": "code",
   "execution_count": 35,
   "metadata": {},
   "outputs": [
    {
     "data": {
      "image/png": "[encoded data removed]",
      "text/plain": [
       "<Figure size 1600x800 with 2 Axes>"
      ]
     },
     "metadata": {},
     "output_type": "display_data"
    }
   ],
   "source": [
    "figg, (axg,axh) = plt.subplots(nrows=2, figsize=(16,8))\n",
    "sns.histplot(data=risk_nna[risk_nna['customer_income']<150000], x='customer_income', hue='Current_loan_status',stat='percent',ax=axg)\n",
    "sns.histplot(data=risk_nna[risk_nna['customer_income']>=150000], x='customer_income', hue='Current_loan_status',stat='percent',ax=axh)\n",
    "plt.grid(False)"
   ]
  },
  {
   "cell_type": "markdown",
   "metadata": {},
   "source": [
    "Customer income, loan amount, loan interst rate and employment duration are the four leading predictors for the target. "
   ]
  },
  {
   "cell_type": "code",
   "execution_count": 36,
   "metadata": {},
   "outputs": [],
   "source": [
    "def cat_visual(df, col, ax):\n",
    "    '''\n",
    "    This function aims to visualize the proportion of Default vs No Default in different categories of a chosen column\n",
    "\n",
    "    :param [df]: dataframe of interest\n",
    "    :type [df]: pd.DataFrame\n",
    "\n",
    "    :param [col]: columnn name of interest\n",
    "    :type [col]: str\n",
    "\n",
    "    :param [ax]: the axis to be plotted on\n",
    "    :type [ax]: matplotlib.axe.Axes\n",
    "    ...\n",
    "    :return: the summary of Churn proportion grouped by selected column\n",
    "    :rtype: pd.DataFrame\n",
    "    \n",
    "    '''\n",
    "    summary = (df.groupby(col,as_index=False)['Current_loan_status'].value_counts(normalize=True))\n",
    "\n",
    "    sns.barplot(data=summary, x=col, y='proportion', hue='Current_loan_status',ax=ax)\n",
    "    ax.set_title(f'Current Loan Status Percentage by {col}')\n",
    "    ax.set_ylabel('Proportion')\n",
    "\n",
    "    return summary"
   ]
  },
  {
   "cell_type": "code",
   "execution_count": 37,
   "metadata": {},
   "outputs": [
    {
     "data": {
      "image/png": "[encoded data removed]",
      "text/plain": [
       "<Figure size 2200x2200 with 4 Axes>"
      ]
     },
     "metadata": {},
     "output_type": "display_data"
    }
   ],
   "source": [
    "# Visualization\n",
    "# Excuse me for the bad viz here, partially because of the long name of debt intent\n",
    "# To fix this, loan intent can be coded with letters for example, and creation of another dataset to be able to refer back the loan intent is needed.\n",
    "# Create a figure and a grid of subplots\n",
    "fig, axs = plt.subplots(nrows=2, ncols=2, figsize=(22,22))\n",
    "\n",
    "# Flatten the array of axes\n",
    "ax1a, ax2a, ax3a, ax4a = axs.flatten()\n",
    "\n",
    "sum_1 = cat_visual(risk_nna,'home_ownership',ax=ax1a)\n",
    "sum_2 = cat_visual(risk_nna,'loan_intent',ax=ax2a)\n",
    "sum_3 = cat_visual(risk_nna,'loan_grade',ax=ax3a)\n",
    "sum_4 = cat_visual(risk_nna,'historical_default',ax=ax4a)"
   ]
  },
  {
   "cell_type": "markdown",
   "metadata": {},
   "source": [
    "## WOE encoding"
   ]
  },
  {
   "cell_type": "code",
   "execution_count": null,
   "metadata": {},
   "outputs": [],
   "source": [
    "target = ['Current_loan_status_encoded']\n",
    "cat_col = ['home_ownership','loan_intent', 'loan_grade','historical_default']\n",
    "num_col = ['customer_age','customer_income','employment_duration','loan_amnt','loan_int_rate','term_years','cred_hist_length']"
   ]
  },
  {
   "cell_type": "code",
   "execution_count": 53,
   "metadata": {},
   "outputs": [],
   "source": [
    "# Train test split before WOE encoding\n",
    "\n",
    "# With No missing value\n",
    "# Recall, loan_int_rate was imputed by median\n",
    "# employment_duration was dropped\n",
    "# Will be handled using WOE\n",
    "X_nna = risk_nna[cat_col+num_col]\n",
    "y_nna = risk_nna[target[0]]\n",
    "X_train_nna, X_test_nna, y_train_nna, y_test_nna = train_test_split(X_nna, y_nna, test_size=0.1, \n",
    "                                                                    stratify=risk_nna['loan_intent'], \n",
    "                                                                    random_state=5000, shuffle=True)\n",
    "\n",
    "\n",
    "# With missing values\n",
    "# Will be handled using OHE\n",
    "X_na = risk_1[cat_col+num_col]\n",
    "y_na = risk_1[target[0]]\n",
    "X_train_na, X_test_na, y_train_na, y_test_na = train_test_split(X_na, y_na, test_size=0.1, \n",
    "                                                                    stratify=risk_1['loan_intent'], \n",
    "                                                                    random_state=5000, shuffle=True)"
   ]
  },
  {
   "cell_type": "code",
   "execution_count": 55,
   "metadata": {},
   "outputs": [],
   "source": [
    "woe_table_na = {}\n",
    "for col in num_col:\n",
    "    optb = OptimalBinning(name=col,dtype='numerical')\n",
    "    optb.fit(X_train_na[col], y_train_na)\n",
    "    X_train_na[f'{col}_woe'] =  optb.transform(X_train_na[col], metric=\"woe\")\n",
    "    X_test_na[f'{col}_woe'] = optb.transform(X_test_na[col])\n",
    "    woe_table_na[col] = optb.binning_table\n",
    "\n",
    "\n",
    "for col in cat_col:\n",
    "    optb = OptimalBinning(name=col,dtype='categorical')\n",
    "    optb.fit(X_train_na[col], y_train_na)\n",
    "    X_train_na[f'{col}_woe'] =  optb.transform(X_train_na[col], metric=\"woe\")\n",
    "    X_test_na[f'{col}_woe'] = optb.transform(X_test_na[col])\n",
    "    woe_table_na[col] = optb.binning_table\n"
   ]
  },
  {
   "cell_type": "code",
   "execution_count": 57,
   "metadata": {},
   "outputs": [
    {
     "data": {
      "text/html": [
       "<div>\n",
       "<style scoped>\n",
       "    .dataframe tbody tr th:only-of-type {\n",
       "        vertical-align: middle;\n",
       "    }\n",
       "\n",
       "    .dataframe tbody tr th {\n",
       "        vertical-align: top;\n",
       "    }\n",
       "\n",
       "    .dataframe thead th {\n",
       "        text-align: right;\n",
       "    }\n",
       "</style>\n",
       "<table border=\"1\" class=\"dataframe\">\n",
       "  <thead>\n",
       "    <tr style=\"text-align: right;\">\n",
       "      <th></th>\n",
       "      <th>Bin</th>\n",
       "      <th>Count</th>\n",
       "      <th>Count (%)</th>\n",
       "      <th>Non-event</th>\n",
       "      <th>Event</th>\n",
       "      <th>Event rate</th>\n",
       "      <th>WoE</th>\n",
       "      <th>IV</th>\n",
       "      <th>JS</th>\n",
       "    </tr>\n",
       "  </thead>\n",
       "  <tbody>\n",
       "    <tr>\n",
       "      <th>0</th>\n",
       "      <td>(-inf, 6.10)</td>\n",
       "      <td>1610</td>\n",
       "      <td>0.054945</td>\n",
       "      <td>1508</td>\n",
       "      <td>102</td>\n",
       "      <td>0.063354</td>\n",
       "      <td>1.362785</td>\n",
       "      <td>0.065974</td>\n",
       "      <td>0.007663</td>\n",
       "    </tr>\n",
       "    <tr>\n",
       "      <th>1</th>\n",
       "      <td>[6.10, 7.46)</td>\n",
       "      <td>2535</td>\n",
       "      <td>0.086513</td>\n",
       "      <td>2322</td>\n",
       "      <td>213</td>\n",
       "      <td>0.084024</td>\n",
       "      <td>1.05811</td>\n",
       "      <td>0.069211</td>\n",
       "      <td>0.008269</td>\n",
       "    </tr>\n",
       "    <tr>\n",
       "      <th>2</th>\n",
       "      <td>[7.46, 8.03)</td>\n",
       "      <td>3010</td>\n",
       "      <td>0.102723</td>\n",
       "      <td>2700</td>\n",
       "      <td>310</td>\n",
       "      <td>0.102990</td>\n",
       "      <td>0.833653</td>\n",
       "      <td>0.054923</td>\n",
       "      <td>0.006673</td>\n",
       "    </tr>\n",
       "    <tr>\n",
       "      <th>3</th>\n",
       "      <td>[8.03, 9.64)</td>\n",
       "      <td>2202</td>\n",
       "      <td>0.075148</td>\n",
       "      <td>1934</td>\n",
       "      <td>268</td>\n",
       "      <td>0.121708</td>\n",
       "      <td>0.645577</td>\n",
       "      <td>0.025623</td>\n",
       "      <td>0.003148</td>\n",
       "    </tr>\n",
       "    <tr>\n",
       "      <th>4</th>\n",
       "      <td>[9.64, 11.27)</td>\n",
       "      <td>4762</td>\n",
       "      <td>0.162515</td>\n",
       "      <td>4059</td>\n",
       "      <td>703</td>\n",
       "      <td>0.147627</td>\n",
       "      <td>0.422553</td>\n",
       "      <td>0.025503</td>\n",
       "      <td>0.003164</td>\n",
       "    </tr>\n",
       "    <tr>\n",
       "      <th>5</th>\n",
       "      <td>[11.27, 12.07)</td>\n",
       "      <td>2368</td>\n",
       "      <td>0.080814</td>\n",
       "      <td>1991</td>\n",
       "      <td>377</td>\n",
       "      <td>0.159206</td>\n",
       "      <td>0.333365</td>\n",
       "      <td>0.008118</td>\n",
       "      <td>0.001010</td>\n",
       "    </tr>\n",
       "    <tr>\n",
       "      <th>6</th>\n",
       "      <td>[12.07, 12.72)</td>\n",
       "      <td>1649</td>\n",
       "      <td>0.056276</td>\n",
       "      <td>1346</td>\n",
       "      <td>303</td>\n",
       "      <td>0.183748</td>\n",
       "      <td>0.160378</td>\n",
       "      <td>0.001380</td>\n",
       "      <td>0.000172</td>\n",
       "    </tr>\n",
       "    <tr>\n",
       "      <th>7</th>\n",
       "      <td>[12.72, 13.61)</td>\n",
       "      <td>2587</td>\n",
       "      <td>0.088287</td>\n",
       "      <td>2038</td>\n",
       "      <td>549</td>\n",
       "      <td>0.212215</td>\n",
       "      <td>-0.019156</td>\n",
       "      <td>0.000033</td>\n",
       "      <td>0.000004</td>\n",
       "    </tr>\n",
       "    <tr>\n",
       "      <th>8</th>\n",
       "      <td>[13.61, 14.37)</td>\n",
       "      <td>1508</td>\n",
       "      <td>0.051464</td>\n",
       "      <td>1089</td>\n",
       "      <td>419</td>\n",
       "      <td>0.277851</td>\n",
       "      <td>-0.375637</td>\n",
       "      <td>0.008047</td>\n",
       "      <td>0.001000</td>\n",
       "    </tr>\n",
       "    <tr>\n",
       "      <th>9</th>\n",
       "      <td>[14.37, 15.28)</td>\n",
       "      <td>1576</td>\n",
       "      <td>0.053785</td>\n",
       "      <td>863</td>\n",
       "      <td>713</td>\n",
       "      <td>0.452411</td>\n",
       "      <td>-1.139848</td>\n",
       "      <td>0.090245</td>\n",
       "      <td>0.010707</td>\n",
       "    </tr>\n",
       "    <tr>\n",
       "      <th>10</th>\n",
       "      <td>[15.28, inf)</td>\n",
       "      <td>2690</td>\n",
       "      <td>0.091803</td>\n",
       "      <td>1058</td>\n",
       "      <td>1632</td>\n",
       "      <td>0.606691</td>\n",
       "      <td>-1.764208</td>\n",
       "      <td>0.389538</td>\n",
       "      <td>0.043221</td>\n",
       "    </tr>\n",
       "    <tr>\n",
       "      <th>11</th>\n",
       "      <td>Special</td>\n",
       "      <td>0</td>\n",
       "      <td>0.000000</td>\n",
       "      <td>0</td>\n",
       "      <td>0</td>\n",
       "      <td>0.000000</td>\n",
       "      <td>0.0</td>\n",
       "      <td>0.000000</td>\n",
       "      <td>0.000000</td>\n",
       "    </tr>\n",
       "    <tr>\n",
       "      <th>12</th>\n",
       "      <td>Missing</td>\n",
       "      <td>2805</td>\n",
       "      <td>0.095727</td>\n",
       "      <td>2269</td>\n",
       "      <td>536</td>\n",
       "      <td>0.191087</td>\n",
       "      <td>0.112179</td>\n",
       "      <td>0.001165</td>\n",
       "      <td>0.000146</td>\n",
       "    </tr>\n",
       "    <tr>\n",
       "      <th>Totals</th>\n",
       "      <td></td>\n",
       "      <td>29302</td>\n",
       "      <td>1.000000</td>\n",
       "      <td>23177</td>\n",
       "      <td>6125</td>\n",
       "      <td>0.209030</td>\n",
       "      <td></td>\n",
       "      <td>0.739761</td>\n",
       "      <td>0.085178</td>\n",
       "    </tr>\n",
       "  </tbody>\n",
       "</table>\n",
       "</div>"
      ],
      "text/plain": [
       "                   Bin  Count  Count (%)  Non-event  Event  Event rate  \\\n",
       "0         (-inf, 6.10)   1610   0.054945       1508    102    0.063354   \n",
       "1         [6.10, 7.46)   2535   0.086513       2322    213    0.084024   \n",
       "2         [7.46, 8.03)   3010   0.102723       2700    310    0.102990   \n",
       "3         [8.03, 9.64)   2202   0.075148       1934    268    0.121708   \n",
       "4        [9.64, 11.27)   4762   0.162515       4059    703    0.147627   \n",
       "5       [11.27, 12.07)   2368   0.080814       1991    377    0.159206   \n",
       "6       [12.07, 12.72)   1649   0.056276       1346    303    0.183748   \n",
       "7       [12.72, 13.61)   2587   0.088287       2038    549    0.212215   \n",
       "8       [13.61, 14.37)   1508   0.051464       1089    419    0.277851   \n",
       "9       [14.37, 15.28)   1576   0.053785        863    713    0.452411   \n",
       "10        [15.28, inf)   2690   0.091803       1058   1632    0.606691   \n",
       "11             Special      0   0.000000          0      0    0.000000   \n",
       "12             Missing   2805   0.095727       2269    536    0.191087   \n",
       "Totals                  29302   1.000000      23177   6125    0.209030   \n",
       "\n",
       "             WoE        IV        JS  \n",
       "0       1.362785  0.065974  0.007663  \n",
       "1        1.05811  0.069211  0.008269  \n",
       "2       0.833653  0.054923  0.006673  \n",
       "3       0.645577  0.025623  0.003148  \n",
       "4       0.422553  0.025503  0.003164  \n",
       "5       0.333365  0.008118  0.001010  \n",
       "6       0.160378  0.001380  0.000172  \n",
       "7      -0.019156  0.000033  0.000004  \n",
       "8      -0.375637  0.008047  0.001000  \n",
       "9      -1.139848  0.090245  0.010707  \n",
       "10     -1.764208  0.389538  0.043221  \n",
       "11           0.0  0.000000  0.000000  \n",
       "12      0.112179  0.001165  0.000146  \n",
       "Totals            0.739761  0.085178  "
      ]
     },
     "execution_count": 57,
     "metadata": {},
     "output_type": "execute_result"
    }
   ],
   "source": [
    "# Pull WOE table Example\n",
    "woe_table_na['loan_int_rate'].build()"
   ]
  },
  {
   "cell_type": "code",
   "execution_count": 68,
   "metadata": {},
   "outputs": [
    {
     "data": {
      "text/html": [
       "<div>\n",
       "<style scoped>\n",
       "    .dataframe tbody tr th:only-of-type {\n",
       "        vertical-align: middle;\n",
       "    }\n",
       "\n",
       "    .dataframe tbody tr th {\n",
       "        vertical-align: top;\n",
       "    }\n",
       "\n",
       "    .dataframe thead th {\n",
       "        text-align: right;\n",
       "    }\n",
       "</style>\n",
       "<table border=\"1\" class=\"dataframe\">\n",
       "  <thead>\n",
       "    <tr style=\"text-align: right;\">\n",
       "      <th></th>\n",
       "      <th>customer_age_woe</th>\n",
       "      <th>customer_income_woe</th>\n",
       "      <th>employment_duration_woe</th>\n",
       "      <th>loan_amnt_woe</th>\n",
       "      <th>loan_int_rate_woe</th>\n",
       "      <th>term_years_woe</th>\n",
       "      <th>cred_hist_length_woe</th>\n",
       "      <th>home_ownership_woe</th>\n",
       "      <th>loan_intent_woe</th>\n",
       "      <th>loan_grade_woe</th>\n",
       "      <th>historical_default_woe</th>\n",
       "    </tr>\n",
       "  </thead>\n",
       "  <tbody>\n",
       "    <tr>\n",
       "      <th>7724</th>\n",
       "      <td>-0.220928</td>\n",
       "      <td>-0.802463</td>\n",
       "      <td>0.059491</td>\n",
       "      <td>0.339456</td>\n",
       "      <td>0.333365</td>\n",
       "      <td>-0.175991</td>\n",
       "      <td>-0.094206</td>\n",
       "      <td>-0.523539</td>\n",
       "      <td>0.497521</td>\n",
       "      <td>0.882045</td>\n",
       "      <td>0.239359</td>\n",
       "    </tr>\n",
       "    <tr>\n",
       "      <th>28089</th>\n",
       "      <td>0.042663</td>\n",
       "      <td>-0.299071</td>\n",
       "      <td>-0.326614</td>\n",
       "      <td>0.114179</td>\n",
       "      <td>0.422553</td>\n",
       "      <td>0.124520</td>\n",
       "      <td>0.046302</td>\n",
       "      <td>0.701188</td>\n",
       "      <td>0.332120</td>\n",
       "      <td>0.106437</td>\n",
       "      <td>0.239359</td>\n",
       "    </tr>\n",
       "    <tr>\n",
       "      <th>10026</th>\n",
       "      <td>0.013556</td>\n",
       "      <td>0.413595</td>\n",
       "      <td>-0.238719</td>\n",
       "      <td>0.114179</td>\n",
       "      <td>0.422553</td>\n",
       "      <td>0.124520</td>\n",
       "      <td>-0.028593</td>\n",
       "      <td>0.701188</td>\n",
       "      <td>-0.224340</td>\n",
       "      <td>0.882045</td>\n",
       "      <td>0.239359</td>\n",
       "    </tr>\n",
       "    <tr>\n",
       "      <th>9261</th>\n",
       "      <td>-0.220928</td>\n",
       "      <td>-0.802463</td>\n",
       "      <td>-0.238719</td>\n",
       "      <td>0.211517</td>\n",
       "      <td>0.645577</td>\n",
       "      <td>-0.032803</td>\n",
       "      <td>-0.028593</td>\n",
       "      <td>-0.523539</td>\n",
       "      <td>0.149587</td>\n",
       "      <td>0.882045</td>\n",
       "      <td>0.239359</td>\n",
       "    </tr>\n",
       "    <tr>\n",
       "      <th>15364</th>\n",
       "      <td>0.013556</td>\n",
       "      <td>0.079194</td>\n",
       "      <td>0.177215</td>\n",
       "      <td>-0.260599</td>\n",
       "      <td>-1.764208</td>\n",
       "      <td>0.124520</td>\n",
       "      <td>-0.094206</td>\n",
       "      <td>-0.523539</td>\n",
       "      <td>-0.493216</td>\n",
       "      <td>-0.755771</td>\n",
       "      <td>0.239359</td>\n",
       "    </tr>\n",
       "  </tbody>\n",
       "</table>\n",
       "</div>"
      ],
      "text/plain": [
       "       customer_age_woe  customer_income_woe  employment_duration_woe  \\\n",
       "7724          -0.220928            -0.802463                 0.059491   \n",
       "28089          0.042663            -0.299071                -0.326614   \n",
       "10026          0.013556             0.413595                -0.238719   \n",
       "9261          -0.220928            -0.802463                -0.238719   \n",
       "15364          0.013556             0.079194                 0.177215   \n",
       "\n",
       "       loan_amnt_woe  loan_int_rate_woe  term_years_woe  cred_hist_length_woe  \\\n",
       "7724        0.339456           0.333365       -0.175991             -0.094206   \n",
       "28089       0.114179           0.422553        0.124520              0.046302   \n",
       "10026       0.114179           0.422553        0.124520             -0.028593   \n",
       "9261        0.211517           0.645577       -0.032803             -0.028593   \n",
       "15364      -0.260599          -1.764208        0.124520             -0.094206   \n",
       "\n",
       "       home_ownership_woe  loan_intent_woe  loan_grade_woe  \\\n",
       "7724            -0.523539         0.497521        0.882045   \n",
       "28089            0.701188         0.332120        0.106437   \n",
       "10026            0.701188        -0.224340        0.882045   \n",
       "9261            -0.523539         0.149587        0.882045   \n",
       "15364           -0.523539        -0.493216       -0.755771   \n",
       "\n",
       "       historical_default_woe  \n",
       "7724                 0.239359  \n",
       "28089                0.239359  \n",
       "10026                0.239359  \n",
       "9261                 0.239359  \n",
       "15364                0.239359  "
      ]
     },
     "execution_count": 68,
     "metadata": {},
     "output_type": "execute_result"
    }
   ],
   "source": [
    "# Establish WOE dataframe\n",
    "X_train_woe = X_train_na.drop(columns=cat_col+num_col).copy()\n",
    "X_test_woe = X_test_na.drop(columns=cat_col+num_col).copy()\n",
    "X_train_woe.sample(5)"
   ]
  },
  {
   "cell_type": "markdown",
   "metadata": {},
   "source": [
    "## Baseline Model \n",
    "Use loan_grade, loan_int_rate, customer_income"
   ]
  },
  {
   "cell_type": "code",
   "execution_count": 108,
   "metadata": {},
   "outputs": [],
   "source": [
    "# Define numeric & categorical col\n",
    "# not woe encoded\n",
    "numeric_col_nna_bsl = ['customer_income','loan_int_rate']\n",
    "categorical_col_nna_bsl = ['loan_grade']\n",
    "\n",
    "X_train_nna_bsl = X_train_nna[categorical_col_nna_bsl+numeric_col_nna_bsl]\n",
    "X_test_nna_bsl = X_test_nna[categorical_col_nna_bsl+numeric_col_nna_bsl]\n",
    "# woe encoded\n",
    "numeric_col_woe_bsl = ['loan_grade_woe','customer_income_woe','loan_int_rate_woe']\n",
    "categorical_col_woe_bsl = []\n",
    "\n",
    "X_train_woe_bsl = X_train_woe[categorical_col_woe_bsl+numeric_col_woe_bsl]\n",
    "X_test_woe_bsl = X_test_woe[categorical_col_woe_bsl+numeric_col_woe_bsl]"
   ]
  },
  {
   "cell_type": "markdown",
   "metadata": {},
   "source": [
    "### Logistic Regression"
   ]
  },
  {
   "cell_type": "code",
   "execution_count": 109,
   "metadata": {},
   "outputs": [
    {
     "name": "stdout",
     "output_type": "stream",
     "text": [
      "Best parameters found:  {'classifier__C': 0.01, 'classifier__class_weight': None}\n",
      "Best parameters found:  {'classifier__C': 0.01, 'classifier__class_weight': None}\n"
     ]
    }
   ],
   "source": [
    "# Define grid search parameters\n",
    "# With no missing\n",
    "param_grid_lgr= {\n",
    "    'classifier__class_weight':['balanced',None],\n",
    "    'classifier__C':[0.1, 0.01, 1,0.001,10],\n",
    "}\n",
    "\n",
    "# Tuning\n",
    "preprocessor_lgr_nna_bsl = param_tuning(X_train_nna_bsl,y_train_nna, LogisticRegression(),param_grid_lgr,cat_col=categorical_col_nna_bsl,num_col=numeric_col_nna_bsl)\n",
    "\n",
    "# With WOE\n",
    "# Tuning\n",
    "preprocessor_lgr_woe_bsl = param_tuning(X_train_woe_bsl,y_train_na, LogisticRegression(),param_grid_lgr,cat_col=categorical_col_woe_bsl,num_col=numeric_col_woe_bsl)"
   ]
  },
  {
   "cell_type": "code",
   "execution_count": 110,
   "metadata": {},
   "outputs": [],
   "source": [
    "# Training & testing\n",
    "\n",
    "# With no missing\n",
    "model_lgr_nna_bsl = LogisticRegression(\n",
    "                        C=0.01, \n",
    "                        class_weight = None,\n",
    "                                        )\n",
    "y_pred_lgr_nna_bsl = testing(X_train_nna_bsl,y_train_nna, X_test_nna_bsl,y_test_nna, model=model_lgr_nna_bsl, preprocessor=preprocessor_lgr_nna_bsl)\n",
    "\n",
    "# With WOE\n",
    "model_lgr_woe_bsl = LogisticRegression(\n",
    "                        C=0.01, \n",
    "                        class_weight = None,\n",
    "                                        )\n",
    "y_pred_lgr_woe_bsl = testing(X_train_woe_bsl,y_train_na, X_test_woe_bsl,y_test_na, model=model_lgr_woe_bsl, preprocessor=preprocessor_lgr_woe_bsl)"
   ]
  },
  {
   "cell_type": "code",
   "execution_count": 111,
   "metadata": {},
   "outputs": [
    {
     "name": "stdout",
     "output_type": "stream",
     "text": [
      "Baseline Logistic Regression Model Evaluation\n"
     ]
    },
    {
     "data": {
      "text/plain": [
       "<Figure size 800x600 with 0 Axes>"
      ]
     },
     "metadata": {},
     "output_type": "display_data"
    },
    {
     "data": {
      "image/png": "[encoded data removed]",
      "text/plain": [
       "<Figure size 640x480 with 2 Axes>"
      ]
     },
     "metadata": {},
     "output_type": "display_data"
    },
    {
     "name": "stdout",
     "output_type": "stream",
     "text": [
      "              precision    recall  f1-score   support\n",
      "\n",
      "         0.0       0.84      0.97      0.90      2515\n",
      "         1.0       0.70      0.29      0.41       652\n",
      "\n",
      "    accuracy                           0.83      3167\n",
      "   macro avg       0.77      0.63      0.66      3167\n",
      "weighted avg       0.81      0.83      0.80      3167\n",
      "\n",
      "******************************************************************************************************************************************************\n",
      "Baseline Logistic Regression Model bsl Evaluation, woe\n"
     ]
    },
    {
     "data": {
      "text/plain": [
       "<Figure size 800x600 with 0 Axes>"
      ]
     },
     "metadata": {},
     "output_type": "display_data"
    },
    {
     "data": {
      "image/png": "[encoded data removed]",
      "text/plain": [
       "<Figure size 640x480 with 2 Axes>"
      ]
     },
     "metadata": {},
     "output_type": "display_data"
    },
    {
     "name": "stdout",
     "output_type": "stream",
     "text": [
      "              precision    recall  f1-score   support\n",
      "\n",
      "         0.0       0.83      0.93      0.88      2549\n",
      "         1.0       0.58      0.33      0.42       707\n",
      "\n",
      "    accuracy                           0.80      3256\n",
      "   macro avg       0.71      0.63      0.65      3256\n",
      "weighted avg       0.78      0.80      0.78      3256\n",
      "\n"
     ]
    }
   ],
   "source": [
    "# Evaluating - worse\n",
    "print('Baseline Logistic Regression Model Evaluation')\n",
    "evaluating(y_pred_lgr_nna_bsl,y_test_nna) \n",
    "\n",
    "\n",
    "print('*'*150)\n",
    "print('Baseline Logistic Regression Model bsl Evaluation, woe')\n",
    "evaluating(y_pred_lgr_woe_bsl,y_test_na) "
   ]
  },
  {
   "cell_type": "markdown",
   "metadata": {},
   "source": [
    "### Random Forest"
   ]
  },
  {
   "cell_type": "code",
   "execution_count": 112,
   "metadata": {},
   "outputs": [
    {
     "name": "stdout",
     "output_type": "stream",
     "text": [
      "Best parameters found:  {'classifier__max_features': None, 'classifier__n_estimators': 150}\n",
      "Best parameters found:  {'classifier__max_features': None, 'classifier__n_estimators': 150}\n"
     ]
    }
   ],
   "source": [
    "# Define grid search parameters\n",
    "# With no missing\n",
    "param_grid_rmf = {\n",
    "    'classifier__n_estimators':[50,100,150,200],\n",
    "    'classifier__max_features':[None,'sqrt'],\n",
    "}\n",
    "\n",
    "# Tuning\n",
    "preprocessor_rmf_nna_bsl = param_tuning(X_train_nna_bsl,y_train_nna, RandomForestClassifier(),param_grid_rmf,cat_col=categorical_col_nna_bsl,num_col=numeric_col_nna_bsl)\n",
    "\n",
    "# With WOE\n",
    "# Tuning\n",
    "preprocessor_rmf_woe_bsl = param_tuning(X_train_woe_bsl,y_train_na, RandomForestClassifier(),param_grid_rmf,cat_col=categorical_col_woe_bsl,num_col=numeric_col_woe_bsl)"
   ]
  },
  {
   "cell_type": "code",
   "execution_count": 115,
   "metadata": {},
   "outputs": [],
   "source": [
    "# Training & testing\n",
    "# With no missing\n",
    "model_rmf_nna_bsl = RandomForestClassifier(\n",
    "                        max_features=None, \n",
    "                        n_estimators = 150,\n",
    "                                        )\n",
    "y_pred_rmf_nna_bsl = testing(X_train_nna_bsl,y_train_nna, X_test_nna_bsl,y_test_nna, model=model_rmf_nna_bsl, preprocessor=preprocessor_rmf_nna_bsl)\n",
    "\n",
    "# With WOE\n",
    "model_rmf_woe_bsl = RandomForestClassifier(\n",
    "                        max_features=None, \n",
    "                        n_estimators = 150,\n",
    "                                        )\n",
    "y_pred_rmf_woe_bsl = testing(X_train_woe_bsl,y_train_na, X_test_woe_bsl,y_test_na, model=model_rmf_woe_bsl, preprocessor=preprocessor_rmf_woe_bsl)"
   ]
  },
  {
   "cell_type": "code",
   "execution_count": 116,
   "metadata": {},
   "outputs": [
    {
     "name": "stdout",
     "output_type": "stream",
     "text": [
      "Logistic Regression Model bsl Evaluation\n"
     ]
    },
    {
     "data": {
      "text/plain": [
       "<Figure size 800x600 with 0 Axes>"
      ]
     },
     "metadata": {},
     "output_type": "display_data"
    },
    {
     "data": {
      "image/png": "[encoded data removed]",
      "text/plain": [
       "<Figure size 640x480 with 2 Axes>"
      ]
     },
     "metadata": {},
     "output_type": "display_data"
    },
    {
     "name": "stdout",
     "output_type": "stream",
     "text": [
      "              precision    recall  f1-score   support\n",
      "\n",
      "         0.0       0.87      0.92      0.89      2515\n",
      "         1.0       0.60      0.46      0.52       652\n",
      "\n",
      "    accuracy                           0.83      3167\n",
      "   macro avg       0.73      0.69      0.71      3167\n",
      "weighted avg       0.81      0.83      0.82      3167\n",
      "\n",
      "******************************************************************************************************************************************************\n",
      "Logistic Regression Model bsl Evaluation, woe\n"
     ]
    },
    {
     "data": {
      "text/plain": [
       "<Figure size 800x600 with 0 Axes>"
      ]
     },
     "metadata": {},
     "output_type": "display_data"
    },
    {
     "data": {
      "image/png": "[encoded data removed]",
      "text/plain": [
       "<Figure size 640x480 with 2 Axes>"
      ]
     },
     "metadata": {},
     "output_type": "display_data"
    },
    {
     "name": "stdout",
     "output_type": "stream",
     "text": [
      "              precision    recall  f1-score   support\n",
      "\n",
      "         0.0       0.84      0.94      0.89      2549\n",
      "         1.0       0.62      0.36      0.45       707\n",
      "\n",
      "    accuracy                           0.81      3256\n",
      "   macro avg       0.73      0.65      0.67      3256\n",
      "weighted avg       0.79      0.81      0.79      3256\n",
      "\n"
     ]
    }
   ],
   "source": [
    "# Evaluating\n",
    "print('Logistic Regression Model bsl Evaluation')\n",
    "evaluating(y_pred_rmf_nna_bsl,y_test_nna) \n",
    "\n",
    "\n",
    "print('*'*150)\n",
    "print('Logistic Regression Model bsl Evaluation, woe')\n",
    "evaluating(y_pred_rmf_woe_bsl,y_test_na) "
   ]
  },
  {
   "cell_type": "markdown",
   "metadata": {},
   "source": [
    "### KNN"
   ]
  },
  {
   "cell_type": "code",
   "execution_count": 117,
   "metadata": {},
   "outputs": [
    {
     "name": "stdout",
     "output_type": "stream",
     "text": [
      "Best parameters found:  {'classifier__n_neighbors': 50, 'classifier__weights': 'distance'}\n",
      "Best parameters found:  {'classifier__n_neighbors': 50, 'classifier__weights': 'uniform'}\n"
     ]
    }
   ],
   "source": [
    "# Define grid search parameters 6mins\n",
    "param_grid_knn = {\n",
    "    'classifier__n_neighbors':[5,15,20,30,50],\n",
    "    'classifier__weights':['uniform','distance'],\n",
    "}\n",
    "# Tuning\n",
    "preprocessor_knn_nna_bsl = param_tuning(X_train_nna_bsl,y_train_nna, KNeighborsClassifier(),param_grid_knn,cat_col=categorical_col_nna_bsl,num_col=numeric_col_nna_bsl)\n",
    "\n",
    "# With WOE\n",
    "# Tuning\n",
    "preprocessor_knn_woe_bsl = param_tuning(X_train_woe_bsl,y_train_na, KNeighborsClassifier(),param_grid_knn,cat_col=categorical_col_woe_bsl,num_col=numeric_col_woe_bsl)"
   ]
  },
  {
   "cell_type": "code",
   "execution_count": 118,
   "metadata": {},
   "outputs": [],
   "source": [
    "# Training & testing\n",
    "# With no missing\n",
    "model_knn_nna_bsl = KNeighborsClassifier(\n",
    "                        n_neighbors=50, \n",
    "                        weights = 'distance',\n",
    "                                        )\n",
    "y_pred_knn_nna_bsl = testing(X_train_nna_bsl,y_train_nna, X_test_nna_bsl,y_test_nna, model=model_knn_nna_bsl, preprocessor=preprocessor_knn_nna_bsl)\n",
    "\n",
    "# With WOE\n",
    "model_knn_woe_bsl = KNeighborsClassifier(\n",
    "                        n_neighbors=50, \n",
    "                        weights = 'uniform',\n",
    "                                        )\n",
    "y_pred_knn_woe_bsl = testing(X_train_woe_bsl,y_train_na, X_test_woe_bsl,y_test_na, model=model_knn_woe_bsl, preprocessor=preprocessor_knn_woe_bsl)"
   ]
  },
  {
   "cell_type": "code",
   "execution_count": 119,
   "metadata": {},
   "outputs": [
    {
     "name": "stdout",
     "output_type": "stream",
     "text": [
      "Logistic Regression Model bsl Evaluation\n"
     ]
    },
    {
     "data": {
      "text/plain": [
       "<Figure size 800x600 with 0 Axes>"
      ]
     },
     "metadata": {},
     "output_type": "display_data"
    },
    {
     "data": {
      "image/png": "[encoded data removed]",
      "text/plain": [
       "<Figure size 640x480 with 2 Axes>"
      ]
     },
     "metadata": {},
     "output_type": "display_data"
    },
    {
     "name": "stdout",
     "output_type": "stream",
     "text": [
      "              precision    recall  f1-score   support\n",
      "\n",
      "         0.0       0.86      0.94      0.90      2515\n",
      "         1.0       0.66      0.43      0.52       652\n",
      "\n",
      "    accuracy                           0.84      3167\n",
      "   macro avg       0.76      0.69      0.71      3167\n",
      "weighted avg       0.82      0.84      0.82      3167\n",
      "\n",
      "******************************************************************************************************************************************************\n",
      "Logistic Regression Model bsl Evaluation, woe\n"
     ]
    },
    {
     "data": {
      "text/plain": [
       "<Figure size 800x600 with 0 Axes>"
      ]
     },
     "metadata": {},
     "output_type": "display_data"
    },
    {
     "data": {
      "image/png": "[encoded data removed]",
      "text/plain": [
       "<Figure size 640x480 with 2 Axes>"
      ]
     },
     "metadata": {},
     "output_type": "display_data"
    },
    {
     "name": "stdout",
     "output_type": "stream",
     "text": [
      "              precision    recall  f1-score   support\n",
      "\n",
      "         0.0       0.84      0.94      0.88      2549\n",
      "         1.0       0.60      0.34      0.43       707\n",
      "\n",
      "    accuracy                           0.81      3256\n",
      "   macro avg       0.72      0.64      0.66      3256\n",
      "weighted avg       0.78      0.81      0.79      3256\n",
      "\n"
     ]
    }
   ],
   "source": [
    "# Evaluating - worse\n",
    "print('Logistic Regression Model bsl Evaluation')\n",
    "evaluating(y_pred_knn_nna_bsl,y_test_nna) \n",
    "\n",
    "\n",
    "print('*'*150)\n",
    "print('Logistic Regression Model bsl Evaluation, woe')\n",
    "evaluating(y_pred_knn_woe_bsl,y_test_na) "
   ]
  },
  {
   "cell_type": "markdown",
   "metadata": {},
   "source": [
    "HUMMMMMM, seems like incoprating the missing value increase the difficulty to predict the target using WOE. Imputing interest_rate with median either increases the chance of overfitting, or carries the same pattern as the original data. It is hard to tell.... \n",
    "\n",
    "Although the AR is all the same, it is noticeable that Logistic Regression gives lower recall on positive predictions -> More false negatives are made, which being said, the models are producing more 0 predictions.\n",
    "\n",
    "However, WOE encoder can still be used to help with outliers."
   ]
  },
  {
   "cell_type": "markdown",
   "metadata": {},
   "source": [
    "## Non-Linear Relationship\n",
    "Since Logistic Regression seems to produce worse result, it is fun to explore the reason behind it. "
   ]
  },
  {
   "cell_type": "code",
   "execution_count": 139,
   "metadata": {},
   "outputs": [
    {
     "data": {
      "text/html": [
       "<div>\n",
       "<style scoped>\n",
       "    .dataframe tbody tr th:only-of-type {\n",
       "        vertical-align: middle;\n",
       "    }\n",
       "\n",
       "    .dataframe tbody tr th {\n",
       "        vertical-align: top;\n",
       "    }\n",
       "\n",
       "    .dataframe thead th {\n",
       "        text-align: right;\n",
       "    }\n",
       "</style>\n",
       "<table border=\"1\" class=\"dataframe\">\n",
       "  <thead>\n",
       "    <tr style=\"text-align: right;\">\n",
       "      <th></th>\n",
       "      <th>feature</th>\n",
       "      <th>pearson_correlation</th>\n",
       "      <th>gini_coefficient</th>\n",
       "    </tr>\n",
       "  </thead>\n",
       "  <tbody>\n",
       "    <tr>\n",
       "      <th>0</th>\n",
       "      <td>customer_income</td>\n",
       "      <td>-0.161217</td>\n",
       "      <td>0.365103</td>\n",
       "    </tr>\n",
       "    <tr>\n",
       "      <th>1</th>\n",
       "      <td>employment_duration</td>\n",
       "      <td>-0.089498</td>\n",
       "      <td>0.140473</td>\n",
       "    </tr>\n",
       "    <tr>\n",
       "      <th>2</th>\n",
       "      <td>customer_age</td>\n",
       "      <td>-0.027147</td>\n",
       "      <td>0.047529</td>\n",
       "    </tr>\n",
       "    <tr>\n",
       "      <th>3</th>\n",
       "      <td>cred_hist_length</td>\n",
       "      <td>-0.019402</td>\n",
       "      <td>0.034789</td>\n",
       "    </tr>\n",
       "    <tr>\n",
       "      <th>4</th>\n",
       "      <td>loan_amnt</td>\n",
       "      <td>0.029074</td>\n",
       "      <td>-0.118115</td>\n",
       "    </tr>\n",
       "    <tr>\n",
       "      <th>5</th>\n",
       "      <td>term_years</td>\n",
       "      <td>0.036367</td>\n",
       "      <td>-0.040078</td>\n",
       "    </tr>\n",
       "    <tr>\n",
       "      <th>6</th>\n",
       "      <td>loan_int_rate</td>\n",
       "      <td>0.324339</td>\n",
       "      <td>-0.432170</td>\n",
       "    </tr>\n",
       "  </tbody>\n",
       "</table>\n",
       "</div>"
      ],
      "text/plain": [
       "               feature  pearson_correlation  gini_coefficient\n",
       "0      customer_income            -0.161217          0.365103\n",
       "1  employment_duration            -0.089498          0.140473\n",
       "2         customer_age            -0.027147          0.047529\n",
       "3     cred_hist_length            -0.019402          0.034789\n",
       "4            loan_amnt             0.029074         -0.118115\n",
       "5           term_years             0.036367         -0.040078\n",
       "6        loan_int_rate             0.324339         -0.432170"
      ]
     },
     "execution_count": 139,
     "metadata": {},
     "output_type": "execute_result"
    }
   ],
   "source": [
    "# Pearson correlation\n",
    "pearson_corr = (risk_nna[num_col+['Current_loan_status_encoded']]\n",
    "                .corr()[['Current_loan_status_encoded']].\n",
    "                sort_values(by='Current_loan_status_encoded')).reset_index()\n",
    "\n",
    "corr_comp = pd.merge(left=pearson_corr, right=corr_gini_df,left_on='index', right_on='name').drop(columns='name')\n",
    "corr_comp.columns = ['feature', 'pearson_correlation','gini_coefficient']\n",
    "corr_comp"
   ]
  },
  {
   "cell_type": "markdown",
   "metadata": {},
   "source": [
    "The absolute value of gini coefficient and pearson correlation is very different. This could very well indicate that the features does not have a high linear correlation with the target.\n",
    "\n",
    "What about polynomial relationship"
   ]
  },
  {
   "cell_type": "code",
   "execution_count": 147,
   "metadata": {},
   "outputs": [
    {
     "data": {
      "text/html": [
       "<div>\n",
       "<style scoped>\n",
       "    .dataframe tbody tr th:only-of-type {\n",
       "        vertical-align: middle;\n",
       "    }\n",
       "\n",
       "    .dataframe tbody tr th {\n",
       "        vertical-align: top;\n",
       "    }\n",
       "\n",
       "    .dataframe thead th {\n",
       "        text-align: right;\n",
       "    }\n",
       "</style>\n",
       "<table border=\"1\" class=\"dataframe\">\n",
       "  <thead>\n",
       "    <tr style=\"text-align: right;\">\n",
       "      <th></th>\n",
       "      <th>index</th>\n",
       "      <th>Current_loan_status_encoded</th>\n",
       "    </tr>\n",
       "  </thead>\n",
       "  <tbody>\n",
       "    <tr>\n",
       "      <th>0</th>\n",
       "      <td>customer_income</td>\n",
       "      <td>-0.161217</td>\n",
       "    </tr>\n",
       "    <tr>\n",
       "      <th>1</th>\n",
       "      <td>customer_age customer_income</td>\n",
       "      <td>-0.124475</td>\n",
       "    </tr>\n",
       "    <tr>\n",
       "      <th>2</th>\n",
       "      <td>customer_income employment_duration</td>\n",
       "      <td>-0.116687</td>\n",
       "    </tr>\n",
       "    <tr>\n",
       "      <th>3</th>\n",
       "      <td>customer_income term_years</td>\n",
       "      <td>-0.103249</td>\n",
       "    </tr>\n",
       "    <tr>\n",
       "      <th>4</th>\n",
       "      <td>employment_duration</td>\n",
       "      <td>-0.089498</td>\n",
       "    </tr>\n",
       "  </tbody>\n",
       "</table>\n",
       "</div>"
      ],
      "text/plain": [
       "                                 index  Current_loan_status_encoded\n",
       "0                      customer_income                    -0.161217\n",
       "1         customer_age customer_income                    -0.124475\n",
       "2  customer_income employment_duration                    -0.116687\n",
       "3           customer_income term_years                    -0.103249\n",
       "4                  employment_duration                    -0.089498"
      ]
     },
     "execution_count": 147,
     "metadata": {},
     "output_type": "execute_result"
    }
   ],
   "source": [
    "poly = PolynomialFeatures(degree=2, include_bias=False)\n",
    "X_poly = poly.fit_transform(X_nna[num_col])\n",
    "risk_poly = pd.DataFrame(X_poly, columns = poly.get_feature_names_out())\n",
    "(risk_poly.join(risk_nna[['Current_loan_status_encoded']]).corr()[['Current_loan_status_encoded']]\n",
    "        .sort_values(by='Current_loan_status_encoded').reset_index()).head(5)"
   ]
  },
  {
   "cell_type": "markdown",
   "metadata": {},
   "source": [
    "Still, the pearson correlation is low -> does not have a polynomial correlation. Therefore, KNN and RandomForest but not logistic Regression will be further explored"
   ]
  },
  {
   "cell_type": "markdown",
   "metadata": {},
   "source": [
    "WOE X NNA to be established - can be abandoned\n",
    "\n",
    "RMF with all features + feature importance\n",
    "\n",
    "KNN / RMF "
   ]
  },
  {
   "cell_type": "markdown",
   "metadata": {},
   "source": [
    "## RMF with all features"
   ]
  },
  {
   "cell_type": "code",
   "execution_count": 150,
   "metadata": {},
   "outputs": [],
   "source": [
    "numeric_col_nna_all = num_col.copy()\n",
    "categorical_col_nna_all = cat_col.copy()\n",
    "\n",
    "X_train_nna_all = X_train_nna[categorical_col_nna_all+numeric_col_nna_all]\n",
    "X_test_nna_all = X_test_nna[categorical_col_nna_all+numeric_col_nna_all]"
   ]
  },
  {
   "cell_type": "code",
   "execution_count": 151,
   "metadata": {},
   "outputs": [
    {
     "name": "stdout",
     "output_type": "stream",
     "text": [
      "Best parameters found:  {'classifier__max_features': None, 'classifier__n_estimators': 200}\n"
     ]
    }
   ],
   "source": [
    "# Tuning\n",
    "preprocessor_rmf_nna_all = param_tuning(X_train_nna_all,y_train_nna, \n",
    "                                        RandomForestClassifier(),param_grid_rmf,\n",
    "                                        cat_col=categorical_col_nna_all,num_col=numeric_col_nna_all)"
   ]
  },
  {
   "cell_type": "code",
   "execution_count": 152,
   "metadata": {},
   "outputs": [],
   "source": [
    "# Training & testing\n",
    "model_rmf_nna_all = RandomForestClassifier(\n",
    "                        max_features=None, \n",
    "                        n_estimators = 200,\n",
    "                                        )\n",
    "y_pred_rmf_nna_all = testing(X_train_nna_all,y_train_nna, X_test_nna_all,y_test_nna, model=model_rmf_nna_all, preprocessor=preprocessor_rmf_nna_all)"
   ]
  },
  {
   "cell_type": "code",
   "execution_count": 153,
   "metadata": {},
   "outputs": [
    {
     "name": "stdout",
     "output_type": "stream",
     "text": [
      "Logistic Regression Model bsl Evaluation\n"
     ]
    },
    {
     "data": {
      "text/plain": [
       "<Figure size 800x600 with 0 Axes>"
      ]
     },
     "metadata": {},
     "output_type": "display_data"
    },
    {
     "data": {
      "image/png": "[encoded data removed]",
      "text/plain": [
       "<Figure size 640x480 with 2 Axes>"
      ]
     },
     "metadata": {},
     "output_type": "display_data"
    },
    {
     "name": "stdout",
     "output_type": "stream",
     "text": [
      "              precision    recall  f1-score   support\n",
      "\n",
      "         0.0       0.87      0.92      0.89      2515\n",
      "         1.0       0.60      0.46      0.52       652\n",
      "\n",
      "    accuracy                           0.83      3167\n",
      "   macro avg       0.73      0.69      0.71      3167\n",
      "weighted avg       0.81      0.83      0.82      3167\n",
      "\n",
      "******************************************************************************************************************************************************\n",
      "Logistic Regression Model bsl Evaluation, all\n"
     ]
    },
    {
     "data": {
      "text/plain": [
       "<Figure size 800x600 with 0 Axes>"
      ]
     },
     "metadata": {},
     "output_type": "display_data"
    },
    {
     "data": {
      "image/png": "[encoded data removed]",
      "text/plain": [
       "<Figure size 640x480 with 2 Axes>"
      ]
     },
     "metadata": {},
     "output_type": "display_data"
    },
    {
     "name": "stdout",
     "output_type": "stream",
     "text": [
      "              precision    recall  f1-score   support\n",
      "\n",
      "         0.0       0.93      0.98      0.96      2515\n",
      "         1.0       0.91      0.72      0.81       652\n",
      "\n",
      "    accuracy                           0.93      3167\n",
      "   macro avg       0.92      0.85      0.88      3167\n",
      "weighted avg       0.93      0.93      0.93      3167\n",
      "\n"
     ]
    }
   ],
   "source": [
    "print('Logistic Regression Model bsl Evaluation')\n",
    "evaluating(y_pred_rmf_nna_bsl,y_test_nna) \n",
    "\n",
    "\n",
    "print('*'*150)\n",
    "print('Logistic Regression Model bsl Evaluation, all')\n",
    "evaluating(y_pred_rmf_nna_all, y_test_nna) "
   ]
  },
  {
   "cell_type": "code",
   "execution_count": 155,
   "metadata": {},
   "outputs": [
    {
     "data": {
      "text/plain": [
       "array([0.00191707, 0.00883903, 0.0765175 , 0.01470178, 0.02583299,\n",
       "       0.02560276, 0.01601823, 0.01199056, 0.02072931, 0.01076723,\n",
       "       0.01500927, 0.00414387, 0.00821981, 0.05090819, 0.23311361,\n",
       "       0.06337544, 0.15173014, 0.19573423, 0.02750255, 0.03734642])"
      ]
     },
     "execution_count": 155,
     "metadata": {},
     "output_type": "execute_result"
    }
   ],
   "source": []
  },
  {
   "cell_type": "code",
   "execution_count": 210,
   "metadata": {},
   "outputs": [
    {
     "data": {
      "text/html": [
       "<div>\n",
       "<style scoped>\n",
       "    .dataframe tbody tr th:only-of-type {\n",
       "        vertical-align: middle;\n",
       "    }\n",
       "\n",
       "    .dataframe tbody tr th {\n",
       "        vertical-align: top;\n",
       "    }\n",
       "\n",
       "    .dataframe thead th {\n",
       "        text-align: right;\n",
       "    }\n",
       "</style>\n",
       "<table border=\"1\" class=\"dataframe\">\n",
       "  <thead>\n",
       "    <tr style=\"text-align: right;\">\n",
       "      <th></th>\n",
       "      <th>names</th>\n",
       "      <th>importance</th>\n",
       "    </tr>\n",
       "  </thead>\n",
       "  <tbody>\n",
       "    <tr>\n",
       "      <th>14</th>\n",
       "      <td>customer_income</td>\n",
       "      <td>0.233114</td>\n",
       "    </tr>\n",
       "    <tr>\n",
       "      <th>17</th>\n",
       "      <td>loan_int_rate</td>\n",
       "      <td>0.195734</td>\n",
       "    </tr>\n",
       "    <tr>\n",
       "      <th>16</th>\n",
       "      <td>loan_amnt</td>\n",
       "      <td>0.151730</td>\n",
       "    </tr>\n",
       "    <tr>\n",
       "      <th>2</th>\n",
       "      <td>home_ownership_RENT</td>\n",
       "      <td>0.076517</td>\n",
       "    </tr>\n",
       "    <tr>\n",
       "      <th>15</th>\n",
       "      <td>employment_duration</td>\n",
       "      <td>0.063375</td>\n",
       "    </tr>\n",
       "    <tr>\n",
       "      <th>13</th>\n",
       "      <td>customer_age</td>\n",
       "      <td>0.050908</td>\n",
       "    </tr>\n",
       "    <tr>\n",
       "      <th>19</th>\n",
       "      <td>cred_hist_length</td>\n",
       "      <td>0.037346</td>\n",
       "    </tr>\n",
       "    <tr>\n",
       "      <th>18</th>\n",
       "      <td>term_years</td>\n",
       "      <td>0.027503</td>\n",
       "    </tr>\n",
       "    <tr>\n",
       "      <th>4</th>\n",
       "      <td>loan_intent_HOMEIMPROVEMENT</td>\n",
       "      <td>0.025833</td>\n",
       "    </tr>\n",
       "    <tr>\n",
       "      <th>5</th>\n",
       "      <td>loan_intent_MEDICAL</td>\n",
       "      <td>0.025603</td>\n",
       "    </tr>\n",
       "    <tr>\n",
       "      <th>8</th>\n",
       "      <td>loan_grade_B</td>\n",
       "      <td>0.020729</td>\n",
       "    </tr>\n",
       "    <tr>\n",
       "      <th>6</th>\n",
       "      <td>loan_intent_PERSONAL</td>\n",
       "      <td>0.016018</td>\n",
       "    </tr>\n",
       "    <tr>\n",
       "      <th>10</th>\n",
       "      <td>loan_grade_D</td>\n",
       "      <td>0.015009</td>\n",
       "    </tr>\n",
       "    <tr>\n",
       "      <th>3</th>\n",
       "      <td>loan_intent_EDUCATION</td>\n",
       "      <td>0.014702</td>\n",
       "    </tr>\n",
       "    <tr>\n",
       "      <th>7</th>\n",
       "      <td>loan_intent_VENTURE</td>\n",
       "      <td>0.011991</td>\n",
       "    </tr>\n",
       "    <tr>\n",
       "      <th>9</th>\n",
       "      <td>loan_grade_C</td>\n",
       "      <td>0.010767</td>\n",
       "    </tr>\n",
       "    <tr>\n",
       "      <th>1</th>\n",
       "      <td>home_ownership_OWN</td>\n",
       "      <td>0.008839</td>\n",
       "    </tr>\n",
       "    <tr>\n",
       "      <th>12</th>\n",
       "      <td>historical_default_Y</td>\n",
       "      <td>0.008220</td>\n",
       "    </tr>\n",
       "    <tr>\n",
       "      <th>11</th>\n",
       "      <td>loan_grade_E</td>\n",
       "      <td>0.004144</td>\n",
       "    </tr>\n",
       "    <tr>\n",
       "      <th>0</th>\n",
       "      <td>home_ownership_OTHER</td>\n",
       "      <td>0.001917</td>\n",
       "    </tr>\n",
       "  </tbody>\n",
       "</table>\n",
       "</div>"
      ],
      "text/plain": [
       "                          names  importance\n",
       "14              customer_income    0.233114\n",
       "17                loan_int_rate    0.195734\n",
       "16                    loan_amnt    0.151730\n",
       "2           home_ownership_RENT    0.076517\n",
       "15          employment_duration    0.063375\n",
       "13                 customer_age    0.050908\n",
       "19             cred_hist_length    0.037346\n",
       "18                   term_years    0.027503\n",
       "4   loan_intent_HOMEIMPROVEMENT    0.025833\n",
       "5           loan_intent_MEDICAL    0.025603\n",
       "8                  loan_grade_B    0.020729\n",
       "6          loan_intent_PERSONAL    0.016018\n",
       "10                 loan_grade_D    0.015009\n",
       "3         loan_intent_EDUCATION    0.014702\n",
       "7           loan_intent_VENTURE    0.011991\n",
       "9                  loan_grade_C    0.010767\n",
       "1            home_ownership_OWN    0.008839\n",
       "12         historical_default_Y    0.008220\n",
       "11                 loan_grade_E    0.004144\n",
       "0          home_ownership_OTHER    0.001917"
      ]
     },
     "execution_count": 210,
     "metadata": {},
     "output_type": "execute_result"
    }
   ],
   "source": [
    "preprocessor = preprocessor_rmf_nna_all\n",
    "cat_names = list(preprocessor.transformers_[0][1].named_steps['encoder'].get_feature_names_out(cat_col))\n",
    "num_names = list(preprocessor.transformers_[1][1].named_steps['scaler'].get_feature_names_out(num_col))\n",
    "feature_names = cat_names + num_names\n",
    "\n",
    "\n",
    "# Feature importance\n",
    "importance_df = pd.DataFrame({'names':feature_names, 'importance':list(model_rmf_nna_all.feature_importances_)})\n",
    "importance_df.sort_values(by='importance',ascending=False)"
   ]
  },
  {
   "cell_type": "code",
   "execution_count": 212,
   "metadata": {},
   "outputs": [
    {
     "data": {
      "text/html": [
       "<div>\n",
       "<style scoped>\n",
       "    .dataframe tbody tr th:only-of-type {\n",
       "        vertical-align: middle;\n",
       "    }\n",
       "\n",
       "    .dataframe tbody tr th {\n",
       "        vertical-align: top;\n",
       "    }\n",
       "\n",
       "    .dataframe thead th {\n",
       "        text-align: right;\n",
       "    }\n",
       "</style>\n",
       "<table border=\"1\" class=\"dataframe\">\n",
       "  <thead>\n",
       "    <tr style=\"text-align: right;\">\n",
       "      <th></th>\n",
       "      <th>name</th>\n",
       "      <th>gini</th>\n",
       "    </tr>\n",
       "  </thead>\n",
       "  <tbody>\n",
       "    <tr>\n",
       "      <th>1</th>\n",
       "      <td>customer_income</td>\n",
       "      <td>0.365103</td>\n",
       "    </tr>\n",
       "    <tr>\n",
       "      <th>2</th>\n",
       "      <td>employment_duration</td>\n",
       "      <td>0.140473</td>\n",
       "    </tr>\n",
       "    <tr>\n",
       "      <th>0</th>\n",
       "      <td>customer_age</td>\n",
       "      <td>0.047529</td>\n",
       "    </tr>\n",
       "    <tr>\n",
       "      <th>6</th>\n",
       "      <td>cred_hist_length</td>\n",
       "      <td>0.034789</td>\n",
       "    </tr>\n",
       "    <tr>\n",
       "      <th>5</th>\n",
       "      <td>term_years</td>\n",
       "      <td>-0.040078</td>\n",
       "    </tr>\n",
       "    <tr>\n",
       "      <th>3</th>\n",
       "      <td>loan_amnt</td>\n",
       "      <td>-0.118115</td>\n",
       "    </tr>\n",
       "    <tr>\n",
       "      <th>4</th>\n",
       "      <td>loan_int_rate</td>\n",
       "      <td>-0.432170</td>\n",
       "    </tr>\n",
       "  </tbody>\n",
       "</table>\n",
       "</div>"
      ],
      "text/plain": [
       "                  name      gini\n",
       "1      customer_income  0.365103\n",
       "2  employment_duration  0.140473\n",
       "0         customer_age  0.047529\n",
       "6     cred_hist_length  0.034789\n",
       "5           term_years -0.040078\n",
       "3            loan_amnt -0.118115\n",
       "4        loan_int_rate -0.432170"
      ]
     },
     "execution_count": 212,
     "metadata": {},
     "output_type": "execute_result"
    }
   ],
   "source": [
    "corr_gini_df.sort_values(by='gini',ascending=False)"
   ]
  },
  {
   "cell_type": "markdown",
   "metadata": {},
   "source": [
    "loan grade -> less predictive than expected\n",
    "\n",
    "customer_income, employment_duration, loan_int_rate, loan_amount, loan_intent, home_ownership"
   ]
  },
  {
   "cell_type": "code",
   "execution_count": 215,
   "metadata": {},
   "outputs": [
    {
     "data": {
      "text/html": [
       "<div>\n",
       "<style scoped>\n",
       "    .dataframe tbody tr th:only-of-type {\n",
       "        vertical-align: middle;\n",
       "    }\n",
       "\n",
       "    .dataframe tbody tr th {\n",
       "        vertical-align: top;\n",
       "    }\n",
       "\n",
       "    .dataframe thead th {\n",
       "        text-align: right;\n",
       "    }\n",
       "</style>\n",
       "<table border=\"1\" class=\"dataframe\">\n",
       "  <thead>\n",
       "    <tr style=\"text-align: right;\">\n",
       "      <th></th>\n",
       "      <th>Bin</th>\n",
       "      <th>Count</th>\n",
       "      <th>Count (%)</th>\n",
       "      <th>Non-event</th>\n",
       "      <th>Event</th>\n",
       "      <th>Event rate</th>\n",
       "      <th>WoE</th>\n",
       "      <th>IV</th>\n",
       "      <th>JS</th>\n",
       "    </tr>\n",
       "  </thead>\n",
       "  <tbody>\n",
       "    <tr>\n",
       "      <th>0</th>\n",
       "      <td>[OWN]</td>\n",
       "      <td>2331</td>\n",
       "      <td>0.079551</td>\n",
       "      <td>2196</td>\n",
       "      <td>135</td>\n",
       "      <td>0.057915</td>\n",
       "      <td>1.458336</td>\n",
       "      <td>0.106033</td>\n",
       "      <td>0.012192</td>\n",
       "    </tr>\n",
       "    <tr>\n",
       "      <th>1</th>\n",
       "      <td>[MORTGAGE]</td>\n",
       "      <td>12098</td>\n",
       "      <td>0.412873</td>\n",
       "      <td>10696</td>\n",
       "      <td>1402</td>\n",
       "      <td>0.115887</td>\n",
       "      <td>0.701188</td>\n",
       "      <td>0.163092</td>\n",
       "      <td>0.019979</td>\n",
       "    </tr>\n",
       "    <tr>\n",
       "      <th>2</th>\n",
       "      <td>[OTHER, RENT]</td>\n",
       "      <td>14873</td>\n",
       "      <td>0.507576</td>\n",
       "      <td>10285</td>\n",
       "      <td>4588</td>\n",
       "      <td>0.308478</td>\n",
       "      <td>-0.523539</td>\n",
       "      <td>0.159838</td>\n",
       "      <td>0.019755</td>\n",
       "    </tr>\n",
       "    <tr>\n",
       "      <th>3</th>\n",
       "      <td>Special</td>\n",
       "      <td>0</td>\n",
       "      <td>0.000000</td>\n",
       "      <td>0</td>\n",
       "      <td>0</td>\n",
       "      <td>0.000000</td>\n",
       "      <td>0.0</td>\n",
       "      <td>0.000000</td>\n",
       "      <td>0.000000</td>\n",
       "    </tr>\n",
       "    <tr>\n",
       "      <th>4</th>\n",
       "      <td>Missing</td>\n",
       "      <td>0</td>\n",
       "      <td>0.000000</td>\n",
       "      <td>0</td>\n",
       "      <td>0</td>\n",
       "      <td>0.000000</td>\n",
       "      <td>0.0</td>\n",
       "      <td>0.000000</td>\n",
       "      <td>0.000000</td>\n",
       "    </tr>\n",
       "    <tr>\n",
       "      <th>Totals</th>\n",
       "      <td></td>\n",
       "      <td>29302</td>\n",
       "      <td>1.000000</td>\n",
       "      <td>23177</td>\n",
       "      <td>6125</td>\n",
       "      <td>0.209030</td>\n",
       "      <td></td>\n",
       "      <td>0.428963</td>\n",
       "      <td>0.051925</td>\n",
       "    </tr>\n",
       "  </tbody>\n",
       "</table>\n",
       "</div>"
      ],
      "text/plain": [
       "                  Bin  Count  Count (%)  Non-event  Event  Event rate  \\\n",
       "0               [OWN]   2331   0.079551       2196    135    0.057915   \n",
       "1          [MORTGAGE]  12098   0.412873      10696   1402    0.115887   \n",
       "2       [OTHER, RENT]  14873   0.507576      10285   4588    0.308478   \n",
       "3             Special      0   0.000000          0      0    0.000000   \n",
       "4             Missing      0   0.000000          0      0    0.000000   \n",
       "Totals                 29302   1.000000      23177   6125    0.209030   \n",
       "\n",
       "             WoE        IV        JS  \n",
       "0       1.458336  0.106033  0.012192  \n",
       "1       0.701188  0.163092  0.019979  \n",
       "2      -0.523539  0.159838  0.019755  \n",
       "3            0.0  0.000000  0.000000  \n",
       "4            0.0  0.000000  0.000000  \n",
       "Totals            0.428963  0.051925  "
      ]
     },
     "execution_count": 215,
     "metadata": {},
     "output_type": "execute_result"
    }
   ],
   "source": [
    "woe_table_na['home_ownership'].build() # WOE transformation in home ownership"
   ]
  },
  {
   "cell_type": "code",
   "execution_count": 217,
   "metadata": {},
   "outputs": [
    {
     "data": {
      "text/html": [
       "<div>\n",
       "<style scoped>\n",
       "    .dataframe tbody tr th:only-of-type {\n",
       "        vertical-align: middle;\n",
       "    }\n",
       "\n",
       "    .dataframe tbody tr th {\n",
       "        vertical-align: top;\n",
       "    }\n",
       "\n",
       "    .dataframe thead th {\n",
       "        text-align: right;\n",
       "    }\n",
       "</style>\n",
       "<table border=\"1\" class=\"dataframe\">\n",
       "  <thead>\n",
       "    <tr style=\"text-align: right;\">\n",
       "      <th></th>\n",
       "      <th>Bin</th>\n",
       "      <th>Count</th>\n",
       "      <th>Count (%)</th>\n",
       "      <th>Non-event</th>\n",
       "      <th>Event</th>\n",
       "      <th>Event rate</th>\n",
       "      <th>WoE</th>\n",
       "      <th>IV</th>\n",
       "      <th>JS</th>\n",
       "    </tr>\n",
       "  </thead>\n",
       "  <tbody>\n",
       "    <tr>\n",
       "      <th>0</th>\n",
       "      <td>[VENTURE]</td>\n",
       "      <td>5143</td>\n",
       "      <td>0.175517</td>\n",
       "      <td>4431</td>\n",
       "      <td>712</td>\n",
       "      <td>0.138441</td>\n",
       "      <td>0.497521</td>\n",
       "      <td>0.037282</td>\n",
       "      <td>0.004613</td>\n",
       "    </tr>\n",
       "    <tr>\n",
       "      <th>1</th>\n",
       "      <td>[EDUCATION]</td>\n",
       "      <td>5804</td>\n",
       "      <td>0.198075</td>\n",
       "      <td>4879</td>\n",
       "      <td>925</td>\n",
       "      <td>0.159373</td>\n",
       "      <td>0.33212</td>\n",
       "      <td>0.019758</td>\n",
       "      <td>0.002458</td>\n",
       "    </tr>\n",
       "    <tr>\n",
       "      <th>2</th>\n",
       "      <td>[PERSONAL]</td>\n",
       "      <td>4963</td>\n",
       "      <td>0.169374</td>\n",
       "      <td>4043</td>\n",
       "      <td>920</td>\n",
       "      <td>0.185372</td>\n",
       "      <td>0.149587</td>\n",
       "      <td>0.003625</td>\n",
       "      <td>0.000453</td>\n",
       "    </tr>\n",
       "    <tr>\n",
       "      <th>3</th>\n",
       "      <td>[HOMEIMPROVEMENT]</td>\n",
       "      <td>3244</td>\n",
       "      <td>0.110709</td>\n",
       "      <td>2449</td>\n",
       "      <td>795</td>\n",
       "      <td>0.245068</td>\n",
       "      <td>-0.205689</td>\n",
       "      <td>0.004963</td>\n",
       "      <td>0.000619</td>\n",
       "    </tr>\n",
       "    <tr>\n",
       "      <th>4</th>\n",
       "      <td>[MEDICAL]</td>\n",
       "      <td>5460</td>\n",
       "      <td>0.186335</td>\n",
       "      <td>4103</td>\n",
       "      <td>1357</td>\n",
       "      <td>0.248535</td>\n",
       "      <td>-0.22434</td>\n",
       "      <td>0.009988</td>\n",
       "      <td>0.001246</td>\n",
       "    </tr>\n",
       "    <tr>\n",
       "      <th>5</th>\n",
       "      <td>[DEBTCONSOLIDATION]</td>\n",
       "      <td>4688</td>\n",
       "      <td>0.159989</td>\n",
       "      <td>3272</td>\n",
       "      <td>1416</td>\n",
       "      <td>0.302048</td>\n",
       "      <td>-0.493216</td>\n",
       "      <td>0.044394</td>\n",
       "      <td>0.005494</td>\n",
       "    </tr>\n",
       "    <tr>\n",
       "      <th>6</th>\n",
       "      <td>Special</td>\n",
       "      <td>0</td>\n",
       "      <td>0.000000</td>\n",
       "      <td>0</td>\n",
       "      <td>0</td>\n",
       "      <td>0.000000</td>\n",
       "      <td>0.0</td>\n",
       "      <td>0.000000</td>\n",
       "      <td>0.000000</td>\n",
       "    </tr>\n",
       "    <tr>\n",
       "      <th>7</th>\n",
       "      <td>Missing</td>\n",
       "      <td>0</td>\n",
       "      <td>0.000000</td>\n",
       "      <td>0</td>\n",
       "      <td>0</td>\n",
       "      <td>0.000000</td>\n",
       "      <td>0.0</td>\n",
       "      <td>0.000000</td>\n",
       "      <td>0.000000</td>\n",
       "    </tr>\n",
       "    <tr>\n",
       "      <th>Totals</th>\n",
       "      <td></td>\n",
       "      <td>29302</td>\n",
       "      <td>1.000000</td>\n",
       "      <td>23177</td>\n",
       "      <td>6125</td>\n",
       "      <td>0.209030</td>\n",
       "      <td></td>\n",
       "      <td>0.120011</td>\n",
       "      <td>0.014883</td>\n",
       "    </tr>\n",
       "  </tbody>\n",
       "</table>\n",
       "</div>"
      ],
      "text/plain": [
       "                        Bin  Count  Count (%)  Non-event  Event  Event rate  \\\n",
       "0                 [VENTURE]   5143   0.175517       4431    712    0.138441   \n",
       "1               [EDUCATION]   5804   0.198075       4879    925    0.159373   \n",
       "2                [PERSONAL]   4963   0.169374       4043    920    0.185372   \n",
       "3         [HOMEIMPROVEMENT]   3244   0.110709       2449    795    0.245068   \n",
       "4                 [MEDICAL]   5460   0.186335       4103   1357    0.248535   \n",
       "5       [DEBTCONSOLIDATION]   4688   0.159989       3272   1416    0.302048   \n",
       "6                   Special      0   0.000000          0      0    0.000000   \n",
       "7                   Missing      0   0.000000          0      0    0.000000   \n",
       "Totals                       29302   1.000000      23177   6125    0.209030   \n",
       "\n",
       "             WoE        IV        JS  \n",
       "0       0.497521  0.037282  0.004613  \n",
       "1        0.33212  0.019758  0.002458  \n",
       "2       0.149587  0.003625  0.000453  \n",
       "3      -0.205689  0.004963  0.000619  \n",
       "4       -0.22434  0.009988  0.001246  \n",
       "5      -0.493216  0.044394  0.005494  \n",
       "6            0.0  0.000000  0.000000  \n",
       "7            0.0  0.000000  0.000000  \n",
       "Totals            0.120011  0.014883  "
      ]
     },
     "execution_count": 217,
     "metadata": {},
     "output_type": "execute_result"
    }
   ],
   "source": [
    "woe_table_na['loan_intent'].build() # No woe transformation"
   ]
  },
  {
   "cell_type": "markdown",
   "metadata": {},
   "source": [
    "## WOE Transformation in home_ownership"
   ]
  },
  {
   "cell_type": "code",
   "execution_count": 220,
   "metadata": {},
   "outputs": [
    {
     "data": {
      "text/html": [
       "<div>\n",
       "<style scoped>\n",
       "    .dataframe tbody tr th:only-of-type {\n",
       "        vertical-align: middle;\n",
       "    }\n",
       "\n",
       "    .dataframe tbody tr th {\n",
       "        vertical-align: top;\n",
       "    }\n",
       "\n",
       "    .dataframe thead th {\n",
       "        text-align: right;\n",
       "    }\n",
       "</style>\n",
       "<table border=\"1\" class=\"dataframe\">\n",
       "  <thead>\n",
       "    <tr style=\"text-align: right;\">\n",
       "      <th></th>\n",
       "      <th>Bin</th>\n",
       "      <th>Count</th>\n",
       "      <th>Count (%)</th>\n",
       "      <th>Non-event</th>\n",
       "      <th>Event</th>\n",
       "      <th>Event rate</th>\n",
       "      <th>WoE</th>\n",
       "      <th>IV</th>\n",
       "      <th>JS</th>\n",
       "    </tr>\n",
       "  </thead>\n",
       "  <tbody>\n",
       "    <tr>\n",
       "      <th>0</th>\n",
       "      <td>[OWN]</td>\n",
       "      <td>2174</td>\n",
       "      <td>0.076291</td>\n",
       "      <td>2053</td>\n",
       "      <td>121</td>\n",
       "      <td>0.055658</td>\n",
       "      <td>1.494847</td>\n",
       "      <td>0.105496</td>\n",
       "      <td>0.012082</td>\n",
       "    </tr>\n",
       "    <tr>\n",
       "      <th>1</th>\n",
       "      <td>[MORTGAGE]</td>\n",
       "      <td>11813</td>\n",
       "      <td>0.414549</td>\n",
       "      <td>10459</td>\n",
       "      <td>1354</td>\n",
       "      <td>0.114619</td>\n",
       "      <td>0.70798</td>\n",
       "      <td>0.166484</td>\n",
       "      <td>0.020387</td>\n",
       "    </tr>\n",
       "    <tr>\n",
       "      <th>2</th>\n",
       "      <td>[RENT, OTHER]</td>\n",
       "      <td>14509</td>\n",
       "      <td>0.509159</td>\n",
       "      <td>10054</td>\n",
       "      <td>4455</td>\n",
       "      <td>0.307051</td>\n",
       "      <td>-0.522477</td>\n",
       "      <td>0.159735</td>\n",
       "      <td>0.019743</td>\n",
       "    </tr>\n",
       "    <tr>\n",
       "      <th>3</th>\n",
       "      <td>Special</td>\n",
       "      <td>0</td>\n",
       "      <td>0.000000</td>\n",
       "      <td>0</td>\n",
       "      <td>0</td>\n",
       "      <td>0.000000</td>\n",
       "      <td>0.0</td>\n",
       "      <td>0.000000</td>\n",
       "      <td>0.000000</td>\n",
       "    </tr>\n",
       "    <tr>\n",
       "      <th>4</th>\n",
       "      <td>Missing</td>\n",
       "      <td>0</td>\n",
       "      <td>0.000000</td>\n",
       "      <td>0</td>\n",
       "      <td>0</td>\n",
       "      <td>0.000000</td>\n",
       "      <td>0.0</td>\n",
       "      <td>0.000000</td>\n",
       "      <td>0.000000</td>\n",
       "    </tr>\n",
       "    <tr>\n",
       "      <th>Totals</th>\n",
       "      <td></td>\n",
       "      <td>28496</td>\n",
       "      <td>1.000000</td>\n",
       "      <td>22566</td>\n",
       "      <td>5930</td>\n",
       "      <td>0.208099</td>\n",
       "      <td></td>\n",
       "      <td>0.431715</td>\n",
       "      <td>0.052211</td>\n",
       "    </tr>\n",
       "  </tbody>\n",
       "</table>\n",
       "</div>"
      ],
      "text/plain": [
       "                  Bin  Count  Count (%)  Non-event  Event  Event rate  \\\n",
       "0               [OWN]   2174   0.076291       2053    121    0.055658   \n",
       "1          [MORTGAGE]  11813   0.414549      10459   1354    0.114619   \n",
       "2       [RENT, OTHER]  14509   0.509159      10054   4455    0.307051   \n",
       "3             Special      0   0.000000          0      0    0.000000   \n",
       "4             Missing      0   0.000000          0      0    0.000000   \n",
       "Totals                 28496   1.000000      22566   5930    0.208099   \n",
       "\n",
       "             WoE        IV        JS  \n",
       "0       1.494847  0.105496  0.012082  \n",
       "1        0.70798  0.166484  0.020387  \n",
       "2      -0.522477  0.159735  0.019743  \n",
       "3            0.0  0.000000  0.000000  \n",
       "4            0.0  0.000000  0.000000  \n",
       "Totals            0.431715  0.052211  "
      ]
     },
     "execution_count": 220,
     "metadata": {},
     "output_type": "execute_result"
    }
   ],
   "source": [
    "optb_ho = OptimalBinning(name='home_ownership',dtype='categorical')\n",
    "optb_ho.fit(X_train_nna['home_ownership'], y_train_nna)\n",
    "X_train_nna['home_ownership_woe'] =  optb_ho.transform(X_train_nna['home_ownership'], metric=\"woe\")\n",
    "X_test_nna['home_ownership_woe'] = optb_ho.transform(X_test_nna['home_ownership'])\n",
    "optb_ho.binning_table.build()"
   ]
  },
  {
   "cell_type": "markdown",
   "metadata": {},
   "source": [
    "customer_income, employment_duration, loan_int_rate, loan_amount, loan_intent, home_ownership/home_ownership_woe"
   ]
  },
  {
   "cell_type": "code",
   "execution_count": 221,
   "metadata": {},
   "outputs": [],
   "source": [
    "# Define numeric & categorical col\n",
    "# not woe encoded\n",
    "numeric_col_nna_2 = ['customer_income','loan_int_rate','employment_duration','loan_amnt']\n",
    "categorical_col_nna_2 = ['loan_intent','home_ownership']\n",
    "\n",
    "X_train_nna_2 = X_train_nna[categorical_col_nna_2+numeric_col_nna_2]\n",
    "X_test_nna_2 = X_test_nna[categorical_col_nna_2+numeric_col_nna_2]\n",
    "# woe encoded\n",
    "numeric_col_nna_woe2 = ['customer_income','loan_int_rate','employment_duration','loan_amnt','home_ownership_woe']\n",
    "categorical_col_nna_woe2 = ['loan_intent']\n",
    "\n",
    "X_train_nna_woe2 = X_train_nna[categorical_col_nna_woe2+numeric_col_nna_woe2]\n",
    "X_test_nna_woe2 = X_test_nna[categorical_col_nna_woe2+numeric_col_nna_woe2]"
   ]
  },
  {
   "cell_type": "markdown",
   "metadata": {},
   "source": [
    "### Random Forest Regression"
   ]
  },
  {
   "cell_type": "code",
   "execution_count": 223,
   "metadata": {},
   "outputs": [
    {
     "name": "stdout",
     "output_type": "stream",
     "text": [
      "Best parameters found:  {'classifier__max_features': None, 'classifier__n_estimators': 150}\n",
      "Best parameters found:  {'classifier__max_features': None, 'classifier__n_estimators': 200}\n"
     ]
    }
   ],
   "source": [
    "# Tuning\n",
    "preprocessor_rmf_nna_2 = param_tuning(X_train_nna_2,y_train_nna, \n",
    "                                        RandomForestClassifier(),param_grid_rmf,\n",
    "                                        cat_col=categorical_col_nna_2,num_col=numeric_col_nna_2)\n",
    "\n",
    "\n",
    "# Tuning\n",
    "preprocessor_rmf_nna_woe2 = param_tuning(X_train_nna_woe2,y_train_nna, \n",
    "                                        RandomForestClassifier(),param_grid_rmf,\n",
    "                                        cat_col=categorical_col_nna_woe2,num_col=numeric_col_nna_woe2)"
   ]
  },
  {
   "cell_type": "code",
   "execution_count": 224,
   "metadata": {},
   "outputs": [],
   "source": [
    "# Training & testing\n",
    "# With no missing\n",
    "model_rmf_nna_2 = RandomForestClassifier(\n",
    "                        max_features=None, \n",
    "                        n_estimators = 150,\n",
    "                                        )\n",
    "y_pred_rmf_nna_2 = testing(X_train_nna_2,y_train_nna, X_test_nna_2,y_test_nna, model=model_rmf_nna_2, preprocessor=preprocessor_rmf_nna_2)\n",
    "\n",
    "# With WOE\n",
    "model_rmf_nna_woe2 = RandomForestClassifier(\n",
    "                        max_features=None, \n",
    "                        n_estimators = 200,\n",
    "                                        )\n",
    "y_pred_rmf_nna_woe2 = testing(X_train_nna_woe2,y_train_nna, X_test_nna_woe2,y_test_nna, model=model_rmf_nna_woe2, preprocessor=preprocessor_rmf_nna_woe2)"
   ]
  },
  {
   "cell_type": "code",
   "execution_count": 225,
   "metadata": {},
   "outputs": [
    {
     "name": "stdout",
     "output_type": "stream",
     "text": [
      "Logistic Regression Model bsl Evaluation\n"
     ]
    },
    {
     "data": {
      "text/plain": [
       "<Figure size 800x600 with 0 Axes>"
      ]
     },
     "metadata": {},
     "output_type": "display_data"
    },
    {
     "data": {
      "image/png": "[encoded data removed]",
      "text/plain": [
       "<Figure size 640x480 with 2 Axes>"
      ]
     },
     "metadata": {},
     "output_type": "display_data"
    },
    {
     "name": "stdout",
     "output_type": "stream",
     "text": [
      "              precision    recall  f1-score   support\n",
      "\n",
      "         0.0       0.92      0.97      0.95      2515\n",
      "         1.0       0.87      0.67      0.76       652\n",
      "\n",
      "    accuracy                           0.91      3167\n",
      "   macro avg       0.90      0.82      0.85      3167\n",
      "weighted avg       0.91      0.91      0.91      3167\n",
      "\n",
      "******************************************************************************************************************************************************\n",
      "Logistic Regression Model bsl Evaluation, all\n"
     ]
    },
    {
     "data": {
      "text/plain": [
       "<Figure size 800x600 with 0 Axes>"
      ]
     },
     "metadata": {},
     "output_type": "display_data"
    },
    {
     "data": {
      "image/png": "[encoded data removed]",
      "text/plain": [
       "<Figure size 640x480 with 2 Axes>"
      ]
     },
     "metadata": {},
     "output_type": "display_data"
    },
    {
     "name": "stdout",
     "output_type": "stream",
     "text": [
      "              precision    recall  f1-score   support\n",
      "\n",
      "         0.0       0.92      0.97      0.95      2515\n",
      "         1.0       0.87      0.67      0.76       652\n",
      "\n",
      "    accuracy                           0.91      3167\n",
      "   macro avg       0.90      0.82      0.85      3167\n",
      "weighted avg       0.91      0.91      0.91      3167\n",
      "\n"
     ]
    }
   ],
   "source": [
    "print('Logistic Regression Model bsl Evaluation')\n",
    "evaluating(y_pred_rmf_nna_2,y_test_nna) \n",
    "\n",
    "\n",
    "print('*'*150)\n",
    "print('Logistic Regression Model bsl Evaluation, all')\n",
    "evaluating(y_pred_rmf_nna_woe2, y_test_nna) "
   ]
  },
  {
   "cell_type": "markdown",
   "metadata": {},
   "source": [
    "NICEEEE, recall is still a weakness here, which is kinda bad. "
   ]
  },
  {
   "cell_type": "markdown",
   "metadata": {},
   "source": [
    "### KNN"
   ]
  },
  {
   "cell_type": "code",
   "execution_count": 226,
   "metadata": {},
   "outputs": [
    {
     "name": "stdout",
     "output_type": "stream",
     "text": [
      "Best parameters found:  {'classifier__n_neighbors': 15, 'classifier__weights': 'distance'}\n",
      "Best parameters found:  {'classifier__n_neighbors': 20, 'classifier__weights': 'distance'}\n"
     ]
    }
   ],
   "source": [
    "# Define grid search parameters 6mins\n",
    "# Tuning\n",
    "preprocessor_knn_nna_2 = param_tuning(X_train_nna_2,y_train_nna, KNeighborsClassifier(),param_grid_knn,cat_col=categorical_col_nna_2,num_col=numeric_col_nna_2)\n",
    "\n",
    "# With WOE\n",
    "# Tuning\n",
    "preprocessor_knn_nna_woe2 = param_tuning(X_train_nna_woe2,y_train_nna, KNeighborsClassifier(),param_grid_knn,cat_col=categorical_col_nna_woe2,num_col=numeric_col_nna_woe2)"
   ]
  },
  {
   "cell_type": "code",
   "execution_count": 227,
   "metadata": {},
   "outputs": [],
   "source": [
    "# Training & testing\n",
    "# With no missing\n",
    "model_knn_nna_2 = KNeighborsClassifier(\n",
    "                        n_neighbors=15, \n",
    "                        weights = 'distance',\n",
    "                                        )\n",
    "y_pred_knn_nna_2 = testing(X_train_nna_2,y_train_nna, X_test_nna_2,y_test_nna, model=model_knn_nna_2, preprocessor=preprocessor_knn_nna_2)\n",
    "\n",
    "# With WOE\n",
    "model_knn_nna_woe2 = KNeighborsClassifier(\n",
    "                        n_neighbors=20, \n",
    "                        weights = 'distance',\n",
    "                                        )\n",
    "y_pred_knn_nna_woe2 = testing(X_train_nna_woe2,y_train_nna, X_test_nna_woe2,y_test_nna, model=model_knn_nna_woe2, preprocessor=preprocessor_knn_nna_woe2)"
   ]
  },
  {
   "cell_type": "code",
   "execution_count": 229,
   "metadata": {},
   "outputs": [
    {
     "name": "stdout",
     "output_type": "stream",
     "text": [
      "Logistic Regression Model bsl Evaluation\n"
     ]
    },
    {
     "data": {
      "text/plain": [
       "<Figure size 800x600 with 0 Axes>"
      ]
     },
     "metadata": {},
     "output_type": "display_data"
    },
    {
     "data": {
      "image/png": "[encoded data removed]",
      "text/plain": [
       "<Figure size 640x480 with 2 Axes>"
      ]
     },
     "metadata": {},
     "output_type": "display_data"
    },
    {
     "name": "stdout",
     "output_type": "stream",
     "text": [
      "              precision    recall  f1-score   support\n",
      "\n",
      "         0.0       0.88      0.97      0.92      2515\n",
      "         1.0       0.82      0.47      0.60       652\n",
      "\n",
      "    accuracy                           0.87      3167\n",
      "   macro avg       0.85      0.72      0.76      3167\n",
      "weighted avg       0.86      0.87      0.86      3167\n",
      "\n",
      "******************************************************************************************************************************************************\n",
      "Logistic Regression Model bsl Evaluation, all\n"
     ]
    },
    {
     "data": {
      "text/plain": [
       "<Figure size 800x600 with 0 Axes>"
      ]
     },
     "metadata": {},
     "output_type": "display_data"
    },
    {
     "data": {
      "image/png": "[encoded data removed]",
      "text/plain": [
       "<Figure size 640x480 with 2 Axes>"
      ]
     },
     "metadata": {},
     "output_type": "display_data"
    },
    {
     "name": "stdout",
     "output_type": "stream",
     "text": [
      "              precision    recall  f1-score   support\n",
      "\n",
      "         0.0       0.88      0.98      0.92      2515\n",
      "         1.0       0.83      0.46      0.60       652\n",
      "\n",
      "    accuracy                           0.87      3167\n",
      "   macro avg       0.85      0.72      0.76      3167\n",
      "weighted avg       0.87      0.87      0.86      3167\n",
      "\n"
     ]
    }
   ],
   "source": [
    "print('Logistic Regression Model bsl Evaluation')\n",
    "evaluating(y_pred_knn_nna_2,y_test_nna) \n",
    "\n",
    "\n",
    "print('*'*150)\n",
    "print('Logistic Regression Model bsl Evaluation, all')\n",
    "evaluating(y_pred_knn_nna_woe2, y_test_nna) "
   ]
  },
  {
   "cell_type": "markdown",
   "metadata": {},
   "source": [
    "## Final Model\n",
    "Random Forest with 'customer_income','loan_int_rate','employment_duration','loan_amnt', loan_intent and home_ownership"
   ]
  },
  {
   "cell_type": "code",
   "execution_count": 234,
   "metadata": {},
   "outputs": [
    {
     "data": {
      "text/plain": [
       "['preprocessor_final.pkl']"
      ]
     },
     "execution_count": 234,
     "metadata": {},
     "output_type": "execute_result"
    }
   ],
   "source": [
    "# # Export preprocessor \n",
    "# joblib.dump(preprocessor_rmf_nna_2,'preprocessor_final.pkl')"
   ]
  },
  {
   "cell_type": "code",
   "execution_count": 301,
   "metadata": {},
   "outputs": [
    {
     "data": {
      "text/html": [
       "<div>\n",
       "<style scoped>\n",
       "    .dataframe tbody tr th:only-of-type {\n",
       "        vertical-align: middle;\n",
       "    }\n",
       "\n",
       "    .dataframe tbody tr th {\n",
       "        vertical-align: top;\n",
       "    }\n",
       "\n",
       "    .dataframe thead th {\n",
       "        text-align: right;\n",
       "    }\n",
       "</style>\n",
       "<table border=\"1\" class=\"dataframe\">\n",
       "  <thead>\n",
       "    <tr style=\"text-align: right;\">\n",
       "      <th></th>\n",
       "      <th>customer_age</th>\n",
       "      <th>customer_income</th>\n",
       "      <th>home_ownership</th>\n",
       "      <th>employment_duration</th>\n",
       "      <th>loan_intent</th>\n",
       "      <th>loan_grade</th>\n",
       "      <th>loan_amnt</th>\n",
       "      <th>loan_int_rate</th>\n",
       "      <th>term_years</th>\n",
       "      <th>historical_default</th>\n",
       "      <th>cred_hist_length</th>\n",
       "    </tr>\n",
       "  </thead>\n",
       "  <tbody>\n",
       "    <tr>\n",
       "      <th>21791</th>\n",
       "      <td>27</td>\n",
       "      <td>60000</td>\n",
       "      <td>RENT</td>\n",
       "      <td>6.0</td>\n",
       "      <td>PERSONAL</td>\n",
       "      <td>A</td>\n",
       "      <td>6000.0</td>\n",
       "      <td>8.94</td>\n",
       "      <td>7</td>\n",
       "      <td>N</td>\n",
       "      <td>9</td>\n",
       "    </tr>\n",
       "    <tr>\n",
       "      <th>22076</th>\n",
       "      <td>29</td>\n",
       "      <td>52000</td>\n",
       "      <td>MORTGAGE</td>\n",
       "      <td>6.0</td>\n",
       "      <td>VENTURE</td>\n",
       "      <td>D</td>\n",
       "      <td>12000.0</td>\n",
       "      <td>15.65</td>\n",
       "      <td>9</td>\n",
       "      <td>N</td>\n",
       "      <td>8</td>\n",
       "    </tr>\n",
       "    <tr>\n",
       "      <th>23069</th>\n",
       "      <td>29</td>\n",
       "      <td>60000</td>\n",
       "      <td>OWN</td>\n",
       "      <td>9.0</td>\n",
       "      <td>PERSONAL</td>\n",
       "      <td>C</td>\n",
       "      <td>9000.0</td>\n",
       "      <td>12.23</td>\n",
       "      <td>9</td>\n",
       "      <td>N</td>\n",
       "      <td>10</td>\n",
       "    </tr>\n",
       "    <tr>\n",
       "      <th>65478</th>\n",
       "      <td>29</td>\n",
       "      <td>6000</td>\n",
       "      <td>RENT</td>\n",
       "      <td>2.0</td>\n",
       "      <td>PERSONAL</td>\n",
       "      <td>D</td>\n",
       "      <td>90000.0</td>\n",
       "      <td>11.20</td>\n",
       "      <td>9</td>\n",
       "      <td>N</td>\n",
       "      <td>5</td>\n",
       "    </tr>\n",
       "  </tbody>\n",
       "</table>\n",
       "</div>"
      ],
      "text/plain": [
       "       customer_age  customer_income home_ownership  employment_duration  \\\n",
       "21791            27            60000           RENT                  6.0   \n",
       "22076            29            52000       MORTGAGE                  6.0   \n",
       "23069            29            60000            OWN                  9.0   \n",
       "65478            29             6000           RENT                  2.0   \n",
       "\n",
       "      loan_intent loan_grade  loan_amnt  loan_int_rate  term_years  \\\n",
       "21791    PERSONAL          A     6000.0           8.94           7   \n",
       "22076     VENTURE          D    12000.0          15.65           9   \n",
       "23069    PERSONAL          C     9000.0          12.23           9   \n",
       "65478    PERSONAL          D    90000.0          11.20           9   \n",
       "\n",
       "      historical_default  cred_hist_length  \n",
       "21791                  N                 9  \n",
       "22076                  N                 8  \n",
       "23069                  N                10  \n",
       "65478                  N                 5  "
      ]
     },
     "execution_count": 301,
     "metadata": {},
     "output_type": "execute_result"
    }
   ],
   "source": [
    "numeric_col_f = ['customer_income','loan_int_rate','employment_duration','loan_amnt']\n",
    "categorical_col_f = ['loan_intent','home_ownership']\n",
    "# X_f = risk_nna[numeric_col_f+categorical_col_f]\n",
    "# y_f=risk_nna['Current_loan_status_encoded']\n",
    "\n",
    "X_pr.loc[65478] = [29,6000, 'RENT', 2.0, 'PERSONAL','D',90000,11.2,9,'N',5] # To show 1 positive prediction\n",
    "X_pr_final = X_pr[numeric_col_f+categorical_col_f].copy()\n",
    "X_pr"
   ]
  },
  {
   "cell_type": "code",
   "execution_count": 298,
   "metadata": {},
   "outputs": [],
   "source": [
    "# Preprocessing\n",
    "preprocessor_f = joblib.load('preprocessor_final.pkl')\n",
    "# X_f_transformed = preprocessor_f.fit_transform(X_f)\n",
    "X_pr_transformed = preprocessor_f.transform(X_pr_final)"
   ]
  },
  {
   "cell_type": "code",
   "execution_count": 242,
   "metadata": {},
   "outputs": [
    {
     "data": {
      "text/plain": [
       "['model_final.pkl']"
      ]
     },
     "execution_count": 242,
     "metadata": {},
     "output_type": "execute_result"
    }
   ],
   "source": [
    "# # Final Model Establishment\n",
    "# model_f = RandomForestClassifier(\n",
    "#                         max_features=None, \n",
    "#                         n_estimators = 150,\n",
    "#                                         )\n",
    "\n",
    "# model_f.fit(X_f_transformed, y_f)\n",
    "\n",
    "# joblib.dump(model_f,'model_final.pkl')"
   ]
  },
  {
   "cell_type": "code",
   "execution_count": 299,
   "metadata": {},
   "outputs": [
    {
     "data": {
      "text/plain": [
       "array([0., 0., 0., 1.])"
      ]
     },
     "execution_count": 299,
     "metadata": {},
     "output_type": "execute_result"
    }
   ],
   "source": [
    "model_f = joblib.load('model_final.pkl')\n",
    "model_f.predict(X_pr_transformed)"
   ]
  },
  {
   "cell_type": "code",
   "execution_count": null,
   "metadata": {},
   "outputs": [],
   "source": []
  },
  {
   "cell_type": "code",
   "execution_count": null,
   "metadata": {},
   "outputs": [],
   "source": []
  },
  {
   "cell_type": "code",
   "execution_count": null,
   "metadata": {},
   "outputs": [],
   "source": []
  },
  {
   "cell_type": "code",
   "execution_count": null,
   "metadata": {},
   "outputs": [],
   "source": []
  },
  {
   "cell_type": "code",
   "execution_count": null,
   "metadata": {},
   "outputs": [],
   "source": []
  },
  {
   "cell_type": "code",
   "execution_count": null,
   "metadata": {},
   "outputs": [],
   "source": []
  },
  {
   "cell_type": "code",
   "execution_count": null,
   "metadata": {},
   "outputs": [],
   "source": []
  },
  {
   "cell_type": "code",
   "execution_count": null,
   "metadata": {},
   "outputs": [],
   "source": []
  },
  {
   "cell_type": "code",
   "execution_count": null,
   "metadata": {},
   "outputs": [],
   "source": []
  },
  {
   "cell_type": "code",
   "execution_count": null,
   "metadata": {},
   "outputs": [],
   "source": []
  },
  {
   "cell_type": "code",
   "execution_count": null,
   "metadata": {},
   "outputs": [],
   "source": []
  },
  {
   "cell_type": "code",
   "execution_count": null,
   "metadata": {},
   "outputs": [],
   "source": []
  },
  {
   "cell_type": "code",
   "execution_count": null,
   "metadata": {},
   "outputs": [],
   "source": []
  },
  {
   "cell_type": "code",
   "execution_count": null,
   "metadata": {},
   "outputs": [],
   "source": []
  },
  {
   "cell_type": "code",
   "execution_count": null,
   "metadata": {},
   "outputs": [],
   "source": []
  },
  {
   "cell_type": "code",
   "execution_count": null,
   "metadata": {},
   "outputs": [],
   "source": []
  },
  {
   "cell_type": "code",
   "execution_count": null,
   "metadata": {},
   "outputs": [],
   "source": []
  },
  {
   "cell_type": "code",
   "execution_count": null,
   "metadata": {},
   "outputs": [],
   "source": []
  },
  {
   "cell_type": "code",
   "execution_count": null,
   "metadata": {},
   "outputs": [],
   "source": []
  },
  {
   "cell_type": "code",
   "execution_count": null,
   "metadata": {},
   "outputs": [],
   "source": []
  },
  {
   "cell_type": "code",
   "execution_count": null,
   "metadata": {},
   "outputs": [],
   "source": []
  },
  {
   "cell_type": "code",
   "execution_count": null,
   "metadata": {},
   "outputs": [],
   "source": []
  },
  {
   "cell_type": "code",
   "execution_count": null,
   "metadata": {},
   "outputs": [],
   "source": []
  },
  {
   "cell_type": "code",
   "execution_count": null,
   "metadata": {},
   "outputs": [],
   "source": []
  },
  {
   "cell_type": "code",
   "execution_count": null,
   "metadata": {},
   "outputs": [],
   "source": []
  },
  {
   "cell_type": "code",
   "execution_count": null,
   "metadata": {},
   "outputs": [],
   "source": []
  },
  {
   "cell_type": "code",
   "execution_count": null,
   "metadata": {},
   "outputs": [],
   "source": []
  },
  {
   "cell_type": "code",
   "execution_count": null,
   "metadata": {},
   "outputs": [],
   "source": []
  },
  {
   "cell_type": "code",
   "execution_count": null,
   "metadata": {},
   "outputs": [],
   "source": []
  },
  {
   "cell_type": "code",
   "execution_count": null,
   "metadata": {},
   "outputs": [],
   "source": []
  },
  {
   "cell_type": "code",
   "execution_count": null,
   "metadata": {},
   "outputs": [],
   "source": []
  },
  {
   "cell_type": "code",
   "execution_count": null,
   "metadata": {},
   "outputs": [],
   "source": []
  },
  {
   "cell_type": "code",
   "execution_count": null,
   "metadata": {},
   "outputs": [],
   "source": []
  },
  {
   "cell_type": "code",
   "execution_count": null,
   "metadata": {},
   "outputs": [],
   "source": []
  },
  {
   "cell_type": "code",
   "execution_count": null,
   "metadata": {},
   "outputs": [],
   "source": []
  },
  {
   "cell_type": "code",
   "execution_count": null,
   "metadata": {},
   "outputs": [],
   "source": []
  },
  {
   "cell_type": "code",
   "execution_count": null,
   "metadata": {},
   "outputs": [],
   "source": []
  },
  {
   "cell_type": "code",
   "execution_count": null,
   "metadata": {},
   "outputs": [],
   "source": []
  },
  {
   "cell_type": "code",
   "execution_count": null,
   "metadata": {},
   "outputs": [],
   "source": []
  },
  {
   "cell_type": "code",
   "execution_count": null,
   "metadata": {},
   "outputs": [],
   "source": []
  },
  {
   "cell_type": "code",
   "execution_count": null,
   "metadata": {},
   "outputs": [],
   "source": []
  },
  {
   "cell_type": "code",
   "execution_count": null,
   "metadata": {},
   "outputs": [],
   "source": []
  },
  {
   "cell_type": "code",
   "execution_count": null,
   "metadata": {},
   "outputs": [],
   "source": []
  },
  {
   "cell_type": "code",
   "execution_count": null,
   "metadata": {},
   "outputs": [],
   "source": []
  },
  {
   "cell_type": "code",
   "execution_count": null,
   "metadata": {},
   "outputs": [],
   "source": []
  },
  {
   "cell_type": "code",
   "execution_count": null,
   "metadata": {},
   "outputs": [],
   "source": []
  },
  {
   "cell_type": "code",
   "execution_count": null,
   "metadata": {},
   "outputs": [],
   "source": []
  },
  {
   "cell_type": "code",
   "execution_count": null,
   "metadata": {},
   "outputs": [],
   "source": []
  },
  {
   "cell_type": "code",
   "execution_count": null,
   "metadata": {},
   "outputs": [],
   "source": []
  },
  {
   "cell_type": "code",
   "execution_count": null,
   "metadata": {},
   "outputs": [],
   "source": []
  },
  {
   "cell_type": "code",
   "execution_count": null,
   "metadata": {},
   "outputs": [],
   "source": []
  },
  {
   "cell_type": "code",
   "execution_count": null,
   "metadata": {},
   "outputs": [],
   "source": []
  },
  {
   "cell_type": "code",
   "execution_count": null,
   "metadata": {},
   "outputs": [],
   "source": []
  },
  {
   "cell_type": "code",
   "execution_count": null,
   "metadata": {},
   "outputs": [],
   "source": []
  },
  {
   "cell_type": "code",
   "execution_count": null,
   "metadata": {},
   "outputs": [],
   "source": []
  },
  {
   "cell_type": "code",
   "execution_count": null,
   "metadata": {},
   "outputs": [],
   "source": []
  },
  {
   "cell_type": "code",
   "execution_count": null,
   "metadata": {},
   "outputs": [],
   "source": []
  },
  {
   "cell_type": "code",
   "execution_count": null,
   "metadata": {},
   "outputs": [],
   "source": []
  },
  {
   "cell_type": "code",
   "execution_count": null,
   "metadata": {},
   "outputs": [],
   "source": []
  },
  {
   "cell_type": "code",
   "execution_count": null,
   "metadata": {},
   "outputs": [],
   "source": []
  },
  {
   "cell_type": "code",
   "execution_count": null,
   "metadata": {},
   "outputs": [],
   "source": []
  },
  {
   "cell_type": "code",
   "execution_count": null,
   "metadata": {},
   "outputs": [],
   "source": []
  },
  {
   "cell_type": "code",
   "execution_count": null,
   "metadata": {},
   "outputs": [],
   "source": []
  },
  {
   "cell_type": "code",
   "execution_count": null,
   "metadata": {},
   "outputs": [],
   "source": []
  },
  {
   "cell_type": "code",
   "execution_count": null,
   "metadata": {},
   "outputs": [],
   "source": []
  },
  {
   "cell_type": "code",
   "execution_count": null,
   "metadata": {},
   "outputs": [],
   "source": []
  },
  {
   "cell_type": "code",
   "execution_count": null,
   "metadata": {},
   "outputs": [],
   "source": []
  },
  {
   "cell_type": "code",
   "execution_count": null,
   "metadata": {},
   "outputs": [],
   "source": []
  },
  {
   "cell_type": "code",
   "execution_count": null,
   "metadata": {},
   "outputs": [],
   "source": []
  },
  {
   "cell_type": "code",
   "execution_count": null,
   "metadata": {},
   "outputs": [],
   "source": []
  },
  {
   "cell_type": "code",
   "execution_count": null,
   "metadata": {},
   "outputs": [],
   "source": []
  },
  {
   "cell_type": "code",
   "execution_count": null,
   "metadata": {},
   "outputs": [],
   "source": []
  },
  {
   "cell_type": "code",
   "execution_count": null,
   "metadata": {},
   "outputs": [],
   "source": []
  },
  {
   "cell_type": "code",
   "execution_count": null,
   "metadata": {},
   "outputs": [],
   "source": []
  },
  {
   "cell_type": "code",
   "execution_count": null,
   "metadata": {},
   "outputs": [],
   "source": []
  },
  {
   "cell_type": "code",
   "execution_count": null,
   "metadata": {},
   "outputs": [],
   "source": []
  },
  {
   "cell_type": "code",
   "execution_count": null,
   "metadata": {},
   "outputs": [],
   "source": []
  },
  {
   "cell_type": "code",
   "execution_count": null,
   "metadata": {},
   "outputs": [],
   "source": []
  },
  {
   "cell_type": "code",
   "execution_count": null,
   "metadata": {},
   "outputs": [],
   "source": []
  },
  {
   "cell_type": "code",
   "execution_count": null,
   "metadata": {},
   "outputs": [],
   "source": []
  },
  {
   "cell_type": "code",
   "execution_count": null,
   "metadata": {},
   "outputs": [],
   "source": []
  },
  {
   "cell_type": "code",
   "execution_count": null,
   "metadata": {},
   "outputs": [],
   "source": []
  },
  {
   "cell_type": "code",
   "execution_count": null,
   "metadata": {},
   "outputs": [],
   "source": []
  },
  {
   "cell_type": "code",
   "execution_count": null,
   "metadata": {},
   "outputs": [],
   "source": []
  },
  {
   "cell_type": "code",
   "execution_count": null,
   "metadata": {},
   "outputs": [
    {
     "name": "stdout",
     "output_type": "stream",
     "text": [
      "(CVXPY) Aug 10 09:53:09 AM: Encountered unexpected exception importing solver GLOP:\n",
      "RuntimeError('Unrecognized new version of ortools (9.10.4067). Expected < 9.10.0. Please open a feature request on cvxpy to enable support for this version.')\n",
      "(CVXPY) Aug 10 09:53:09 AM: Encountered unexpected exception importing solver PDLP:\n",
      "RuntimeError('Unrecognized new version of ortools (9.10.4067). Expected < 9.10.0. Please open a feature request on cvxpy to enable support for this version.')\n"
     ]
    }
   ],
   "source": [
    "# pip install category_encoders\n",
    "# pip install optbinning\n",
    "import category_encoders as ce\n",
    "from optbinning import BinningProcess"
   ]
  }
 ],
 "metadata": {
  "kernelspec": {
   "display_name": "base",
   "language": "python",
   "name": "python3"
  },
  "language_info": {
   "codemirror_mode": {
    "name": "ipython",
    "version": 3
   },
   "file_extension": ".py",
   "mimetype": "text/x-python",
   "name": "python",
   "nbconvert_exporter": "python",
   "pygments_lexer": "ipython3",
   "version": "3.9.13"
  }
 },
 "nbformat": 4,
 "nbformat_minor": 2
}
